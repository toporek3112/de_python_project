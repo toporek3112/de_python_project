{
 "cells": [
  {
   "cell_type": "markdown",
   "id": "e12ece56-fcd4-4665-bf8b-773b5e8c789d",
   "metadata": {
    "tags": []
   },
   "source": [
    "# Project 1 - Data Engineering\n",
    "## 2 Data Exploration and Analysis\n",
    "This notebook is for the implementation of task \"2 Data Exploration and Analysis\", as listed in the **Project Instructions**."
   ]
  },
  {
   "cell_type": "markdown",
   "id": "45dfc955-b808-45ff-b0d8-c2425da31416",
   "metadata": {},
   "source": [
    "<div class=\"alert alert-success\">\n",
    "<b>Overview:</b><br>\n",
    "Data Exploration and Analysis consists of the following parts worth 70 points:\n",
    "<ul>\n",
    "    <li><b>E1 - Obtain and Scrub</b> (15 points)</li>\n",
    "    <li><b>E2 - Exploratory data analysis (EDA) </b>(20 points)</li>\n",
    "    <li><b>E3 - Formulate hypotheses </b>(25 points)</li>\n",
    "    <li><b>Follow the guidelines for Data Exploration and Analysis below </b>(10 points)</li>\n",
    "</ul></div>"
   ]
  },
  {
   "cell_type": "markdown",
   "id": "3c8a055f",
   "metadata": {},
   "source": [
    "<div class=\"alert alert-success\">\n",
    "<b>Guidelines for Data Exploration and Analysis:</b><br>\n",
    "    <ol>\n",
    "        <li>Use a single Jupyer notebook for your project.</li>\n",
    "        <li>Use only Python-code for your project.</li>\n",
    "        <li>The use of automatic and semi-automatic data analyis tools is not allowed (e. g., PandasGUI, D-Tale, Mito, etc.). Only use packages we used in the coded lectures.</li>\n",
    "        <li>Export your environment for submission as 'prj01-environment.txt'.</li>\n",
    "        <li>Upload your resulting work as a zip file containing only a single jupyter notebook and required files to run the notebook. All cell outputs and <b>figures must display in jupyter lab</b>. (Test this, in particular when you use another environment like VS Code.)</li>\n",
    "        <li>All code cells in your notebook must be runnable without errors or warnings (e. g., deprecated functions). Each error/warning subtracts -2 points (up to the full 10 points for following the  guidelines).</li>\n",
    "        <li>Use only relative paths in your project.</li>\n",
    "        <li>Avoid (excessive) code duplication.</li>\n",
    "        <li>Avoid loops iterating over pandas objects (Series, DataFrames). Explicitly justify each exception via a comment. </li>\n",
    "        <li>All coded steps in your analysis must be commented.</li>\n",
    "        <li>Keep your code as well as outputs short, precise and readable. Each long or unnecessary output subtracts -2 points (up to the full 10 points for following the project guidelines).</li>\n",
    "    </ol>\n",
    "    <b>Late submissions are not accepted and earn you 0 points on the python project. </b>\n",
    "</div>"
   ]
  },
  {
   "cell_type": "markdown",
   "id": "ea992ba9-f942-445d-a515-16dc32837466",
   "metadata": {},
   "source": [
    "Explicitly list which notebook toolset was used (jupyter lab/jupyter notebook/VS Code/etc.) \n",
    "\n",
    "**here**: MY_TOOL, MY_BROWSER"
   ]
  },
  {
   "cell_type": "markdown",
   "id": "92f63424-1d61-4b8b-94a6-f50afea65d79",
   "metadata": {
    "tags": []
   },
   "source": [
    "Explicitly and clearly state the chosen dataset number and title:\n",
    "### Health DG \n",
    "## 99. Alzheimer's Disease and Healthy Aging Data\n"
   ]
  },
  {
   "cell_type": "markdown",
   "id": "0999a549-323a-4537-963f-3a1a746b77fd",
   "metadata": {},
   "source": [
    "## E1 - Obtain and Scrub"
   ]
  },
  {
   "attachments": {
    "8eab5647-0d31-4875-a3ac-990349e90b76.png": {
     "image/png": "[encoded data removed]"
    }
   },
   "cell_type": "markdown",
   "id": "937713cc-715f-4930-ae10-ebeeaec55685",
   "metadata": {},
   "source": [
    "### Obtain\n",
    "Download the dataset and understand both: \n",
    "- format: wide vs. long, separaters, decimal points, encoding, etc., and \n",
    "- content: what variables are in the columns, what is their meaning?\n",
    "To this end, identify and download metadata such as headers, category listings, explanatory reports, etc.\n",
    "### Scrub\n",
    "The aim of scrub is to create a clean version of the data for further analysis. \n",
    "- Load the dataset and take care of dtypes (dates, numbers, categories, etc.). Justify why you don't load/use specific columns.\n",
    "- Check for footnotes or any other notifications on special cell content, such as time series breaks. Follow up that information, and document your decision how to deal with it. Remember: The homework 4 contained such info in the cell \"76.1 b\". The metadata defines what that \"b\" stands for.\n",
    "  \n",
    "![image.png](attachment:8eab5647-0d31-4875-a3ac-990349e90b76.png)\n",
    "- Choose an appropriate (Multi-)Index.\n",
    "- Identify:\n",
    "    1. missing values and get row and column overviews. Use graphical and/or numeric approaches. Once identified, handle missing values according to column type, time series property and data set size.\n",
    "    2. duplicates (justify the used column subset). Remove duplicates - if any - and inspect what you removed.\n",
    "- Transform to shape (tidy vs. wide) best suited for further analysis.\n",
    "- Export the clean data to a file for inspection with an external data browser (e.g., MS Excel).\n",
    "- Provide an overview of the clean dataset:\n",
    "    1. show the dtypes\n",
    "    2. quantitative column descriptions: \n",
    "        1. categorical columns: number of unique values, counts \n",
    "        2. numeric columns: range and median"
   ]
  },
  {
   "cell_type": "code",
   "execution_count": 130,
   "id": "7b5a330e",
   "metadata": {},
   "outputs": [],
   "source": [
    "# Load necessary packages\n",
    "import pandas as pd\n",
    "import matplotlib.pyplot as plt\n",
    "import seaborn as sns\n",
    "import plotly.express as px\n",
    "from scipy.stats import pearsonr\n",
    "import numpy as np\n",
    "from scipy import stats"
   ]
  },
  {
   "cell_type": "code",
   "execution_count": 131,
   "id": "cec63c55-0a55-4b05-943f-565ed1aa2b06",
   "metadata": {},
   "outputs": [
    {
     "name": "stderr",
     "output_type": "stream",
     "text": [
      "C:\\Users\\sbart\\AppData\\Local\\Temp\\ipykernel_6996\\3156040828.py:7: DtypeWarning:\n",
      "\n",
      "Columns (17,18) have mixed types. Specify dtype option on import or set low_memory=False.\n",
      "\n"
     ]
    }
   ],
   "source": [
    "# Set display options to better analize the dataset\n",
    "pd.set_option('display.max_columns', None)\n",
    "pd.set_option('display.max_rows', None)\n",
    "pd.set_option('display.max_colwidth', None)\n",
    "\n",
    "# Load dataset\n",
    "data = pd.read_csv('Alzheimer_s_Disease_and_Healthy_Aging_Data.csv')"
   ]
  },
  {
   "cell_type": "code",
   "execution_count": 132,
   "id": "5c707a64",
   "metadata": {},
   "outputs": [
    {
     "name": "stdout",
     "output_type": "stream",
     "text": [
      "<class 'pandas.core.frame.DataFrame'>\n",
      "RangeIndex: 250937 entries, 0 to 250936\n",
      "Data columns (total 39 columns):\n",
      " #   Column                      Non-Null Count   Dtype  \n",
      "---  ------                      --------------   -----  \n",
      " 0   RowId                       250937 non-null  object \n",
      " 1   YearStart                   250937 non-null  int64  \n",
      " 2   YearEnd                     250937 non-null  int64  \n",
      " 3   LocationAbbr                250937 non-null  object \n",
      " 4   LocationDesc                250937 non-null  object \n",
      " 5   Datasource                  250937 non-null  object \n",
      " 6   Class                       250937 non-null  object \n",
      " 7   Topic                       250937 non-null  object \n",
      " 8   Question                    250937 non-null  object \n",
      " 9   Response                    0 non-null       float64\n",
      " 10  Data_Value_Unit             250937 non-null  object \n",
      " 11  DataValueTypeID             250937 non-null  object \n",
      " 12  Data_Value_Type             250937 non-null  object \n",
      " 13  Data_Value                  169302 non-null  float64\n",
      " 14  Data_Value_Alt              169302 non-null  float64\n",
      " 15  Data_Value_Footnote_Symbol  99114 non-null   object \n",
      " 16  Data_Value_Footnote         99114 non-null   object \n",
      " 17  Low_Confidence_Limit        169152 non-null  object \n",
      " 18  High_Confidence_Limit       169152 non-null  object \n",
      " 19  Sample_Size                 0 non-null       float64\n",
      " 20  StratificationCategory1     250937 non-null  object \n",
      " 21  Stratification1             250937 non-null  object \n",
      " 22  StratificationCategory2     218561 non-null  object \n",
      " 23  Stratification2             218561 non-null  object \n",
      " 24  StratificationCategory3     0 non-null       float64\n",
      " 25  Stratification3             0 non-null       float64\n",
      " 26  Geolocation                 224228 non-null  object \n",
      " 27  ClassID                     250937 non-null  object \n",
      " 28  TopicID                     250937 non-null  object \n",
      " 29  QuestionID                  250937 non-null  object \n",
      " 30  ResponseID                  0 non-null       float64\n",
      " 31  LocationID                  250937 non-null  int64  \n",
      " 32  StratificationCategoryID1   250937 non-null  object \n",
      " 33  StratificationID1           250937 non-null  object \n",
      " 34  StratificationCategoryID2   250937 non-null  object \n",
      " 35  StratificationID2           250937 non-null  object \n",
      " 36  StratificationCategoryID3   0 non-null       float64\n",
      " 37  StratificationID3           0 non-null       float64\n",
      " 38  Report                      0 non-null       float64\n",
      "dtypes: float64(10), int64(3), object(26)\n",
      "memory usage: 74.7+ MB\n"
     ]
    }
   ],
   "source": [
    "# Check Dtypes\n",
    "data_info = data.info()"
   ]
  },
  {
   "cell_type": "code",
   "execution_count": 133,
   "id": "c2bfc69d",
   "metadata": {},
   "outputs": [
    {
     "data": {
      "image/png": "[encoded data removed]",
      "text/plain": [
       "<Figure size 600x1500 with 1 Axes>"
      ]
     },
     "metadata": {},
     "output_type": "display_data"
    }
   ],
   "source": [
    "\n",
    "# data_description = data.describe(include='all')\n",
    "# data.isnull().sum()\n",
    "\n",
    "# Visualize missing values in heatmap\n",
    "plt.figure(figsize=(6, 15))\n",
    "sns.heatmap(data.T.isnull(), cbar=False, cmap='coolwarm')\n",
    "plt.show()"
   ]
  },
  {
   "cell_type": "code",
   "execution_count": 134,
   "id": "cd8cfd60",
   "metadata": {},
   "outputs": [
    {
     "data": {
      "text/plain": [
       "array(['BRFSS'], dtype=object)"
      ]
     },
     "execution_count": 134,
     "metadata": {},
     "output_type": "execute_result"
    }
   ],
   "source": [
    "# data.select_dtypes(include=['float64', 'int64']).columns\n",
    "data['Datasource'].unique()"
   ]
  },
  {
   "cell_type": "code",
   "execution_count": 135,
   "id": "be307726-e24e-4ad5-adb2-0cf9df4b9af5",
   "metadata": {},
   "outputs": [],
   "source": [
    "# Droping columns where all rows have the value null\n",
    "columns_to_drop = [ \n",
    "            'Datasource', # Droping because all rows have the same value (BRFSS)\n",
    "            'Response', \n",
    "            'Sample_Size', \n",
    "            'StratificationCategory3', \n",
    "            'Stratification3',\n",
    "            'ResponseID',\n",
    "            'StratificationCategoryID3',\n",
    "            'StratificationID3',\n",
    "            'Report',\n",
    "            'Data_Value_Footnote_Symbol',\n",
    "            'Data_Value_Footnote' #,\n",
    "            # 'Geolocation'\n",
    "        ]\n",
    "\n",
    "data_cleaned = data.drop(columns=columns_to_drop)\n",
    "\n",
    "# Converting 'Low_Confidence_Limit' and 'High_Confidence_Limit' to numeric (if possible)\n",
    "data_cleaned['Low_Confidence_Limit'] = pd.to_numeric(data_cleaned['Low_Confidence_Limit'], errors='coerce').astype(float)\n",
    "data_cleaned['High_Confidence_Limit'] = pd.to_numeric(data_cleaned['High_Confidence_Limit'], errors='coerce').astype(float)\n",
    "\n",
    "# Extracting latitude and longitude from the 'Geolocation' column\n",
    "data_cleaned[['Longitude', 'Latitude']] = data_cleaned['Geolocation'].str.extract(r'POINT \\(([^ ]+) ([^ ]+)\\)').astype(float)\n",
    "\n",
    "string_cols = data_cleaned.select_dtypes(include=['object']).columns\n",
    "for col in string_cols:\n",
    "    data_cleaned[col] = data_cleaned[col].astype('string').str.strip()\n",
    "\n",
    "# Sort the data by StartYear\n",
    "data_cleaned = data_cleaned.sort_values(by='YearStart')\n",
    "\n",
    "# Drop Geolocation as it's no longer needed\n",
    "data_cleaned = data_cleaned.drop(columns='Geolocation')"
   ]
  },
  {
   "cell_type": "code",
   "execution_count": 136,
   "id": "549392c0",
   "metadata": {},
   "outputs": [
    {
     "data": {
      "image/png": "[encoded data removed]",
      "text/plain": [
       "<Figure size 600x1500 with 1 Axes>"
      ]
     },
     "metadata": {},
     "output_type": "display_data"
    }
   ],
   "source": [
    "# Check heatmap after cleanup\n",
    "plt.figure(figsize=(6, 15))\n",
    "sns.heatmap(data_cleaned.T.isnull(), cbar=False, cmap='coolwarm')\n",
    "plt.show()"
   ]
  },
  {
   "cell_type": "code",
   "execution_count": 137,
   "id": "5f56e44d",
   "metadata": {},
   "outputs": [
    {
     "name": "stdout",
     "output_type": "stream",
     "text": [
      "<class 'pandas.core.frame.DataFrame'>\n",
      "Index: 250937 entries, 250936 to 125468\n",
      "Data columns (total 29 columns):\n",
      " #   Column                     Non-Null Count   Dtype  \n",
      "---  ------                     --------------   -----  \n",
      " 0   RowId                      250937 non-null  string \n",
      " 1   YearStart                  250937 non-null  int64  \n",
      " 2   YearEnd                    250937 non-null  int64  \n",
      " 3   LocationAbbr               250937 non-null  string \n",
      " 4   LocationDesc               250937 non-null  string \n",
      " 5   Class                      250937 non-null  string \n",
      " 6   Topic                      250937 non-null  string \n",
      " 7   Question                   250937 non-null  string \n",
      " 8   Data_Value_Unit            250937 non-null  string \n",
      " 9   DataValueTypeID            250937 non-null  string \n",
      " 10  Data_Value_Type            250937 non-null  string \n",
      " 11  Data_Value                 169302 non-null  float64\n",
      " 12  Data_Value_Alt             169302 non-null  float64\n",
      " 13  Low_Confidence_Limit       169126 non-null  float64\n",
      " 14  High_Confidence_Limit      169126 non-null  float64\n",
      " 15  StratificationCategory1    250937 non-null  string \n",
      " 16  Stratification1            250937 non-null  string \n",
      " 17  StratificationCategory2    218561 non-null  string \n",
      " 18  Stratification2            218561 non-null  string \n",
      " 19  ClassID                    250937 non-null  string \n",
      " 20  TopicID                    250937 non-null  string \n",
      " 21  QuestionID                 250937 non-null  string \n",
      " 22  LocationID                 250937 non-null  int64  \n",
      " 23  StratificationCategoryID1  250937 non-null  string \n",
      " 24  StratificationID1          250937 non-null  string \n",
      " 25  StratificationCategoryID2  250937 non-null  string \n",
      " 26  StratificationID2          250937 non-null  string \n",
      " 27  Longitude                  224228 non-null  float64\n",
      " 28  Latitude                   224228 non-null  float64\n",
      "dtypes: float64(6), int64(3), string(20)\n",
      "memory usage: 65.5 MB\n"
     ]
    }
   ],
   "source": [
    "# Check Dtypes\n",
    "data_cleaned.info()"
   ]
  },
  {
   "cell_type": "code",
   "execution_count": 138,
   "id": "fb90ca31",
   "metadata": {},
   "outputs": [
    {
     "data": {
      "text/plain": [
       "<StringArray>\n",
       "['%', 'Number']\n",
       "Length: 2, dtype: string"
      ]
     },
     "execution_count": 138,
     "metadata": {},
     "output_type": "execute_result"
    }
   ],
   "source": [
    "data_cleaned['Data_Value_Unit'].unique()\n",
    "# data_cleaned['DataValueTypeID'].unique()\n",
    "# data_cleaned['Data_Value_Type'].unique()\n",
    "# data_cleaned['Data_Value'].unique()\n"
   ]
  },
  {
   "cell_type": "code",
   "execution_count": 139,
   "id": "4fcdf552-ec38-4c2d-b231-900512b63cc4",
   "metadata": {
    "scrolled": true
   },
   "outputs": [
    {
     "name": "stderr",
     "output_type": "stream",
     "text": [
      "c:\\Users\\sbart\\anaconda3\\Lib\\site-packages\\seaborn\\_oldcore.py:1498: FutureWarning:\n",
      "\n",
      "is_categorical_dtype is deprecated and will be removed in a future version. Use isinstance(dtype, CategoricalDtype) instead\n",
      "\n",
      "c:\\Users\\sbart\\anaconda3\\Lib\\site-packages\\seaborn\\_oldcore.py:1119: FutureWarning:\n",
      "\n",
      "use_inf_as_na option is deprecated and will be removed in a future version. Convert inf values to NaN before operating instead.\n",
      "\n"
     ]
    },
    {
     "data": {
      "image/png": "[encoded data removed]",
      "text/plain": [
       "<Figure size 1000x600 with 1 Axes>"
      ]
     },
     "metadata": {},
     "output_type": "display_data"
    }
   ],
   "source": [
    "# Statustical Numerical description\n",
    "\n",
    "sns.set(style=\"whitegrid\")\n",
    "data_subset = data_cleaned.sample(n=10000, random_state=1)\n",
    "\n",
    "# Plot 1: Distribution of 'Data_Value' (after handling missing values)\n",
    "plt.figure(figsize=(10, 6))\n",
    "sns.histplot(data_cleaned['Data_Value'], kde=True)\n",
    "plt.title('Distribution of Data Value')\n",
    "plt.xlabel('Data Value')\n",
    "plt.ylabel('Frequency')\n",
    "plt.show()"
   ]
  },
  {
   "cell_type": "code",
   "execution_count": 140,
   "id": "bc62f132-be6d-46cc-9697-25546ac356cb",
   "metadata": {},
   "outputs": [
    {
     "name": "stderr",
     "output_type": "stream",
     "text": [
      "c:\\Users\\sbart\\anaconda3\\Lib\\site-packages\\seaborn\\_oldcore.py:1498: FutureWarning:\n",
      "\n",
      "is_categorical_dtype is deprecated and will be removed in a future version. Use isinstance(dtype, CategoricalDtype) instead\n",
      "\n",
      "c:\\Users\\sbart\\anaconda3\\Lib\\site-packages\\seaborn\\_oldcore.py:1498: FutureWarning:\n",
      "\n",
      "is_categorical_dtype is deprecated and will be removed in a future version. Use isinstance(dtype, CategoricalDtype) instead\n",
      "\n",
      "c:\\Users\\sbart\\anaconda3\\Lib\\site-packages\\seaborn\\_oldcore.py:1498: FutureWarning:\n",
      "\n",
      "is_categorical_dtype is deprecated and will be removed in a future version. Use isinstance(dtype, CategoricalDtype) instead\n",
      "\n"
     ]
    },
    {
     "data": {
      "image/png": "[encoded data removed]",
      "text/plain": [
       "<Figure size 1000x600 with 1 Axes>"
      ]
     },
     "metadata": {},
     "output_type": "display_data"
    }
   ],
   "source": [
    "# Plot 2: Yearly Distribution\n",
    "plt.figure(figsize=(10, 6))\n",
    "sns.countplot(x='YearStart', data=data_cleaned, color='#4c72b0')\n",
    "# plt.bar(data_subset['YearStart'], data_subset['Data_Value'])\n",
    "plt.title('Yearly Distribution of \"Data_Value\"')\n",
    "plt.xlabel('Year')\n",
    "plt.ylabel('Count')\n",
    "plt.show()"
   ]
  },
  {
   "cell_type": "code",
   "execution_count": 141,
   "id": "d5d348be",
   "metadata": {},
   "outputs": [
    {
     "name": "stderr",
     "output_type": "stream",
     "text": [
      "c:\\Users\\sbart\\anaconda3\\Lib\\site-packages\\seaborn\\_oldcore.py:1498: FutureWarning:\n",
      "\n",
      "is_categorical_dtype is deprecated and will be removed in a future version. Use isinstance(dtype, CategoricalDtype) instead\n",
      "\n",
      "c:\\Users\\sbart\\anaconda3\\Lib\\site-packages\\seaborn\\_oldcore.py:1498: FutureWarning:\n",
      "\n",
      "is_categorical_dtype is deprecated and will be removed in a future version. Use isinstance(dtype, CategoricalDtype) instead\n",
      "\n",
      "c:\\Users\\sbart\\anaconda3\\Lib\\site-packages\\seaborn\\_oldcore.py:1498: FutureWarning:\n",
      "\n",
      "is_categorical_dtype is deprecated and will be removed in a future version. Use isinstance(dtype, CategoricalDtype) instead\n",
      "\n"
     ]
    },
    {
     "data": {
      "image/png": "[encoded data removed]",
      "text/plain": [
       "<Figure size 1000x600 with 1 Axes>"
      ]
     },
     "metadata": {},
     "output_type": "display_data"
    }
   ],
   "source": [
    "# # Plot 3: Top 10 Locations by Data Count\n",
    "top_locations = data_cleaned['LocationDesc'].value_counts().head(10).sort_values(ascending=False)\n",
    "# top_locations = data_subset['LocationDesc'].value_counts().head(10).sort_values(ascending=False)\n",
    "plt.figure(figsize=(10, 6))\n",
    "ax = sns.barplot(x=top_locations.values, y=top_locations.index, color='#4c72b0')\n",
    "\n",
    "for b in ax.patches:\n",
    "  width = b.get_width()\n",
    "  ax.text(width - (width*0.08), b.get_y() + b.get_height() / 2, int(width), ha='left', va='center')\n",
    "\n",
    "plt.title('Top 10 Locations by Data Count')\n",
    "plt.xlabel('Count')\n",
    "plt.ylabel('Location')\n",
    "plt.show()"
   ]
  },
  {
   "cell_type": "code",
   "execution_count": 142,
   "id": "a5b5e986",
   "metadata": {},
   "outputs": [
    {
     "name": "stderr",
     "output_type": "stream",
     "text": [
      "c:\\Users\\sbart\\anaconda3\\Lib\\site-packages\\seaborn\\_oldcore.py:1498: FutureWarning:\n",
      "\n",
      "is_categorical_dtype is deprecated and will be removed in a future version. Use isinstance(dtype, CategoricalDtype) instead\n",
      "\n",
      "c:\\Users\\sbart\\anaconda3\\Lib\\site-packages\\seaborn\\_oldcore.py:1498: FutureWarning:\n",
      "\n",
      "is_categorical_dtype is deprecated and will be removed in a future version. Use isinstance(dtype, CategoricalDtype) instead\n",
      "\n",
      "c:\\Users\\sbart\\anaconda3\\Lib\\site-packages\\seaborn\\_oldcore.py:1498: FutureWarning:\n",
      "\n",
      "is_categorical_dtype is deprecated and will be removed in a future version. Use isinstance(dtype, CategoricalDtype) instead\n",
      "\n"
     ]
    },
    {
     "data": {
      "image/png": "[encoded data removed]",
      "text/plain": [
       "<Figure size 1000x600 with 1 Axes>"
      ]
     },
     "metadata": {},
     "output_type": "display_data"
    }
   ],
   "source": [
    "# # Plot 4: Boxplot of Data Value by Year\n",
    "plt.figure(figsize=(10, 6))\n",
    "sns.boxplot(x='YearStart', y='Data_Value', data=data_cleaned, color='#4c72b0')\n",
    "# sns.boxplot(x='YearStart', y='Data_Value', data=data_subset, color='#4c72b0')\n",
    "plt.title('Data Value by Year')\n",
    "plt.xlabel('Year')\n",
    "plt.ylabel('Data Value')\n",
    "plt.show()\n",
    "\n",
    "# gdf = gpd.GeoDataFrame(data_subset_geo, geometry=gpd.points_from_xy(data_subset_geo.Longitude, data_subset_geo.Latitude))\n",
    "# world = gpd.read_file(gpd.datasets.get_path('naturalearth_lowres'))\n",
    "# fig, ax = plt.subplots(figsize=(15, 10))\n",
    "# world.plot(ax=ax, color='lightgrey')\n",
    "# gdf.plot(ax=ax, color='blue', markersize=5)\n",
    "# plt.show()"
   ]
  },
  {
   "cell_type": "code",
   "execution_count": 143,
   "id": "f349aff4",
   "metadata": {},
   "outputs": [
    {
     "data": {
      "image/png": "[encoded data removed]",
      "text/plain": [
       "<Figure size 600x600 with 1 Axes>"
      ]
     },
     "metadata": {},
     "output_type": "display_data"
    }
   ],
   "source": [
    "# Plot 5: Data_value unit\n",
    "unit_counts = data_cleaned['Data_Value_Unit'].value_counts() \n",
    "\n",
    "plt.figure(figsize=(6,6))\n",
    "plt.pie(unit_counts, labels=unit_counts.index)\n",
    "plt.show()"
   ]
  },
  {
   "cell_type": "markdown",
   "id": "b041e827-fd81-4eb8-95d3-9e6ae1c77ca7",
   "metadata": {},
   "source": [
    "## E2 - Exploratory data analysis (EDA)\n",
    "Use the clean dataset and to understand and explore the relationships in the data (numerical, visual, statistical). This includes at least but is not limited to:\n",
    "- A comprehensive textual description of meaning for relevant fields in the dataset\n",
    "- Statistical/numerical descriptions and visualization techniques we learned in the course inluding correlations, distributions and groupings of variing degrees.\n",
    "- Checks for data quality, e. g., completeness, plausibility, outliers\n",
    "- Handling any identified problems with the data\n",
    "- If necessary, use additional data wrangling in line with your EDA and only keep what's necessary for the following steps of your analysis with appropriate data granularity and form (\"tidy data\")\n",
    "\n",
    "Don't:\n",
    "- test/prove hypotheses here. EDA should only motivate hypotheses. \n",
    "\n",
    "Advanced/bonus:\n",
    "- Depending on your hypothesis you may want to join external data (e.g., merge external highest education level to existing vaccination data) for additional insights.\n",
    "\n",
    "Explain all steps taken and your thinking why you deem them necessary."
   ]
  },
  {
   "attachments": {},
   "cell_type": "markdown",
   "id": "1df5315d-3cb0-4da3-b304-d4513a58e61f",
   "metadata": {},
   "source": [
    "# Textual description of Fields\n",
    "The cleaned dataset consists of 29 columns which contain information on various surveys regarding public health in the US.\n",
    "of these, 20 are categorical and 9 are numeric. Specifically, 3 of the numeric variables are integers.\n",
    "These are the most important fields in the dataset, in order of appearance in the data, as well as their data type:\n",
    " - *RowId* (string): A unique Identifier for each column. The ID contains information on some of the columns in the Row. Explicitly, it is formatted like this: *Datasource*\\~*YearStart*\\~*YearEnd*\\~*LocationID*\\~*QuestionID*\\~*TopicID*\\~*StratificationCategoryID1*\\~*StratificationCategoryID2*.\n",
    " - *YearStart* and *YearEnd* (integers): Years when the survey started and ended, respectively.\n",
    " - *LocationAbbr* (string): an Abbreviation of the Location where the survey took place. for single states, it is the ISO-Code of the state, for regions an abbreviated form of the area (for example \"NRE\" for \"Northeast\").\n",
    " - *LocationDesc* (string): Full name of the state or region where the survey took place.\n",
    " - *Class* (string): Focus of the specific survey, eg. \"Overall Health\" or \"Screenings and Vaccines\".\n",
    " - *Topic* (string): A short description of the Topic of the survey.\n",
    " - *Question* (string): Question asked in the survey.\n",
    " - *Data_Value_Type* (string): Type of the *Data_Value*, e.g. \"Mean\" or \"Percentage\".\n",
    " - *Data_Value* (float): The actual Value of the survey result.\n",
    " - *Low_Confidence_Limit* and *High_Confidence_Limit* (floats): the lower and upper bounds of the confidence interval, respectively.\n",
    " - *StratificationCategory1* and *StratificationCategory2* (strings): Categories by which the target population of the survey is selected\n",
    " - *Stratification1* and *Stratification2* (strings): Specific stratification groups selected for the survey\n",
    " - *Latitude* and *Longitude* (floats): Coordinates of the survey\n",
    "\n",
    "in Addition, there are *\\~ID* columns which abbreviate the values into identifiers for the following columns: *Data_Value_Type*, *Class*, *Topic*, *Question*, *Location*, *StratificationCategory1*, *Stratification1*, *StratificationCategory2* and *Stratification2*\n",
    "\n",
    "\n",
    "\n"
   ]
  },
  {
   "cell_type": "code",
   "execution_count": 144,
   "id": "b025946c",
   "metadata": {},
   "outputs": [
    {
     "data": {
      "text/plain": [
       "<StringArray>\n",
       "[                'Hispanic',   'Asian/Pacific Islander',\n",
       "                     'Male',      'Black, non-Hispanic',\n",
       "                       <NA>, 'Native Am/Alaskan Native',\n",
       "      'White, non-Hispanic',                   'Female']\n",
       "Length: 8, dtype: string"
      ]
     },
     "execution_count": 144,
     "metadata": {},
     "output_type": "execute_result"
    }
   ],
   "source": [
    "data_cleaned['Stratification2'].unique()"
   ]
  },
  {
   "cell_type": "code",
   "execution_count": 145,
   "id": "409c7632",
   "metadata": {},
   "outputs": [
    {
     "data": {
      "application/vnd.plotly.v1+json": {
       "config": {
        "plotlyServerURL": "https://plot.ly"
       },
       "data": [
        {
         "alignmentgroup": "True",
         "hovertemplate": "Gender=Asian/Pacific Islander<br>Topic=%{x}<br>Count=%{y}<extra></extra>",
         "legendgroup": "Asian/Pacific Islander",
         "marker": {
          "color": "#636efa",
          "pattern": {
           "shape": ""
          }
         },
         "name": "Asian/Pacific Islander",
         "offsetgroup": "Asian/Pacific Islander",
         "orientation": "v",
         "showlegend": true,
         "textposition": "auto",
         "type": "bar",
         "x": [
          "Arthritis among older adults",
          "Binge drinking within past 30 days",
          "Cholesterol checked in past 5 years",
          "Colorectal cancer screening",
          "Current smoking",
          "Diabetes screening within past 3 years",
          "Disability status, including sensory or mobility limitations",
          "Duration of caregiving among older adults",
          "Eating 2 or more fruits daily",
          "Eating 3 or more vegetables daily",
          "Ever had pneumococcal vaccine",
          "Expect to provide care for someone in the next two years",
          "Fair or poor health among older adults with arthritis",
          "Fall with injury within last year",
          "Frequent mental distress",
          "Functional difficulties associated with subjective cognitive decline or memory loss among older adults",
          "High blood pressure ever",
          "Influenza vaccine within past year",
          "Intensity of caregiving among older adults",
          "Lifetime diagnosis of depression",
          "Mammogram within past 2 years",
          "Need assistance with day-to-day activities because of subjective cognitive decline or memory loss",
          "No leisure-time physical activity within past month",
          "Obesity",
          "Oral health:  tooth retention",
          "Pap test within past 3 years",
          "Prevalence of sufficient sleep",
          "Provide care for a friend or family member in past month",
          "Provide care for someone with cognitive impairment within the past month",
          "Self-rated health (fair to poor health)",
          "Self-rated health (good to excellent health)",
          "Severe joint pain among older adults with arthritis",
          "Subjective cognitive decline or memory loss among older adults",
          "Taking medication for high blood pressure",
          "Talked with health care professional about subjective cognitive decline or memory loss",
          "Up-to-date with recommended vaccines and screenings - Men",
          "Up-to-date with recommended vaccines and screenings - Women"
         ],
         "xaxis": "x",
         "y": [
          859,
          1206,
          685,
          521,
          1206,
          675,
          1033,
          508,
          682,
          682,
          1183,
          612,
          807,
          521,
          1206,
          469,
          685,
          1206,
          502,
          1206,
          506,
          470,
          1206,
          1206,
          520,
          499,
          521,
          618,
          507,
          1205,
          1205,
          637,
          694,
          672,
          470,
          505,
          513
         ],
         "yaxis": "y"
        },
        {
         "alignmentgroup": "True",
         "hovertemplate": "Gender=Black, non-Hispanic<br>Topic=%{x}<br>Count=%{y}<extra></extra>",
         "legendgroup": "Black, non-Hispanic",
         "marker": {
          "color": "#EF553B",
          "pattern": {
           "shape": ""
          }
         },
         "name": "Black, non-Hispanic",
         "offsetgroup": "Black, non-Hispanic",
         "orientation": "v",
         "showlegend": true,
         "textposition": "auto",
         "type": "bar",
         "x": [
          "Arthritis among older adults",
          "Binge drinking within past 30 days",
          "Cholesterol checked in past 5 years",
          "Colorectal cancer screening",
          "Current smoking",
          "Diabetes screening within past 3 years",
          "Disability status, including sensory or mobility limitations",
          "Duration of caregiving among older adults",
          "Eating 2 or more fruits daily",
          "Eating 3 or more vegetables daily",
          "Ever had pneumococcal vaccine",
          "Expect to provide care for someone in the next two years",
          "Fair or poor health among older adults with arthritis",
          "Fall with injury within last year",
          "Frequent mental distress",
          "Functional difficulties associated with subjective cognitive decline or memory loss among older adults",
          "High blood pressure ever",
          "Influenza vaccine within past year",
          "Intensity of caregiving among older adults",
          "Lifetime diagnosis of depression",
          "Mammogram within past 2 years",
          "Need assistance with day-to-day activities because of subjective cognitive decline or memory loss",
          "No leisure-time physical activity within past month",
          "Obesity",
          "Oral health:  tooth retention",
          "Pap test within past 3 years",
          "Prevalence of sufficient sleep",
          "Provide care for a friend or family member in past month",
          "Provide care for someone with cognitive impairment within the past month",
          "Self-rated health (fair to poor health)",
          "Self-rated health (good to excellent health)",
          "Severe joint pain among older adults with arthritis",
          "Subjective cognitive decline or memory loss among older adults",
          "Taking medication for high blood pressure",
          "Talked with health care professional about subjective cognitive decline or memory loss",
          "Up-to-date with recommended vaccines and screenings - Men",
          "Up-to-date with recommended vaccines and screenings - Women"
         ],
         "xaxis": "x",
         "y": [
          859,
          1208,
          689,
          520,
          1209,
          676,
          1037,
          585,
          688,
          686,
          1198,
          624,
          840,
          520,
          1209,
          616,
          689,
          1209,
          584,
          1209,
          512,
          616,
          1209,
          1209,
          520,
          497,
          520,
          630,
          584,
          1209,
          1209,
          667,
          692,
          682,
          617,
          515,
          513
         ],
         "yaxis": "y"
        },
        {
         "alignmentgroup": "True",
         "hovertemplate": "Gender=Female<br>Topic=%{x}<br>Count=%{y}<extra></extra>",
         "legendgroup": "Female",
         "marker": {
          "color": "#00cc96",
          "pattern": {
           "shape": ""
          }
         },
         "name": "Female",
         "offsetgroup": "Female",
         "orientation": "v",
         "showlegend": true,
         "textposition": "auto",
         "type": "bar",
         "x": [
          "Arthritis among older adults",
          "Binge drinking within past 30 days",
          "Cholesterol checked in past 5 years",
          "Colorectal cancer screening",
          "Current smoking",
          "Diabetes screening within past 3 years",
          "Disability status, including sensory or mobility limitations",
          "Duration of caregiving among older adults",
          "Eating 2 or more fruits daily",
          "Eating 3 or more vegetables daily",
          "Ever had pneumococcal vaccine",
          "Expect to provide care for someone in the next two years",
          "Fair or poor health among older adults with arthritis",
          "Fall with injury within last year",
          "Frequent mental distress",
          "Functional difficulties associated with subjective cognitive decline or memory loss among older adults",
          "High blood pressure ever",
          "Influenza vaccine within past year",
          "Intensity of caregiving among older adults",
          "Lifetime diagnosis of depression",
          "Mammogram within past 2 years",
          "Need assistance with day-to-day activities because of subjective cognitive decline or memory loss",
          "No leisure-time physical activity within past month",
          "Obesity",
          "Oral health:  tooth retention",
          "Pap test within past 3 years",
          "Prevalence of sufficient sleep",
          "Provide care for a friend or family member in past month",
          "Provide care for someone with cognitive impairment within the past month",
          "Self-rated health (fair to poor health)",
          "Self-rated health (good to excellent health)",
          "Severe joint pain among older adults with arthritis",
          "Subjective cognitive decline or memory loss among older adults",
          "Taking medication for high blood pressure",
          "Talked with health care professional about subjective cognitive decline or memory loss",
          "Up-to-date with recommended vaccines and screenings - Men",
          "Up-to-date with recommended vaccines and screenings - Women"
         ],
         "xaxis": "x",
         "y": [
          867,
          1218,
          693,
          525,
          1218,
          681,
          1044,
          630,
          693,
          693,
          1218,
          627,
          867,
          525,
          1218,
          699,
          693,
          1218,
          630,
          1218,
          null,
          699,
          1218,
          1218,
          525,
          null,
          525,
          630,
          630,
          1218,
          1218,
          693,
          699,
          693,
          699,
          null,
          null
         ],
         "yaxis": "y"
        },
        {
         "alignmentgroup": "True",
         "hovertemplate": "Gender=Hispanic<br>Topic=%{x}<br>Count=%{y}<extra></extra>",
         "legendgroup": "Hispanic",
         "marker": {
          "color": "#ab63fa",
          "pattern": {
           "shape": ""
          }
         },
         "name": "Hispanic",
         "offsetgroup": "Hispanic",
         "orientation": "v",
         "showlegend": true,
         "textposition": "auto",
         "type": "bar",
         "x": [
          "Arthritis among older adults",
          "Binge drinking within past 30 days",
          "Cholesterol checked in past 5 years",
          "Colorectal cancer screening",
          "Current smoking",
          "Diabetes screening within past 3 years",
          "Disability status, including sensory or mobility limitations",
          "Duration of caregiving among older adults",
          "Eating 2 or more fruits daily",
          "Eating 3 or more vegetables daily",
          "Ever had pneumococcal vaccine",
          "Expect to provide care for someone in the next two years",
          "Fair or poor health among older adults with arthritis",
          "Fall with injury within last year",
          "Frequent mental distress",
          "Functional difficulties associated with subjective cognitive decline or memory loss among older adults",
          "High blood pressure ever",
          "Influenza vaccine within past year",
          "Intensity of caregiving among older adults",
          "Lifetime diagnosis of depression",
          "Mammogram within past 2 years",
          "Need assistance with day-to-day activities because of subjective cognitive decline or memory loss",
          "No leisure-time physical activity within past month",
          "Obesity",
          "Oral health:  tooth retention",
          "Pap test within past 3 years",
          "Prevalence of sufficient sleep",
          "Provide care for a friend or family member in past month",
          "Provide care for someone with cognitive impairment within the past month",
          "Self-rated health (fair to poor health)",
          "Self-rated health (good to excellent health)",
          "Severe joint pain among older adults with arthritis",
          "Subjective cognitive decline or memory loss among older adults",
          "Taking medication for high blood pressure",
          "Talked with health care professional about subjective cognitive decline or memory loss",
          "Up-to-date with recommended vaccines and screenings - Men",
          "Up-to-date with recommended vaccines and screenings - Women"
         ],
         "xaxis": "x",
         "y": [
          867,
          1218,
          693,
          525,
          1218,
          681,
          1044,
          621,
          693,
          693,
          1218,
          627,
          866,
          525,
          1218,
          656,
          693,
          1218,
          622,
          1218,
          525,
          656,
          1218,
          1218,
          525,
          524,
          525,
          630,
          621,
          1218,
          1218,
          689,
          699,
          692,
          652,
          523,
          525
         ],
         "yaxis": "y"
        },
        {
         "alignmentgroup": "True",
         "hovertemplate": "Gender=Male<br>Topic=%{x}<br>Count=%{y}<extra></extra>",
         "legendgroup": "Male",
         "marker": {
          "color": "#FFA15A",
          "pattern": {
           "shape": ""
          }
         },
         "name": "Male",
         "offsetgroup": "Male",
         "orientation": "v",
         "showlegend": true,
         "textposition": "auto",
         "type": "bar",
         "x": [
          "Arthritis among older adults",
          "Binge drinking within past 30 days",
          "Cholesterol checked in past 5 years",
          "Colorectal cancer screening",
          "Current smoking",
          "Diabetes screening within past 3 years",
          "Disability status, including sensory or mobility limitations",
          "Duration of caregiving among older adults",
          "Eating 2 or more fruits daily",
          "Eating 3 or more vegetables daily",
          "Ever had pneumococcal vaccine",
          "Expect to provide care for someone in the next two years",
          "Fair or poor health among older adults with arthritis",
          "Fall with injury within last year",
          "Frequent mental distress",
          "Functional difficulties associated with subjective cognitive decline or memory loss among older adults",
          "High blood pressure ever",
          "Influenza vaccine within past year",
          "Intensity of caregiving among older adults",
          "Lifetime diagnosis of depression",
          "Mammogram within past 2 years",
          "Need assistance with day-to-day activities because of subjective cognitive decline or memory loss",
          "No leisure-time physical activity within past month",
          "Obesity",
          "Oral health:  tooth retention",
          "Pap test within past 3 years",
          "Prevalence of sufficient sleep",
          "Provide care for a friend or family member in past month",
          "Provide care for someone with cognitive impairment within the past month",
          "Self-rated health (fair to poor health)",
          "Self-rated health (good to excellent health)",
          "Severe joint pain among older adults with arthritis",
          "Subjective cognitive decline or memory loss among older adults",
          "Taking medication for high blood pressure",
          "Talked with health care professional about subjective cognitive decline or memory loss",
          "Up-to-date with recommended vaccines and screenings - Men",
          "Up-to-date with recommended vaccines and screenings - Women"
         ],
         "xaxis": "x",
         "y": [
          867,
          1218,
          693,
          525,
          1218,
          681,
          1044,
          630,
          693,
          693,
          1218,
          627,
          867,
          525,
          1218,
          699,
          693,
          1218,
          630,
          1218,
          null,
          699,
          1218,
          1218,
          525,
          null,
          525,
          630,
          630,
          1218,
          1218,
          693,
          699,
          693,
          699,
          null,
          null
         ],
         "yaxis": "y"
        },
        {
         "alignmentgroup": "True",
         "hovertemplate": "Gender=Native Am/Alaskan Native<br>Topic=%{x}<br>Count=%{y}<extra></extra>",
         "legendgroup": "Native Am/Alaskan Native",
         "marker": {
          "color": "#19d3f3",
          "pattern": {
           "shape": ""
          }
         },
         "name": "Native Am/Alaskan Native",
         "offsetgroup": "Native Am/Alaskan Native",
         "orientation": "v",
         "showlegend": true,
         "textposition": "auto",
         "type": "bar",
         "x": [
          "Arthritis among older adults",
          "Binge drinking within past 30 days",
          "Cholesterol checked in past 5 years",
          "Colorectal cancer screening",
          "Current smoking",
          "Diabetes screening within past 3 years",
          "Disability status, including sensory or mobility limitations",
          "Duration of caregiving among older adults",
          "Eating 2 or more fruits daily",
          "Eating 3 or more vegetables daily",
          "Ever had pneumococcal vaccine",
          "Expect to provide care for someone in the next two years",
          "Fair or poor health among older adults with arthritis",
          "Fall with injury within last year",
          "Frequent mental distress",
          "Functional difficulties associated with subjective cognitive decline or memory loss among older adults",
          "High blood pressure ever",
          "Influenza vaccine within past year",
          "Intensity of caregiving among older adults",
          "Lifetime diagnosis of depression",
          "Mammogram within past 2 years",
          "Need assistance with day-to-day activities because of subjective cognitive decline or memory loss",
          "No leisure-time physical activity within past month",
          "Obesity",
          "Oral health:  tooth retention",
          "Pap test within past 3 years",
          "Prevalence of sufficient sleep",
          "Provide care for a friend or family member in past month",
          "Provide care for someone with cognitive impairment within the past month",
          "Self-rated health (fair to poor health)",
          "Self-rated health (good to excellent health)",
          "Severe joint pain among older adults with arthritis",
          "Subjective cognitive decline or memory loss among older adults",
          "Taking medication for high blood pressure",
          "Talked with health care professional about subjective cognitive decline or memory loss",
          "Up-to-date with recommended vaccines and screenings - Men",
          "Up-to-date with recommended vaccines and screenings - Women"
         ],
         "xaxis": "x",
         "y": [
          841,
          1178,
          671,
          507,
          1178,
          651,
          1010,
          582,
          671,
          671,
          1175,
          616,
          836,
          507,
          1178,
          623,
          671,
          1178,
          571,
          1178,
          504,
          625,
          1178,
          1178,
          507,
          498,
          505,
          620,
          581,
          1178,
          1178,
          669,
          687,
          666,
          625,
          504,
          505
         ],
         "yaxis": "y"
        },
        {
         "alignmentgroup": "True",
         "hovertemplate": "Gender=White, non-Hispanic<br>Topic=%{x}<br>Count=%{y}<extra></extra>",
         "legendgroup": "White, non-Hispanic",
         "marker": {
          "color": "#FF6692",
          "pattern": {
           "shape": ""
          }
         },
         "name": "White, non-Hispanic",
         "offsetgroup": "White, non-Hispanic",
         "orientation": "v",
         "showlegend": true,
         "textposition": "auto",
         "type": "bar",
         "x": [
          "Arthritis among older adults",
          "Binge drinking within past 30 days",
          "Cholesterol checked in past 5 years",
          "Colorectal cancer screening",
          "Current smoking",
          "Diabetes screening within past 3 years",
          "Disability status, including sensory or mobility limitations",
          "Duration of caregiving among older adults",
          "Eating 2 or more fruits daily",
          "Eating 3 or more vegetables daily",
          "Ever had pneumococcal vaccine",
          "Expect to provide care for someone in the next two years",
          "Fair or poor health among older adults with arthritis",
          "Fall with injury within last year",
          "Frequent mental distress",
          "Functional difficulties associated with subjective cognitive decline or memory loss among older adults",
          "High blood pressure ever",
          "Influenza vaccine within past year",
          "Intensity of caregiving among older adults",
          "Lifetime diagnosis of depression",
          "Mammogram within past 2 years",
          "Need assistance with day-to-day activities because of subjective cognitive decline or memory loss",
          "No leisure-time physical activity within past month",
          "Obesity",
          "Oral health:  tooth retention",
          "Pap test within past 3 years",
          "Prevalence of sufficient sleep",
          "Provide care for a friend or family member in past month",
          "Provide care for someone with cognitive impairment within the past month",
          "Self-rated health (fair to poor health)",
          "Self-rated health (good to excellent health)",
          "Severe joint pain among older adults with arthritis",
          "Subjective cognitive decline or memory loss among older adults",
          "Taking medication for high blood pressure",
          "Talked with health care professional about subjective cognitive decline or memory loss",
          "Up-to-date with recommended vaccines and screenings - Men",
          "Up-to-date with recommended vaccines and screenings - Women"
         ],
         "xaxis": "x",
         "y": [
          867,
          1218,
          693,
          525,
          1218,
          681,
          1044,
          628,
          693,
          693,
          1218,
          627,
          866,
          525,
          1218,
          687,
          693,
          1218,
          628,
          1218,
          525,
          687,
          1218,
          1218,
          525,
          525,
          525,
          630,
          628,
          1218,
          1218,
          692,
          699,
          693,
          687,
          525,
          525
         ],
         "yaxis": "y"
        }
       ],
       "layout": {
        "barmode": "group",
        "height": 800,
        "legend": {
         "title": {
          "text": "Gender"
         },
         "tracegroupgap": 0
        },
        "template": {
         "data": {
          "bar": [
           {
            "error_x": {
             "color": "#2a3f5f"
            },
            "error_y": {
             "color": "#2a3f5f"
            },
            "marker": {
             "line": {
              "color": "#E5ECF6",
              "width": 0.5
             },
             "pattern": {
              "fillmode": "overlay",
              "size": 10,
              "solidity": 0.2
             }
            },
            "type": "bar"
           }
          ],
          "barpolar": [
           {
            "marker": {
             "line": {
              "color": "#E5ECF6",
              "width": 0.5
             },
             "pattern": {
              "fillmode": "overlay",
              "size": 10,
              "solidity": 0.2
             }
            },
            "type": "barpolar"
           }
          ],
          "carpet": [
           {
            "aaxis": {
             "endlinecolor": "#2a3f5f",
             "gridcolor": "white",
             "linecolor": "white",
             "minorgridcolor": "white",
             "startlinecolor": "#2a3f5f"
            },
            "baxis": {
             "endlinecolor": "#2a3f5f",
             "gridcolor": "white",
             "linecolor": "white",
             "minorgridcolor": "white",
             "startlinecolor": "#2a3f5f"
            },
            "type": "carpet"
           }
          ],
          "choropleth": [
           {
            "colorbar": {
             "outlinewidth": 0,
             "ticks": ""
            },
            "type": "choropleth"
           }
          ],
          "contour": [
           {
            "colorbar": {
             "outlinewidth": 0,
             "ticks": ""
            },
            "colorscale": [
             [
              0,
              "#0d0887"
             ],
             [
              0.1111111111111111,
              "#46039f"
             ],
             [
              0.2222222222222222,
              "#7201a8"
             ],
             [
              0.3333333333333333,
              "#9c179e"
             ],
             [
              0.4444444444444444,
              "#bd3786"
             ],
             [
              0.5555555555555556,
              "#d8576b"
             ],
             [
              0.6666666666666666,
              "#ed7953"
             ],
             [
              0.7777777777777778,
              "#fb9f3a"
             ],
             [
              0.8888888888888888,
              "#fdca26"
             ],
             [
              1,
              "#f0f921"
             ]
            ],
            "type": "contour"
           }
          ],
          "contourcarpet": [
           {
            "colorbar": {
             "outlinewidth": 0,
             "ticks": ""
            },
            "type": "contourcarpet"
           }
          ],
          "heatmap": [
           {
            "colorbar": {
             "outlinewidth": 0,
             "ticks": ""
            },
            "colorscale": [
             [
              0,
              "#0d0887"
             ],
             [
              0.1111111111111111,
              "#46039f"
             ],
             [
              0.2222222222222222,
              "#7201a8"
             ],
             [
              0.3333333333333333,
              "#9c179e"
             ],
             [
              0.4444444444444444,
              "#bd3786"
             ],
             [
              0.5555555555555556,
              "#d8576b"
             ],
             [
              0.6666666666666666,
              "#ed7953"
             ],
             [
              0.7777777777777778,
              "#fb9f3a"
             ],
             [
              0.8888888888888888,
              "#fdca26"
             ],
             [
              1,
              "#f0f921"
             ]
            ],
            "type": "heatmap"
           }
          ],
          "heatmapgl": [
           {
            "colorbar": {
             "outlinewidth": 0,
             "ticks": ""
            },
            "colorscale": [
             [
              0,
              "#0d0887"
             ],
             [
              0.1111111111111111,
              "#46039f"
             ],
             [
              0.2222222222222222,
              "#7201a8"
             ],
             [
              0.3333333333333333,
              "#9c179e"
             ],
             [
              0.4444444444444444,
              "#bd3786"
             ],
             [
              0.5555555555555556,
              "#d8576b"
             ],
             [
              0.6666666666666666,
              "#ed7953"
             ],
             [
              0.7777777777777778,
              "#fb9f3a"
             ],
             [
              0.8888888888888888,
              "#fdca26"
             ],
             [
              1,
              "#f0f921"
             ]
            ],
            "type": "heatmapgl"
           }
          ],
          "histogram": [
           {
            "marker": {
             "pattern": {
              "fillmode": "overlay",
              "size": 10,
              "solidity": 0.2
             }
            },
            "type": "histogram"
           }
          ],
          "histogram2d": [
           {
            "colorbar": {
             "outlinewidth": 0,
             "ticks": ""
            },
            "colorscale": [
             [
              0,
              "#0d0887"
             ],
             [
              0.1111111111111111,
              "#46039f"
             ],
             [
              0.2222222222222222,
              "#7201a8"
             ],
             [
              0.3333333333333333,
              "#9c179e"
             ],
             [
              0.4444444444444444,
              "#bd3786"
             ],
             [
              0.5555555555555556,
              "#d8576b"
             ],
             [
              0.6666666666666666,
              "#ed7953"
             ],
             [
              0.7777777777777778,
              "#fb9f3a"
             ],
             [
              0.8888888888888888,
              "#fdca26"
             ],
             [
              1,
              "#f0f921"
             ]
            ],
            "type": "histogram2d"
           }
          ],
          "histogram2dcontour": [
           {
            "colorbar": {
             "outlinewidth": 0,
             "ticks": ""
            },
            "colorscale": [
             [
              0,
              "#0d0887"
             ],
             [
              0.1111111111111111,
              "#46039f"
             ],
             [
              0.2222222222222222,
              "#7201a8"
             ],
             [
              0.3333333333333333,
              "#9c179e"
             ],
             [
              0.4444444444444444,
              "#bd3786"
             ],
             [
              0.5555555555555556,
              "#d8576b"
             ],
             [
              0.6666666666666666,
              "#ed7953"
             ],
             [
              0.7777777777777778,
              "#fb9f3a"
             ],
             [
              0.8888888888888888,
              "#fdca26"
             ],
             [
              1,
              "#f0f921"
             ]
            ],
            "type": "histogram2dcontour"
           }
          ],
          "mesh3d": [
           {
            "colorbar": {
             "outlinewidth": 0,
             "ticks": ""
            },
            "type": "mesh3d"
           }
          ],
          "parcoords": [
           {
            "line": {
             "colorbar": {
              "outlinewidth": 0,
              "ticks": ""
             }
            },
            "type": "parcoords"
           }
          ],
          "pie": [
           {
            "automargin": true,
            "type": "pie"
           }
          ],
          "scatter": [
           {
            "fillpattern": {
             "fillmode": "overlay",
             "size": 10,
             "solidity": 0.2
            },
            "type": "scatter"
           }
          ],
          "scatter3d": [
           {
            "line": {
             "colorbar": {
              "outlinewidth": 0,
              "ticks": ""
             }
            },
            "marker": {
             "colorbar": {
              "outlinewidth": 0,
              "ticks": ""
             }
            },
            "type": "scatter3d"
           }
          ],
          "scattercarpet": [
           {
            "marker": {
             "colorbar": {
              "outlinewidth": 0,
              "ticks": ""
             }
            },
            "type": "scattercarpet"
           }
          ],
          "scattergeo": [
           {
            "marker": {
             "colorbar": {
              "outlinewidth": 0,
              "ticks": ""
             }
            },
            "type": "scattergeo"
           }
          ],
          "scattergl": [
           {
            "marker": {
             "colorbar": {
              "outlinewidth": 0,
              "ticks": ""
             }
            },
            "type": "scattergl"
           }
          ],
          "scattermapbox": [
           {
            "marker": {
             "colorbar": {
              "outlinewidth": 0,
              "ticks": ""
             }
            },
            "type": "scattermapbox"
           }
          ],
          "scatterpolar": [
           {
            "marker": {
             "colorbar": {
              "outlinewidth": 0,
              "ticks": ""
             }
            },
            "type": "scatterpolar"
           }
          ],
          "scatterpolargl": [
           {
            "marker": {
             "colorbar": {
              "outlinewidth": 0,
              "ticks": ""
             }
            },
            "type": "scatterpolargl"
           }
          ],
          "scatterternary": [
           {
            "marker": {
             "colorbar": {
              "outlinewidth": 0,
              "ticks": ""
             }
            },
            "type": "scatterternary"
           }
          ],
          "surface": [
           {
            "colorbar": {
             "outlinewidth": 0,
             "ticks": ""
            },
            "colorscale": [
             [
              0,
              "#0d0887"
             ],
             [
              0.1111111111111111,
              "#46039f"
             ],
             [
              0.2222222222222222,
              "#7201a8"
             ],
             [
              0.3333333333333333,
              "#9c179e"
             ],
             [
              0.4444444444444444,
              "#bd3786"
             ],
             [
              0.5555555555555556,
              "#d8576b"
             ],
             [
              0.6666666666666666,
              "#ed7953"
             ],
             [
              0.7777777777777778,
              "#fb9f3a"
             ],
             [
              0.8888888888888888,
              "#fdca26"
             ],
             [
              1,
              "#f0f921"
             ]
            ],
            "type": "surface"
           }
          ],
          "table": [
           {
            "cells": {
             "fill": {
              "color": "#EBF0F8"
             },
             "line": {
              "color": "white"
             }
            },
            "header": {
             "fill": {
              "color": "#C8D4E3"
             },
             "line": {
              "color": "white"
             }
            },
            "type": "table"
           }
          ]
         },
         "layout": {
          "annotationdefaults": {
           "arrowcolor": "#2a3f5f",
           "arrowhead": 0,
           "arrowwidth": 1
          },
          "autotypenumbers": "strict",
          "coloraxis": {
           "colorbar": {
            "outlinewidth": 0,
            "ticks": ""
           }
          },
          "colorscale": {
           "diverging": [
            [
             0,
             "#8e0152"
            ],
            [
             0.1,
             "#c51b7d"
            ],
            [
             0.2,
             "#de77ae"
            ],
            [
             0.3,
             "#f1b6da"
            ],
            [
             0.4,
             "#fde0ef"
            ],
            [
             0.5,
             "#f7f7f7"
            ],
            [
             0.6,
             "#e6f5d0"
            ],
            [
             0.7,
             "#b8e186"
            ],
            [
             0.8,
             "#7fbc41"
            ],
            [
             0.9,
             "#4d9221"
            ],
            [
             1,
             "#276419"
            ]
           ],
           "sequential": [
            [
             0,
             "#0d0887"
            ],
            [
             0.1111111111111111,
             "#46039f"
            ],
            [
             0.2222222222222222,
             "#7201a8"
            ],
            [
             0.3333333333333333,
             "#9c179e"
            ],
            [
             0.4444444444444444,
             "#bd3786"
            ],
            [
             0.5555555555555556,
             "#d8576b"
            ],
            [
             0.6666666666666666,
             "#ed7953"
            ],
            [
             0.7777777777777778,
             "#fb9f3a"
            ],
            [
             0.8888888888888888,
             "#fdca26"
            ],
            [
             1,
             "#f0f921"
            ]
           ],
           "sequentialminus": [
            [
             0,
             "#0d0887"
            ],
            [
             0.1111111111111111,
             "#46039f"
            ],
            [
             0.2222222222222222,
             "#7201a8"
            ],
            [
             0.3333333333333333,
             "#9c179e"
            ],
            [
             0.4444444444444444,
             "#bd3786"
            ],
            [
             0.5555555555555556,
             "#d8576b"
            ],
            [
             0.6666666666666666,
             "#ed7953"
            ],
            [
             0.7777777777777778,
             "#fb9f3a"
            ],
            [
             0.8888888888888888,
             "#fdca26"
            ],
            [
             1,
             "#f0f921"
            ]
           ]
          },
          "colorway": [
           "#636efa",
           "#EF553B",
           "#00cc96",
           "#ab63fa",
           "#FFA15A",
           "#19d3f3",
           "#FF6692",
           "#B6E880",
           "#FF97FF",
           "#FECB52"
          ],
          "font": {
           "color": "#2a3f5f"
          },
          "geo": {
           "bgcolor": "white",
           "lakecolor": "white",
           "landcolor": "#E5ECF6",
           "showlakes": true,
           "showland": true,
           "subunitcolor": "white"
          },
          "hoverlabel": {
           "align": "left"
          },
          "hovermode": "closest",
          "mapbox": {
           "style": "light"
          },
          "paper_bgcolor": "white",
          "plot_bgcolor": "#E5ECF6",
          "polar": {
           "angularaxis": {
            "gridcolor": "white",
            "linecolor": "white",
            "ticks": ""
           },
           "bgcolor": "#E5ECF6",
           "radialaxis": {
            "gridcolor": "white",
            "linecolor": "white",
            "ticks": ""
           }
          },
          "scene": {
           "xaxis": {
            "backgroundcolor": "#E5ECF6",
            "gridcolor": "white",
            "gridwidth": 2,
            "linecolor": "white",
            "showbackground": true,
            "ticks": "",
            "zerolinecolor": "white"
           },
           "yaxis": {
            "backgroundcolor": "#E5ECF6",
            "gridcolor": "white",
            "gridwidth": 2,
            "linecolor": "white",
            "showbackground": true,
            "ticks": "",
            "zerolinecolor": "white"
           },
           "zaxis": {
            "backgroundcolor": "#E5ECF6",
            "gridcolor": "white",
            "gridwidth": 2,
            "linecolor": "white",
            "showbackground": true,
            "ticks": "",
            "zerolinecolor": "white"
           }
          },
          "shapedefaults": {
           "line": {
            "color": "#2a3f5f"
           }
          },
          "ternary": {
           "aaxis": {
            "gridcolor": "white",
            "linecolor": "white",
            "ticks": ""
           },
           "baxis": {
            "gridcolor": "white",
            "linecolor": "white",
            "ticks": ""
           },
           "bgcolor": "#E5ECF6",
           "caxis": {
            "gridcolor": "white",
            "linecolor": "white",
            "ticks": ""
           }
          },
          "title": {
           "x": 0.05
          },
          "xaxis": {
           "automargin": true,
           "gridcolor": "white",
           "linecolor": "white",
           "ticks": "",
           "title": {
            "standoff": 15
           },
           "zerolinecolor": "white",
           "zerolinewidth": 2
          },
          "yaxis": {
           "automargin": true,
           "gridcolor": "white",
           "linecolor": "white",
           "ticks": "",
           "title": {
            "standoff": 15
           },
           "zerolinecolor": "white",
           "zerolinewidth": 2
          }
         }
        },
        "title": {
         "text": "Topics Divided by Stratification2"
        },
        "width": 1300,
        "xaxis": {
         "anchor": "y",
         "domain": [
          0,
          1
         ],
         "tickangle": -45,
         "title": {
          "text": "Topic"
         }
        },
        "yaxis": {
         "anchor": "x",
         "domain": [
          0,
          1
         ],
         "title": {
          "text": "Count"
         }
        }
       }
      }
     },
     "metadata": {},
     "output_type": "display_data"
    }
   ],
   "source": [
    "# Interactice bar chart for analizing topics by Stratification2:\n",
    "#   'Hispanic'\n",
    "#   'Asian/Pacific Islander'\n",
    "#   'Male'\n",
    "#   'Black, non-Hispanic'\n",
    "#   'Native Am/Alaskan Native'\n",
    "#   'White, non-Hispanic'                   \n",
    "#   'Female'\n",
    "\n",
    "data_cleaned_percent = data_cleaned[data_cleaned['Data_Value_Unit'] == '%'] \n",
    "topics_by_stratification2 = data_cleaned_percent.groupby(['Topic', 'Stratification2']).size().unstack()\n",
    "\n",
    "topics_by_stratification2_long = topics_by_stratification2.reset_index().melt(id_vars='Topic', var_name='Gender', value_name='Count')\n",
    "\n",
    "# Create the bar chart\n",
    "fig = px.bar(topics_by_stratification2_long, x='Topic', y='Count', color='Gender', \n",
    "             title='Topics Divided by Stratification2',\n",
    "             labels={'Count':'Count', 'Topic':'Topic'},\n",
    "             barmode='group')\n",
    "\n",
    "# Update layout\n",
    "fig.update_layout(xaxis_title='Topic',\n",
    "                  yaxis_title='Count',\n",
    "                  legend_title='Gender',\n",
    "                  xaxis_tickangle=-45,\n",
    "                  width=1300,\n",
    "                  height=800\n",
    "                  )\n",
    "\n",
    "# Show the interactive plot\n",
    "fig.show()"
   ]
  },
  {
   "cell_type": "code",
   "execution_count": 146,
   "id": "8ef20c68",
   "metadata": {},
   "outputs": [
    {
     "data": {
      "application/vnd.plotly.v1+json": {
       "config": {
        "plotlyServerURL": "https://plot.ly"
       },
       "data": [
        {
         "alignmentgroup": "True",
         "hovertemplate": "Location=Alabama<br>Topic=%{x}<br>Count=%{y}<extra></extra>",
         "legendgroup": "Alabama",
         "marker": {
          "color": "#636efa",
          "pattern": {
           "shape": ""
          }
         },
         "name": "Alabama",
         "offsetgroup": "Alabama",
         "orientation": "v",
         "showlegend": true,
         "textposition": "auto",
         "type": "bar",
         "x": [
          "Arthritis among older adults",
          "Binge drinking within past 30 days",
          "Cholesterol checked in past 5 years",
          "Colorectal cancer screening",
          "Current smoking",
          "Diabetes screening within past 3 years",
          "Disability status, including sensory or mobility limitations",
          "Duration of caregiving among older adults",
          "Eating 2 or more fruits daily",
          "Eating 3 or more vegetables daily",
          "Ever had pneumococcal vaccine",
          "Expect to provide care for someone in the next two years",
          "Fair or poor health among older adults with arthritis",
          "Fall with injury within last year",
          "Frequent mental distress",
          "Functional difficulties associated with subjective cognitive decline or memory loss among older adults",
          "High blood pressure ever",
          "Influenza vaccine within past year",
          "Intensity of caregiving among older adults",
          "Lifetime diagnosis of depression",
          "Mammogram within past 2 years",
          "Need assistance with day-to-day activities because of subjective cognitive decline or memory loss",
          "No leisure-time physical activity within past month",
          "Obesity",
          "Oral health:  tooth retention",
          "Pap test within past 3 years",
          "Prevalence of sufficient sleep",
          "Provide care for a friend or family member in past month",
          "Provide care for someone with cognitive impairment within the past month",
          "Self-rated health (fair to poor health)",
          "Self-rated health (good to excellent health)",
          "Severe joint pain among older adults with arthritis",
          "Subjective cognitive decline or memory loss among older adults",
          "Taking medication for high blood pressure",
          "Talked with health care professional about subjective cognitive decline or memory loss",
          "Up-to-date with recommended vaccines and screenings - Men",
          "Up-to-date with recommended vaccines and screenings - Women"
         ],
         "xaxis": "x",
         "y": [
          120,
          168,
          96,
          72,
          168,
          168,
          144,
          71,
          96,
          96,
          167,
          72,
          119,
          72,
          168,
          68,
          96,
          168,
          71,
          168,
          54,
          68,
          168,
          168,
          72,
          54,
          72,
          72,
          71,
          168,
          168,
          94,
          72,
          96,
          68,
          51,
          54
         ],
         "yaxis": "y"
        },
        {
         "alignmentgroup": "True",
         "hovertemplate": "Location=Alaska<br>Topic=%{x}<br>Count=%{y}<extra></extra>",
         "legendgroup": "Alaska",
         "marker": {
          "color": "#EF553B",
          "pattern": {
           "shape": ""
          }
         },
         "name": "Alaska",
         "offsetgroup": "Alaska",
         "orientation": "v",
         "showlegend": true,
         "textposition": "auto",
         "type": "bar",
         "x": [
          "Arthritis among older adults",
          "Binge drinking within past 30 days",
          "Cholesterol checked in past 5 years",
          "Colorectal cancer screening",
          "Current smoking",
          "Diabetes screening within past 3 years",
          "Disability status, including sensory or mobility limitations",
          "Duration of caregiving among older adults",
          "Eating 2 or more fruits daily",
          "Eating 3 or more vegetables daily",
          "Ever had pneumococcal vaccine",
          "Expect to provide care for someone in the next two years",
          "Fair or poor health among older adults with arthritis",
          "Fall with injury within last year",
          "Frequent mental distress",
          "Functional difficulties associated with subjective cognitive decline or memory loss among older adults",
          "High blood pressure ever",
          "Influenza vaccine within past year",
          "Intensity of caregiving among older adults",
          "Lifetime diagnosis of depression",
          "Mammogram within past 2 years",
          "Need assistance with day-to-day activities because of subjective cognitive decline or memory loss",
          "No leisure-time physical activity within past month",
          "Obesity",
          "Oral health:  tooth retention",
          "Pap test within past 3 years",
          "Prevalence of sufficient sleep",
          "Provide care for a friend or family member in past month",
          "Provide care for someone with cognitive impairment within the past month",
          "Self-rated health (fair to poor health)",
          "Self-rated health (good to excellent health)",
          "Severe joint pain among older adults with arthritis",
          "Subjective cognitive decline or memory loss among older adults",
          "Taking medication for high blood pressure",
          "Talked with health care professional about subjective cognitive decline or memory loss",
          "Up-to-date with recommended vaccines and screenings - Men",
          "Up-to-date with recommended vaccines and screenings - Women"
         ],
         "xaxis": "x",
         "y": [
          120,
          168,
          96,
          72,
          168,
          120,
          144,
          72,
          96,
          96,
          168,
          72,
          120,
          72,
          168,
          67,
          96,
          168,
          72,
          168,
          54,
          67,
          168,
          168,
          72,
          53,
          72,
          72,
          72,
          168,
          168,
          87,
          72,
          96,
          67,
          54,
          54
         ],
         "yaxis": "y"
        },
        {
         "alignmentgroup": "True",
         "hovertemplate": "Location=Arizona<br>Topic=%{x}<br>Count=%{y}<extra></extra>",
         "legendgroup": "Arizona",
         "marker": {
          "color": "#00cc96",
          "pattern": {
           "shape": ""
          }
         },
         "name": "Arizona",
         "offsetgroup": "Arizona",
         "orientation": "v",
         "showlegend": true,
         "textposition": "auto",
         "type": "bar",
         "x": [
          "Arthritis among older adults",
          "Binge drinking within past 30 days",
          "Cholesterol checked in past 5 years",
          "Colorectal cancer screening",
          "Current smoking",
          "Diabetes screening within past 3 years",
          "Disability status, including sensory or mobility limitations",
          "Duration of caregiving among older adults",
          "Eating 2 or more fruits daily",
          "Eating 3 or more vegetables daily",
          "Ever had pneumococcal vaccine",
          "Expect to provide care for someone in the next two years",
          "Fair or poor health among older adults with arthritis",
          "Fall with injury within last year",
          "Frequent mental distress",
          "Functional difficulties associated with subjective cognitive decline or memory loss among older adults",
          "High blood pressure ever",
          "Influenza vaccine within past year",
          "Intensity of caregiving among older adults",
          "Lifetime diagnosis of depression",
          "Mammogram within past 2 years",
          "Need assistance with day-to-day activities because of subjective cognitive decline or memory loss",
          "No leisure-time physical activity within past month",
          "Obesity",
          "Oral health:  tooth retention",
          "Pap test within past 3 years",
          "Prevalence of sufficient sleep",
          "Provide care for a friend or family member in past month",
          "Provide care for someone with cognitive impairment within the past month",
          "Self-rated health (fair to poor health)",
          "Self-rated health (good to excellent health)",
          "Severe joint pain among older adults with arthritis",
          "Subjective cognitive decline or memory loss among older adults",
          "Taking medication for high blood pressure",
          "Talked with health care professional about subjective cognitive decline or memory loss",
          "Up-to-date with recommended vaccines and screenings - Men",
          "Up-to-date with recommended vaccines and screenings - Women"
         ],
         "xaxis": "x",
         "y": [
          120,
          168,
          96,
          72,
          168,
          72,
          144,
          48,
          96,
          96,
          168,
          48,
          120,
          72,
          168,
          70,
          96,
          168,
          48,
          168,
          54,
          70,
          168,
          168,
          72,
          54,
          72,
          48,
          48,
          168,
          168,
          96,
          72,
          96,
          70,
          54,
          54
         ],
         "yaxis": "y"
        },
        {
         "alignmentgroup": "True",
         "hovertemplate": "Location=Arkansas<br>Topic=%{x}<br>Count=%{y}<extra></extra>",
         "legendgroup": "Arkansas",
         "marker": {
          "color": "#ab63fa",
          "pattern": {
           "shape": ""
          }
         },
         "name": "Arkansas",
         "offsetgroup": "Arkansas",
         "orientation": "v",
         "showlegend": true,
         "textposition": "auto",
         "type": "bar",
         "x": [
          "Arthritis among older adults",
          "Binge drinking within past 30 days",
          "Cholesterol checked in past 5 years",
          "Colorectal cancer screening",
          "Current smoking",
          "Diabetes screening within past 3 years",
          "Disability status, including sensory or mobility limitations",
          "Duration of caregiving among older adults",
          "Eating 2 or more fruits daily",
          "Eating 3 or more vegetables daily",
          "Ever had pneumococcal vaccine",
          "Expect to provide care for someone in the next two years",
          "Fair or poor health among older adults with arthritis",
          "Fall with injury within last year",
          "Frequent mental distress",
          "Functional difficulties associated with subjective cognitive decline or memory loss among older adults",
          "High blood pressure ever",
          "Influenza vaccine within past year",
          "Intensity of caregiving among older adults",
          "Lifetime diagnosis of depression",
          "Mammogram within past 2 years",
          "Need assistance with day-to-day activities because of subjective cognitive decline or memory loss",
          "No leisure-time physical activity within past month",
          "Obesity",
          "Oral health:  tooth retention",
          "Pap test within past 3 years",
          "Prevalence of sufficient sleep",
          "Provide care for a friend or family member in past month",
          "Provide care for someone with cognitive impairment within the past month",
          "Self-rated health (fair to poor health)",
          "Self-rated health (good to excellent health)",
          "Severe joint pain among older adults with arthritis",
          "Subjective cognitive decline or memory loss among older adults",
          "Taking medication for high blood pressure",
          "Talked with health care professional about subjective cognitive decline or memory loss",
          "Up-to-date with recommended vaccines and screenings - Men",
          "Up-to-date with recommended vaccines and screenings - Women"
         ],
         "xaxis": "x",
         "y": [
          120,
          168,
          96,
          72,
          168,
          24,
          144,
          69,
          96,
          96,
          167,
          72,
          117,
          72,
          168,
          63,
          96,
          168,
          69,
          168,
          54,
          63,
          168,
          168,
          72,
          54,
          72,
          72,
          69,
          168,
          168,
          93,
          72,
          95,
          63,
          51,
          54
         ],
         "yaxis": "y"
        },
        {
         "alignmentgroup": "True",
         "hovertemplate": "Location=California<br>Topic=%{x}<br>Count=%{y}<extra></extra>",
         "legendgroup": "California",
         "marker": {
          "color": "#FFA15A",
          "pattern": {
           "shape": ""
          }
         },
         "name": "California",
         "offsetgroup": "California",
         "orientation": "v",
         "showlegend": true,
         "textposition": "auto",
         "type": "bar",
         "x": [
          "Arthritis among older adults",
          "Binge drinking within past 30 days",
          "Cholesterol checked in past 5 years",
          "Colorectal cancer screening",
          "Current smoking",
          "Diabetes screening within past 3 years",
          "Disability status, including sensory or mobility limitations",
          "Duration of caregiving among older adults",
          "Eating 2 or more fruits daily",
          "Eating 3 or more vegetables daily",
          "Ever had pneumococcal vaccine",
          "Expect to provide care for someone in the next two years",
          "Fair or poor health among older adults with arthritis",
          "Fall with injury within last year",
          "Frequent mental distress",
          "Functional difficulties associated with subjective cognitive decline or memory loss among older adults",
          "High blood pressure ever",
          "Influenza vaccine within past year",
          "Intensity of caregiving among older adults",
          "Lifetime diagnosis of depression",
          "Mammogram within past 2 years",
          "Need assistance with day-to-day activities because of subjective cognitive decline or memory loss",
          "No leisure-time physical activity within past month",
          "Obesity",
          "Oral health:  tooth retention",
          "Pap test within past 3 years",
          "Prevalence of sufficient sleep",
          "Provide care for a friend or family member in past month",
          "Provide care for someone with cognitive impairment within the past month",
          "Self-rated health (fair to poor health)",
          "Self-rated health (good to excellent health)",
          "Severe joint pain among older adults with arthritis",
          "Subjective cognitive decline or memory loss among older adults",
          "Taking medication for high blood pressure",
          "Talked with health care professional about subjective cognitive decline or memory loss",
          "Up-to-date with recommended vaccines and screenings - Men",
          "Up-to-date with recommended vaccines and screenings - Women"
         ],
         "xaxis": "x",
         "y": [
          120,
          168,
          96,
          72,
          168,
          24,
          144,
          71,
          96,
          96,
          168,
          48,
          120,
          72,
          168,
          59,
          96,
          168,
          69,
          168,
          54,
          59,
          168,
          168,
          72,
          54,
          72,
          72,
          71,
          168,
          168,
          96,
          72,
          96,
          59,
          54,
          54
         ],
         "yaxis": "y"
        },
        {
         "alignmentgroup": "True",
         "hovertemplate": "Location=Colorado<br>Topic=%{x}<br>Count=%{y}<extra></extra>",
         "legendgroup": "Colorado",
         "marker": {
          "color": "#19d3f3",
          "pattern": {
           "shape": ""
          }
         },
         "name": "Colorado",
         "offsetgroup": "Colorado",
         "orientation": "v",
         "showlegend": true,
         "textposition": "auto",
         "type": "bar",
         "x": [
          "Arthritis among older adults",
          "Binge drinking within past 30 days",
          "Cholesterol checked in past 5 years",
          "Colorectal cancer screening",
          "Current smoking",
          "Diabetes screening within past 3 years",
          "Disability status, including sensory or mobility limitations",
          "Duration of caregiving among older adults",
          "Eating 2 or more fruits daily",
          "Eating 3 or more vegetables daily",
          "Ever had pneumococcal vaccine",
          "Expect to provide care for someone in the next two years",
          "Fair or poor health among older adults with arthritis",
          "Fall with injury within last year",
          "Frequent mental distress",
          "Functional difficulties associated with subjective cognitive decline or memory loss among older adults",
          "High blood pressure ever",
          "Influenza vaccine within past year",
          "Intensity of caregiving among older adults",
          "Lifetime diagnosis of depression",
          "Mammogram within past 2 years",
          "Need assistance with day-to-day activities because of subjective cognitive decline or memory loss",
          "No leisure-time physical activity within past month",
          "Obesity",
          "Oral health:  tooth retention",
          "Pap test within past 3 years",
          "Prevalence of sufficient sleep",
          "Provide care for a friend or family member in past month",
          "Provide care for someone with cognitive impairment within the past month",
          "Self-rated health (fair to poor health)",
          "Self-rated health (good to excellent health)",
          "Severe joint pain among older adults with arthritis",
          "Subjective cognitive decline or memory loss among older adults",
          "Taking medication for high blood pressure",
          "Talked with health care professional about subjective cognitive decline or memory loss",
          "Up-to-date with recommended vaccines and screenings - Men",
          "Up-to-date with recommended vaccines and screenings - Women"
         ],
         "xaxis": "x",
         "y": [
          120,
          168,
          96,
          72,
          168,
          null,
          144,
          42,
          96,
          96,
          168,
          48,
          120,
          72,
          168,
          64,
          96,
          168,
          42,
          168,
          54,
          64,
          168,
          168,
          72,
          54,
          72,
          48,
          42,
          168,
          168,
          96,
          72,
          96,
          64,
          54,
          54
         ],
         "yaxis": "y"
        },
        {
         "alignmentgroup": "True",
         "hovertemplate": "Location=Connecticut<br>Topic=%{x}<br>Count=%{y}<extra></extra>",
         "legendgroup": "Connecticut",
         "marker": {
          "color": "#FF6692",
          "pattern": {
           "shape": ""
          }
         },
         "name": "Connecticut",
         "offsetgroup": "Connecticut",
         "orientation": "v",
         "showlegend": true,
         "textposition": "auto",
         "type": "bar",
         "x": [
          "Arthritis among older adults",
          "Binge drinking within past 30 days",
          "Cholesterol checked in past 5 years",
          "Colorectal cancer screening",
          "Current smoking",
          "Diabetes screening within past 3 years",
          "Disability status, including sensory or mobility limitations",
          "Duration of caregiving among older adults",
          "Eating 2 or more fruits daily",
          "Eating 3 or more vegetables daily",
          "Ever had pneumococcal vaccine",
          "Expect to provide care for someone in the next two years",
          "Fair or poor health among older adults with arthritis",
          "Fall with injury within last year",
          "Frequent mental distress",
          "Functional difficulties associated with subjective cognitive decline or memory loss among older adults",
          "High blood pressure ever",
          "Influenza vaccine within past year",
          "Intensity of caregiving among older adults",
          "Lifetime diagnosis of depression",
          "Mammogram within past 2 years",
          "Need assistance with day-to-day activities because of subjective cognitive decline or memory loss",
          "No leisure-time physical activity within past month",
          "Obesity",
          "Oral health:  tooth retention",
          "Pap test within past 3 years",
          "Prevalence of sufficient sleep",
          "Provide care for a friend or family member in past month",
          "Provide care for someone with cognitive impairment within the past month",
          "Self-rated health (fair to poor health)",
          "Self-rated health (good to excellent health)",
          "Severe joint pain among older adults with arthritis",
          "Subjective cognitive decline or memory loss among older adults",
          "Taking medication for high blood pressure",
          "Talked with health care professional about subjective cognitive decline or memory loss",
          "Up-to-date with recommended vaccines and screenings - Men",
          "Up-to-date with recommended vaccines and screenings - Women"
         ],
         "xaxis": "x",
         "y": [
          120,
          168,
          96,
          72,
          168,
          48,
          144,
          70,
          96,
          96,
          168,
          72,
          120,
          72,
          168,
          65,
          96,
          168,
          70,
          168,
          54,
          65,
          168,
          168,
          72,
          54,
          72,
          72,
          70,
          168,
          168,
          96,
          72,
          96,
          65,
          54,
          54
         ],
         "yaxis": "y"
        },
        {
         "alignmentgroup": "True",
         "hovertemplate": "Location=Delaware<br>Topic=%{x}<br>Count=%{y}<extra></extra>",
         "legendgroup": "Delaware",
         "marker": {
          "color": "#B6E880",
          "pattern": {
           "shape": ""
          }
         },
         "name": "Delaware",
         "offsetgroup": "Delaware",
         "orientation": "v",
         "showlegend": true,
         "textposition": "auto",
         "type": "bar",
         "x": [
          "Arthritis among older adults",
          "Binge drinking within past 30 days",
          "Cholesterol checked in past 5 years",
          "Colorectal cancer screening",
          "Current smoking",
          "Diabetes screening within past 3 years",
          "Disability status, including sensory or mobility limitations",
          "Duration of caregiving among older adults",
          "Eating 2 or more fruits daily",
          "Eating 3 or more vegetables daily",
          "Ever had pneumococcal vaccine",
          "Expect to provide care for someone in the next two years",
          "Fair or poor health among older adults with arthritis",
          "Fall with injury within last year",
          "Frequent mental distress",
          "Functional difficulties associated with subjective cognitive decline or memory loss among older adults",
          "High blood pressure ever",
          "Influenza vaccine within past year",
          "Intensity of caregiving among older adults",
          "Lifetime diagnosis of depression",
          "Mammogram within past 2 years",
          "Need assistance with day-to-day activities because of subjective cognitive decline or memory loss",
          "No leisure-time physical activity within past month",
          "Obesity",
          "Oral health:  tooth retention",
          "Pap test within past 3 years",
          "Prevalence of sufficient sleep",
          "Provide care for a friend or family member in past month",
          "Provide care for someone with cognitive impairment within the past month",
          "Self-rated health (fair to poor health)",
          "Self-rated health (good to excellent health)",
          "Severe joint pain among older adults with arthritis",
          "Subjective cognitive decline or memory loss among older adults",
          "Taking medication for high blood pressure",
          "Talked with health care professional about subjective cognitive decline or memory loss",
          "Up-to-date with recommended vaccines and screenings - Men",
          "Up-to-date with recommended vaccines and screenings - Women"
         ],
         "xaxis": "x",
         "y": [
          120,
          168,
          96,
          72,
          168,
          120,
          144,
          44,
          96,
          96,
          168,
          48,
          119,
          72,
          168,
          65,
          96,
          168,
          44,
          168,
          53,
          65,
          168,
          168,
          72,
          53,
          72,
          48,
          44,
          168,
          168,
          95,
          72,
          96,
          65,
          54,
          53
         ],
         "yaxis": "y"
        },
        {
         "alignmentgroup": "True",
         "hovertemplate": "Location=District of Columbia<br>Topic=%{x}<br>Count=%{y}<extra></extra>",
         "legendgroup": "District of Columbia",
         "marker": {
          "color": "#FF97FF",
          "pattern": {
           "shape": ""
          }
         },
         "name": "District of Columbia",
         "offsetgroup": "District of Columbia",
         "orientation": "v",
         "showlegend": true,
         "textposition": "auto",
         "type": "bar",
         "x": [
          "Arthritis among older adults",
          "Binge drinking within past 30 days",
          "Cholesterol checked in past 5 years",
          "Colorectal cancer screening",
          "Current smoking",
          "Diabetes screening within past 3 years",
          "Disability status, including sensory or mobility limitations",
          "Duration of caregiving among older adults",
          "Eating 2 or more fruits daily",
          "Eating 3 or more vegetables daily",
          "Ever had pneumococcal vaccine",
          "Expect to provide care for someone in the next two years",
          "Fair or poor health among older adults with arthritis",
          "Fall with injury within last year",
          "Frequent mental distress",
          "Functional difficulties associated with subjective cognitive decline or memory loss among older adults",
          "High blood pressure ever",
          "Influenza vaccine within past year",
          "Intensity of caregiving among older adults",
          "Lifetime diagnosis of depression",
          "Mammogram within past 2 years",
          "Need assistance with day-to-day activities because of subjective cognitive decline or memory loss",
          "No leisure-time physical activity within past month",
          "Obesity",
          "Oral health:  tooth retention",
          "Pap test within past 3 years",
          "Prevalence of sufficient sleep",
          "Provide care for a friend or family member in past month",
          "Provide care for someone with cognitive impairment within the past month",
          "Self-rated health (fair to poor health)",
          "Self-rated health (good to excellent health)",
          "Severe joint pain among older adults with arthritis",
          "Subjective cognitive decline or memory loss among older adults",
          "Taking medication for high blood pressure",
          "Talked with health care professional about subjective cognitive decline or memory loss",
          "Up-to-date with recommended vaccines and screenings - Men",
          "Up-to-date with recommended vaccines and screenings - Women"
         ],
         "xaxis": "x",
         "y": [
          120,
          168,
          96,
          72,
          168,
          119,
          144,
          42,
          96,
          96,
          167,
          48,
          119,
          72,
          168,
          105,
          96,
          168,
          42,
          168,
          54,
          105,
          168,
          168,
          72,
          53,
          72,
          48,
          44,
          168,
          168,
          96,
          120,
          96,
          101,
          53,
          54
         ],
         "yaxis": "y"
        },
        {
         "alignmentgroup": "True",
         "hovertemplate": "Location=Florida<br>Topic=%{x}<br>Count=%{y}<extra></extra>",
         "legendgroup": "Florida",
         "marker": {
          "color": "#FECB52",
          "pattern": {
           "shape": ""
          }
         },
         "name": "Florida",
         "offsetgroup": "Florida",
         "orientation": "v",
         "showlegend": true,
         "textposition": "auto",
         "type": "bar",
         "x": [
          "Arthritis among older adults",
          "Binge drinking within past 30 days",
          "Cholesterol checked in past 5 years",
          "Colorectal cancer screening",
          "Current smoking",
          "Diabetes screening within past 3 years",
          "Disability status, including sensory or mobility limitations",
          "Duration of caregiving among older adults",
          "Eating 2 or more fruits daily",
          "Eating 3 or more vegetables daily",
          "Ever had pneumococcal vaccine",
          "Expect to provide care for someone in the next two years",
          "Fair or poor health among older adults with arthritis",
          "Fall with injury within last year",
          "Frequent mental distress",
          "Functional difficulties associated with subjective cognitive decline or memory loss among older adults",
          "High blood pressure ever",
          "Influenza vaccine within past year",
          "Intensity of caregiving among older adults",
          "Lifetime diagnosis of depression",
          "Mammogram within past 2 years",
          "Need assistance with day-to-day activities because of subjective cognitive decline or memory loss",
          "No leisure-time physical activity within past month",
          "Obesity",
          "Oral health:  tooth retention",
          "Pap test within past 3 years",
          "Prevalence of sufficient sleep",
          "Provide care for a friend or family member in past month",
          "Provide care for someone with cognitive impairment within the past month",
          "Self-rated health (fair to poor health)",
          "Self-rated health (good to excellent health)",
          "Severe joint pain among older adults with arthritis",
          "Subjective cognitive decline or memory loss among older adults",
          "Taking medication for high blood pressure",
          "Talked with health care professional about subjective cognitive decline or memory loss",
          "Up-to-date with recommended vaccines and screenings - Men",
          "Up-to-date with recommended vaccines and screenings - Women"
         ],
         "xaxis": "x",
         "y": [
          96,
          144,
          72,
          72,
          144,
          120,
          120,
          72,
          72,
          72,
          144,
          72,
          96,
          72,
          144,
          71,
          72,
          144,
          72,
          144,
          54,
          71,
          144,
          144,
          72,
          54,
          72,
          72,
          72,
          144,
          144,
          72,
          72,
          72,
          71,
          54,
          54
         ],
         "yaxis": "y"
        },
        {
         "alignmentgroup": "True",
         "hovertemplate": "Location=Georgia<br>Topic=%{x}<br>Count=%{y}<extra></extra>",
         "legendgroup": "Georgia",
         "marker": {
          "color": "#636efa",
          "pattern": {
           "shape": ""
          }
         },
         "name": "Georgia",
         "offsetgroup": "Georgia",
         "orientation": "v",
         "showlegend": true,
         "textposition": "auto",
         "type": "bar",
         "x": [
          "Arthritis among older adults",
          "Binge drinking within past 30 days",
          "Cholesterol checked in past 5 years",
          "Colorectal cancer screening",
          "Current smoking",
          "Diabetes screening within past 3 years",
          "Disability status, including sensory or mobility limitations",
          "Duration of caregiving among older adults",
          "Eating 2 or more fruits daily",
          "Eating 3 or more vegetables daily",
          "Ever had pneumococcal vaccine",
          "Expect to provide care for someone in the next two years",
          "Fair or poor health among older adults with arthritis",
          "Fall with injury within last year",
          "Frequent mental distress",
          "Functional difficulties associated with subjective cognitive decline or memory loss among older adults",
          "High blood pressure ever",
          "Influenza vaccine within past year",
          "Intensity of caregiving among older adults",
          "Lifetime diagnosis of depression",
          "Mammogram within past 2 years",
          "Need assistance with day-to-day activities because of subjective cognitive decline or memory loss",
          "No leisure-time physical activity within past month",
          "Obesity",
          "Oral health:  tooth retention",
          "Pap test within past 3 years",
          "Prevalence of sufficient sleep",
          "Provide care for a friend or family member in past month",
          "Provide care for someone with cognitive impairment within the past month",
          "Self-rated health (fair to poor health)",
          "Self-rated health (good to excellent health)",
          "Severe joint pain among older adults with arthritis",
          "Subjective cognitive decline or memory loss among older adults",
          "Taking medication for high blood pressure",
          "Talked with health care professional about subjective cognitive decline or memory loss",
          "Up-to-date with recommended vaccines and screenings - Men",
          "Up-to-date with recommended vaccines and screenings - Women"
         ],
         "xaxis": "x",
         "y": [
          120,
          168,
          96,
          72,
          168,
          120,
          144,
          92,
          96,
          96,
          168,
          96,
          120,
          72,
          168,
          117,
          96,
          168,
          92,
          168,
          54,
          117,
          168,
          168,
          72,
          54,
          72,
          96,
          92,
          168,
          168,
          96,
          120,
          96,
          117,
          54,
          54
         ],
         "yaxis": "y"
        },
        {
         "alignmentgroup": "True",
         "hovertemplate": "Location=Guam<br>Topic=%{x}<br>Count=%{y}<extra></extra>",
         "legendgroup": "Guam",
         "marker": {
          "color": "#EF553B",
          "pattern": {
           "shape": ""
          }
         },
         "name": "Guam",
         "offsetgroup": "Guam",
         "orientation": "v",
         "showlegend": true,
         "textposition": "auto",
         "type": "bar",
         "x": [
          "Arthritis among older adults",
          "Binge drinking within past 30 days",
          "Cholesterol checked in past 5 years",
          "Colorectal cancer screening",
          "Current smoking",
          "Diabetes screening within past 3 years",
          "Disability status, including sensory or mobility limitations",
          "Duration of caregiving among older adults",
          "Eating 2 or more fruits daily",
          "Eating 3 or more vegetables daily",
          "Ever had pneumococcal vaccine",
          "Expect to provide care for someone in the next two years",
          "Fair or poor health among older adults with arthritis",
          "Fall with injury within last year",
          "Frequent mental distress",
          "Functional difficulties associated with subjective cognitive decline or memory loss among older adults",
          "High blood pressure ever",
          "Influenza vaccine within past year",
          "Intensity of caregiving among older adults",
          "Lifetime diagnosis of depression",
          "Mammogram within past 2 years",
          "Need assistance with day-to-day activities because of subjective cognitive decline or memory loss",
          "No leisure-time physical activity within past month",
          "Obesity",
          "Oral health:  tooth retention",
          "Pap test within past 3 years",
          "Prevalence of sufficient sleep",
          "Provide care for a friend or family member in past month",
          "Provide care for someone with cognitive impairment within the past month",
          "Self-rated health (fair to poor health)",
          "Self-rated health (good to excellent health)",
          "Severe joint pain among older adults with arthritis",
          "Subjective cognitive decline or memory loss among older adults",
          "Taking medication for high blood pressure",
          "Talked with health care professional about subjective cognitive decline or memory loss",
          "Up-to-date with recommended vaccines and screenings - Men",
          "Up-to-date with recommended vaccines and screenings - Women"
         ],
         "xaxis": "x",
         "y": [
          105,
          147,
          84,
          63,
          147,
          126,
          126,
          null,
          84,
          84,
          144,
          null,
          100,
          63,
          147,
          null,
          84,
          147,
          null,
          147,
          42,
          null,
          147,
          147,
          63,
          38,
          63,
          null,
          null,
          147,
          147,
          82,
          null,
          84,
          null,
          45,
          41
         ],
         "yaxis": "y"
        },
        {
         "alignmentgroup": "True",
         "hovertemplate": "Location=Hawaii<br>Topic=%{x}<br>Count=%{y}<extra></extra>",
         "legendgroup": "Hawaii",
         "marker": {
          "color": "#00cc96",
          "pattern": {
           "shape": ""
          }
         },
         "name": "Hawaii",
         "offsetgroup": "Hawaii",
         "orientation": "v",
         "showlegend": true,
         "textposition": "auto",
         "type": "bar",
         "x": [
          "Arthritis among older adults",
          "Binge drinking within past 30 days",
          "Cholesterol checked in past 5 years",
          "Colorectal cancer screening",
          "Current smoking",
          "Diabetes screening within past 3 years",
          "Disability status, including sensory or mobility limitations",
          "Duration of caregiving among older adults",
          "Eating 2 or more fruits daily",
          "Eating 3 or more vegetables daily",
          "Ever had pneumococcal vaccine",
          "Expect to provide care for someone in the next two years",
          "Fair or poor health among older adults with arthritis",
          "Fall with injury within last year",
          "Frequent mental distress",
          "Functional difficulties associated with subjective cognitive decline or memory loss among older adults",
          "High blood pressure ever",
          "Influenza vaccine within past year",
          "Intensity of caregiving among older adults",
          "Lifetime diagnosis of depression",
          "Mammogram within past 2 years",
          "Need assistance with day-to-day activities because of subjective cognitive decline or memory loss",
          "No leisure-time physical activity within past month",
          "Obesity",
          "Oral health:  tooth retention",
          "Pap test within past 3 years",
          "Prevalence of sufficient sleep",
          "Provide care for a friend or family member in past month",
          "Provide care for someone with cognitive impairment within the past month",
          "Self-rated health (fair to poor health)",
          "Self-rated health (good to excellent health)",
          "Severe joint pain among older adults with arthritis",
          "Subjective cognitive decline or memory loss among older adults",
          "Taking medication for high blood pressure",
          "Talked with health care professional about subjective cognitive decline or memory loss",
          "Up-to-date with recommended vaccines and screenings - Men",
          "Up-to-date with recommended vaccines and screenings - Women"
         ],
         "xaxis": "x",
         "y": [
          120,
          168,
          96,
          72,
          168,
          144,
          144,
          109,
          96,
          96,
          167,
          120,
          119,
          72,
          168,
          110,
          96,
          168,
          106,
          168,
          53,
          110,
          168,
          168,
          72,
          53,
          72,
          120,
          108,
          168,
          168,
          95,
          120,
          94,
          108,
          54,
          53
         ],
         "yaxis": "y"
        },
        {
         "alignmentgroup": "True",
         "hovertemplate": "Location=Idaho<br>Topic=%{x}<br>Count=%{y}<extra></extra>",
         "legendgroup": "Idaho",
         "marker": {
          "color": "#ab63fa",
          "pattern": {
           "shape": ""
          }
         },
         "name": "Idaho",
         "offsetgroup": "Idaho",
         "orientation": "v",
         "showlegend": true,
         "textposition": "auto",
         "type": "bar",
         "x": [
          "Arthritis among older adults",
          "Binge drinking within past 30 days",
          "Cholesterol checked in past 5 years",
          "Colorectal cancer screening",
          "Current smoking",
          "Diabetes screening within past 3 years",
          "Disability status, including sensory or mobility limitations",
          "Duration of caregiving among older adults",
          "Eating 2 or more fruits daily",
          "Eating 3 or more vegetables daily",
          "Ever had pneumococcal vaccine",
          "Expect to provide care for someone in the next two years",
          "Fair or poor health among older adults with arthritis",
          "Fall with injury within last year",
          "Frequent mental distress",
          "Functional difficulties associated with subjective cognitive decline or memory loss among older adults",
          "High blood pressure ever",
          "Influenza vaccine within past year",
          "Intensity of caregiving among older adults",
          "Lifetime diagnosis of depression",
          "Mammogram within past 2 years",
          "Need assistance with day-to-day activities because of subjective cognitive decline or memory loss",
          "No leisure-time physical activity within past month",
          "Obesity",
          "Oral health:  tooth retention",
          "Pap test within past 3 years",
          "Prevalence of sufficient sleep",
          "Provide care for a friend or family member in past month",
          "Provide care for someone with cognitive impairment within the past month",
          "Self-rated health (fair to poor health)",
          "Self-rated health (good to excellent health)",
          "Severe joint pain among older adults with arthritis",
          "Subjective cognitive decline or memory loss among older adults",
          "Taking medication for high blood pressure",
          "Talked with health care professional about subjective cognitive decline or memory loss",
          "Up-to-date with recommended vaccines and screenings - Men",
          "Up-to-date with recommended vaccines and screenings - Women"
         ],
         "xaxis": "x",
         "y": [
          120,
          167,
          96,
          71,
          167,
          119,
          143,
          69,
          95,
          96,
          164,
          72,
          115,
          71,
          167,
          58,
          96,
          167,
          68,
          167,
          51,
          58,
          167,
          167,
          71,
          51,
          71,
          72,
          68,
          167,
          167,
          91,
          72,
          96,
          58,
          53,
          52
         ],
         "yaxis": "y"
        },
        {
         "alignmentgroup": "True",
         "hovertemplate": "Location=Illinois<br>Topic=%{x}<br>Count=%{y}<extra></extra>",
         "legendgroup": "Illinois",
         "marker": {
          "color": "#FFA15A",
          "pattern": {
           "shape": ""
          }
         },
         "name": "Illinois",
         "offsetgroup": "Illinois",
         "orientation": "v",
         "showlegend": true,
         "textposition": "auto",
         "type": "bar",
         "x": [
          "Arthritis among older adults",
          "Binge drinking within past 30 days",
          "Cholesterol checked in past 5 years",
          "Colorectal cancer screening",
          "Current smoking",
          "Diabetes screening within past 3 years",
          "Disability status, including sensory or mobility limitations",
          "Duration of caregiving among older adults",
          "Eating 2 or more fruits daily",
          "Eating 3 or more vegetables daily",
          "Ever had pneumococcal vaccine",
          "Expect to provide care for someone in the next two years",
          "Fair or poor health among older adults with arthritis",
          "Fall with injury within last year",
          "Frequent mental distress",
          "Functional difficulties associated with subjective cognitive decline or memory loss among older adults",
          "High blood pressure ever",
          "Influenza vaccine within past year",
          "Intensity of caregiving among older adults",
          "Lifetime diagnosis of depression",
          "Mammogram within past 2 years",
          "Need assistance with day-to-day activities because of subjective cognitive decline or memory loss",
          "No leisure-time physical activity within past month",
          "Obesity",
          "Oral health:  tooth retention",
          "Pap test within past 3 years",
          "Prevalence of sufficient sleep",
          "Provide care for a friend or family member in past month",
          "Provide care for someone with cognitive impairment within the past month",
          "Self-rated health (fair to poor health)",
          "Self-rated health (good to excellent health)",
          "Severe joint pain among older adults with arthritis",
          "Subjective cognitive decline or memory loss among older adults",
          "Taking medication for high blood pressure",
          "Talked with health care professional about subjective cognitive decline or memory loss",
          "Up-to-date with recommended vaccines and screenings - Men",
          "Up-to-date with recommended vaccines and screenings - Women"
         ],
         "xaxis": "x",
         "y": [
          120,
          168,
          96,
          72,
          168,
          72,
          144,
          66,
          96,
          96,
          167,
          72,
          120,
          72,
          168,
          67,
          96,
          168,
          66,
          168,
          54,
          67,
          168,
          168,
          72,
          54,
          72,
          72,
          66,
          168,
          168,
          96,
          72,
          96,
          67,
          54,
          54
         ],
         "yaxis": "y"
        },
        {
         "alignmentgroup": "True",
         "hovertemplate": "Location=Indiana<br>Topic=%{x}<br>Count=%{y}<extra></extra>",
         "legendgroup": "Indiana",
         "marker": {
          "color": "#19d3f3",
          "pattern": {
           "shape": ""
          }
         },
         "name": "Indiana",
         "offsetgroup": "Indiana",
         "orientation": "v",
         "showlegend": true,
         "textposition": "auto",
         "type": "bar",
         "x": [
          "Arthritis among older adults",
          "Binge drinking within past 30 days",
          "Cholesterol checked in past 5 years",
          "Colorectal cancer screening",
          "Current smoking",
          "Diabetes screening within past 3 years",
          "Disability status, including sensory or mobility limitations",
          "Duration of caregiving among older adults",
          "Eating 2 or more fruits daily",
          "Eating 3 or more vegetables daily",
          "Ever had pneumococcal vaccine",
          "Expect to provide care for someone in the next two years",
          "Fair or poor health among older adults with arthritis",
          "Fall with injury within last year",
          "Frequent mental distress",
          "Functional difficulties associated with subjective cognitive decline or memory loss among older adults",
          "High blood pressure ever",
          "Influenza vaccine within past year",
          "Intensity of caregiving among older adults",
          "Lifetime diagnosis of depression",
          "Mammogram within past 2 years",
          "Need assistance with day-to-day activities because of subjective cognitive decline or memory loss",
          "No leisure-time physical activity within past month",
          "Obesity",
          "Oral health:  tooth retention",
          "Pap test within past 3 years",
          "Prevalence of sufficient sleep",
          "Provide care for a friend or family member in past month",
          "Provide care for someone with cognitive impairment within the past month",
          "Self-rated health (fair to poor health)",
          "Self-rated health (good to excellent health)",
          "Severe joint pain among older adults with arthritis",
          "Subjective cognitive decline or memory loss among older adults",
          "Taking medication for high blood pressure",
          "Talked with health care professional about subjective cognitive decline or memory loss",
          "Up-to-date with recommended vaccines and screenings - Men",
          "Up-to-date with recommended vaccines and screenings - Women"
         ],
         "xaxis": "x",
         "y": [
          120,
          168,
          96,
          72,
          168,
          72,
          144,
          70,
          96,
          96,
          168,
          72,
          120,
          72,
          168,
          66,
          96,
          168,
          70,
          168,
          54,
          66,
          168,
          168,
          72,
          54,
          72,
          72,
          70,
          168,
          168,
          96,
          72,
          96,
          66,
          54,
          54
         ],
         "yaxis": "y"
        },
        {
         "alignmentgroup": "True",
         "hovertemplate": "Location=Iowa<br>Topic=%{x}<br>Count=%{y}<extra></extra>",
         "legendgroup": "Iowa",
         "marker": {
          "color": "#FF6692",
          "pattern": {
           "shape": ""
          }
         },
         "name": "Iowa",
         "offsetgroup": "Iowa",
         "orientation": "v",
         "showlegend": true,
         "textposition": "auto",
         "type": "bar",
         "x": [
          "Arthritis among older adults",
          "Binge drinking within past 30 days",
          "Cholesterol checked in past 5 years",
          "Colorectal cancer screening",
          "Current smoking",
          "Diabetes screening within past 3 years",
          "Disability status, including sensory or mobility limitations",
          "Duration of caregiving among older adults",
          "Eating 2 or more fruits daily",
          "Eating 3 or more vegetables daily",
          "Ever had pneumococcal vaccine",
          "Expect to provide care for someone in the next two years",
          "Fair or poor health among older adults with arthritis",
          "Fall with injury within last year",
          "Frequent mental distress",
          "Functional difficulties associated with subjective cognitive decline or memory loss among older adults",
          "High blood pressure ever",
          "Influenza vaccine within past year",
          "Intensity of caregiving among older adults",
          "Lifetime diagnosis of depression",
          "Mammogram within past 2 years",
          "Need assistance with day-to-day activities because of subjective cognitive decline or memory loss",
          "No leisure-time physical activity within past month",
          "Obesity",
          "Oral health:  tooth retention",
          "Pap test within past 3 years",
          "Prevalence of sufficient sleep",
          "Provide care for a friend or family member in past month",
          "Provide care for someone with cognitive impairment within the past month",
          "Self-rated health (fair to poor health)",
          "Self-rated health (good to excellent health)",
          "Severe joint pain among older adults with arthritis",
          "Subjective cognitive decline or memory loss among older adults",
          "Taking medication for high blood pressure",
          "Talked with health care professional about subjective cognitive decline or memory loss",
          "Up-to-date with recommended vaccines and screenings - Men",
          "Up-to-date with recommended vaccines and screenings - Women"
         ],
         "xaxis": "x",
         "y": [
          120,
          167,
          96,
          71,
          167,
          47,
          143,
          66,
          96,
          96,
          166,
          72,
          118,
          71,
          167,
          67,
          96,
          167,
          64,
          167,
          52,
          65,
          167,
          167,
          71,
          51,
          71,
          72,
          66,
          167,
          167,
          94,
          72,
          96,
          67,
          53,
          53
         ],
         "yaxis": "y"
        },
        {
         "alignmentgroup": "True",
         "hovertemplate": "Location=Kansas<br>Topic=%{x}<br>Count=%{y}<extra></extra>",
         "legendgroup": "Kansas",
         "marker": {
          "color": "#B6E880",
          "pattern": {
           "shape": ""
          }
         },
         "name": "Kansas",
         "offsetgroup": "Kansas",
         "orientation": "v",
         "showlegend": true,
         "textposition": "auto",
         "type": "bar",
         "x": [
          "Arthritis among older adults",
          "Binge drinking within past 30 days",
          "Cholesterol checked in past 5 years",
          "Colorectal cancer screening",
          "Current smoking",
          "Diabetes screening within past 3 years",
          "Disability status, including sensory or mobility limitations",
          "Duration of caregiving among older adults",
          "Eating 2 or more fruits daily",
          "Eating 3 or more vegetables daily",
          "Ever had pneumococcal vaccine",
          "Expect to provide care for someone in the next two years",
          "Fair or poor health among older adults with arthritis",
          "Fall with injury within last year",
          "Frequent mental distress",
          "Functional difficulties associated with subjective cognitive decline or memory loss among older adults",
          "High blood pressure ever",
          "Influenza vaccine within past year",
          "Intensity of caregiving among older adults",
          "Lifetime diagnosis of depression",
          "Mammogram within past 2 years",
          "Need assistance with day-to-day activities because of subjective cognitive decline or memory loss",
          "No leisure-time physical activity within past month",
          "Obesity",
          "Oral health:  tooth retention",
          "Pap test within past 3 years",
          "Prevalence of sufficient sleep",
          "Provide care for a friend or family member in past month",
          "Provide care for someone with cognitive impairment within the past month",
          "Self-rated health (fair to poor health)",
          "Self-rated health (good to excellent health)",
          "Severe joint pain among older adults with arthritis",
          "Subjective cognitive decline or memory loss among older adults",
          "Taking medication for high blood pressure",
          "Talked with health care professional about subjective cognitive decline or memory loss",
          "Up-to-date with recommended vaccines and screenings - Men",
          "Up-to-date with recommended vaccines and screenings - Women"
         ],
         "xaxis": "x",
         "y": [
          120,
          168,
          96,
          72,
          168,
          null,
          144,
          70,
          96,
          96,
          168,
          72,
          120,
          72,
          168,
          70,
          96,
          168,
          70,
          168,
          54,
          70,
          168,
          168,
          72,
          54,
          72,
          72,
          70,
          168,
          168,
          96,
          72,
          96,
          70,
          54,
          54
         ],
         "yaxis": "y"
        },
        {
         "alignmentgroup": "True",
         "hovertemplate": "Location=Kentucky<br>Topic=%{x}<br>Count=%{y}<extra></extra>",
         "legendgroup": "Kentucky",
         "marker": {
          "color": "#FF97FF",
          "pattern": {
           "shape": ""
          }
         },
         "name": "Kentucky",
         "offsetgroup": "Kentucky",
         "orientation": "v",
         "showlegend": true,
         "textposition": "auto",
         "type": "bar",
         "x": [
          "Arthritis among older adults",
          "Binge drinking within past 30 days",
          "Cholesterol checked in past 5 years",
          "Colorectal cancer screening",
          "Current smoking",
          "Diabetes screening within past 3 years",
          "Disability status, including sensory or mobility limitations",
          "Duration of caregiving among older adults",
          "Eating 2 or more fruits daily",
          "Eating 3 or more vegetables daily",
          "Ever had pneumococcal vaccine",
          "Expect to provide care for someone in the next two years",
          "Fair or poor health among older adults with arthritis",
          "Fall with injury within last year",
          "Frequent mental distress",
          "Functional difficulties associated with subjective cognitive decline or memory loss among older adults",
          "High blood pressure ever",
          "Influenza vaccine within past year",
          "Intensity of caregiving among older adults",
          "Lifetime diagnosis of depression",
          "Mammogram within past 2 years",
          "Need assistance with day-to-day activities because of subjective cognitive decline or memory loss",
          "No leisure-time physical activity within past month",
          "Obesity",
          "Oral health:  tooth retention",
          "Pap test within past 3 years",
          "Prevalence of sufficient sleep",
          "Provide care for a friend or family member in past month",
          "Provide care for someone with cognitive impairment within the past month",
          "Self-rated health (fair to poor health)",
          "Self-rated health (good to excellent health)",
          "Severe joint pain among older adults with arthritis",
          "Subjective cognitive decline or memory loss among older adults",
          "Taking medication for high blood pressure",
          "Talked with health care professional about subjective cognitive decline or memory loss",
          "Up-to-date with recommended vaccines and screenings - Men",
          "Up-to-date with recommended vaccines and screenings - Women"
         ],
         "xaxis": "x",
         "y": [
          120,
          168,
          96,
          72,
          168,
          168,
          144,
          70,
          96,
          96,
          168,
          72,
          117,
          72,
          168,
          62,
          96,
          168,
          72,
          168,
          53,
          62,
          168,
          168,
          72,
          53,
          72,
          72,
          70,
          168,
          168,
          96,
          72,
          96,
          62,
          54,
          53
         ],
         "yaxis": "y"
        },
        {
         "alignmentgroup": "True",
         "hovertemplate": "Location=Louisiana<br>Topic=%{x}<br>Count=%{y}<extra></extra>",
         "legendgroup": "Louisiana",
         "marker": {
          "color": "#FECB52",
          "pattern": {
           "shape": ""
          }
         },
         "name": "Louisiana",
         "offsetgroup": "Louisiana",
         "orientation": "v",
         "showlegend": true,
         "textposition": "auto",
         "type": "bar",
         "x": [
          "Arthritis among older adults",
          "Binge drinking within past 30 days",
          "Cholesterol checked in past 5 years",
          "Colorectal cancer screening",
          "Current smoking",
          "Diabetes screening within past 3 years",
          "Disability status, including sensory or mobility limitations",
          "Duration of caregiving among older adults",
          "Eating 2 or more fruits daily",
          "Eating 3 or more vegetables daily",
          "Ever had pneumococcal vaccine",
          "Expect to provide care for someone in the next two years",
          "Fair or poor health among older adults with arthritis",
          "Fall with injury within last year",
          "Frequent mental distress",
          "Functional difficulties associated with subjective cognitive decline or memory loss among older adults",
          "High blood pressure ever",
          "Influenza vaccine within past year",
          "Intensity of caregiving among older adults",
          "Lifetime diagnosis of depression",
          "Mammogram within past 2 years",
          "Need assistance with day-to-day activities because of subjective cognitive decline or memory loss",
          "No leisure-time physical activity within past month",
          "Obesity",
          "Oral health:  tooth retention",
          "Pap test within past 3 years",
          "Prevalence of sufficient sleep",
          "Provide care for a friend or family member in past month",
          "Provide care for someone with cognitive impairment within the past month",
          "Self-rated health (fair to poor health)",
          "Self-rated health (good to excellent health)",
          "Severe joint pain among older adults with arthritis",
          "Subjective cognitive decline or memory loss among older adults",
          "Taking medication for high blood pressure",
          "Talked with health care professional about subjective cognitive decline or memory loss",
          "Up-to-date with recommended vaccines and screenings - Men",
          "Up-to-date with recommended vaccines and screenings - Women"
         ],
         "xaxis": "x",
         "y": [
          120,
          168,
          96,
          72,
          168,
          72,
          144,
          65,
          96,
          95,
          166,
          72,
          119,
          72,
          168,
          69,
          96,
          168,
          65,
          168,
          53,
          69,
          168,
          168,
          72,
          51,
          72,
          72,
          65,
          168,
          168,
          96,
          72,
          95,
          69,
          54,
          54
         ],
         "yaxis": "y"
        },
        {
         "alignmentgroup": "True",
         "hovertemplate": "Location=Maine<br>Topic=%{x}<br>Count=%{y}<extra></extra>",
         "legendgroup": "Maine",
         "marker": {
          "color": "#636efa",
          "pattern": {
           "shape": ""
          }
         },
         "name": "Maine",
         "offsetgroup": "Maine",
         "orientation": "v",
         "showlegend": true,
         "textposition": "auto",
         "type": "bar",
         "x": [
          "Arthritis among older adults",
          "Binge drinking within past 30 days",
          "Cholesterol checked in past 5 years",
          "Colorectal cancer screening",
          "Current smoking",
          "Diabetes screening within past 3 years",
          "Disability status, including sensory or mobility limitations",
          "Duration of caregiving among older adults",
          "Eating 2 or more fruits daily",
          "Eating 3 or more vegetables daily",
          "Ever had pneumococcal vaccine",
          "Expect to provide care for someone in the next two years",
          "Fair or poor health among older adults with arthritis",
          "Fall with injury within last year",
          "Frequent mental distress",
          "Functional difficulties associated with subjective cognitive decline or memory loss among older adults",
          "High blood pressure ever",
          "Influenza vaccine within past year",
          "Intensity of caregiving among older adults",
          "Lifetime diagnosis of depression",
          "Mammogram within past 2 years",
          "Need assistance with day-to-day activities because of subjective cognitive decline or memory loss",
          "No leisure-time physical activity within past month",
          "Obesity",
          "Oral health:  tooth retention",
          "Pap test within past 3 years",
          "Prevalence of sufficient sleep",
          "Provide care for a friend or family member in past month",
          "Provide care for someone with cognitive impairment within the past month",
          "Self-rated health (fair to poor health)",
          "Self-rated health (good to excellent health)",
          "Severe joint pain among older adults with arthritis",
          "Subjective cognitive decline or memory loss among older adults",
          "Taking medication for high blood pressure",
          "Talked with health care professional about subjective cognitive decline or memory loss",
          "Up-to-date with recommended vaccines and screenings - Men",
          "Up-to-date with recommended vaccines and screenings - Women"
         ],
         "xaxis": "x",
         "y": [
          120,
          168,
          96,
          72,
          168,
          120,
          144,
          89,
          96,
          96,
          168,
          95,
          119,
          72,
          168,
          78,
          96,
          168,
          88,
          168,
          53,
          78,
          168,
          168,
          72,
          51,
          72,
          95,
          89,
          168,
          168,
          93,
          96,
          96,
          78,
          54,
          53
         ],
         "yaxis": "y"
        },
        {
         "alignmentgroup": "True",
         "hovertemplate": "Location=Maryland<br>Topic=%{x}<br>Count=%{y}<extra></extra>",
         "legendgroup": "Maryland",
         "marker": {
          "color": "#EF553B",
          "pattern": {
           "shape": ""
          }
         },
         "name": "Maryland",
         "offsetgroup": "Maryland",
         "orientation": "v",
         "showlegend": true,
         "textposition": "auto",
         "type": "bar",
         "x": [
          "Arthritis among older adults",
          "Binge drinking within past 30 days",
          "Cholesterol checked in past 5 years",
          "Colorectal cancer screening",
          "Current smoking",
          "Diabetes screening within past 3 years",
          "Disability status, including sensory or mobility limitations",
          "Duration of caregiving among older adults",
          "Eating 2 or more fruits daily",
          "Eating 3 or more vegetables daily",
          "Ever had pneumococcal vaccine",
          "Expect to provide care for someone in the next two years",
          "Fair or poor health among older adults with arthritis",
          "Fall with injury within last year",
          "Frequent mental distress",
          "Functional difficulties associated with subjective cognitive decline or memory loss among older adults",
          "High blood pressure ever",
          "Influenza vaccine within past year",
          "Intensity of caregiving among older adults",
          "Lifetime diagnosis of depression",
          "Mammogram within past 2 years",
          "Need assistance with day-to-day activities because of subjective cognitive decline or memory loss",
          "No leisure-time physical activity within past month",
          "Obesity",
          "Oral health:  tooth retention",
          "Pap test within past 3 years",
          "Prevalence of sufficient sleep",
          "Provide care for a friend or family member in past month",
          "Provide care for someone with cognitive impairment within the past month",
          "Self-rated health (fair to poor health)",
          "Self-rated health (good to excellent health)",
          "Severe joint pain among older adults with arthritis",
          "Subjective cognitive decline or memory loss among older adults",
          "Taking medication for high blood pressure",
          "Talked with health care professional about subjective cognitive decline or memory loss",
          "Up-to-date with recommended vaccines and screenings - Men",
          "Up-to-date with recommended vaccines and screenings - Women"
         ],
         "xaxis": "x",
         "y": [
          120,
          168,
          96,
          72,
          168,
          72,
          144,
          120,
          96,
          96,
          168,
          120,
          120,
          72,
          168,
          114,
          96,
          168,
          120,
          168,
          54,
          115,
          168,
          168,
          72,
          54,
          72,
          120,
          120,
          168,
          168,
          96,
          120,
          96,
          115,
          54,
          54
         ],
         "yaxis": "y"
        },
        {
         "alignmentgroup": "True",
         "hovertemplate": "Location=Massachusetts<br>Topic=%{x}<br>Count=%{y}<extra></extra>",
         "legendgroup": "Massachusetts",
         "marker": {
          "color": "#00cc96",
          "pattern": {
           "shape": ""
          }
         },
         "name": "Massachusetts",
         "offsetgroup": "Massachusetts",
         "orientation": "v",
         "showlegend": true,
         "textposition": "auto",
         "type": "bar",
         "x": [
          "Arthritis among older adults",
          "Binge drinking within past 30 days",
          "Cholesterol checked in past 5 years",
          "Colorectal cancer screening",
          "Current smoking",
          "Diabetes screening within past 3 years",
          "Disability status, including sensory or mobility limitations",
          "Duration of caregiving among older adults",
          "Eating 2 or more fruits daily",
          "Eating 3 or more vegetables daily",
          "Ever had pneumococcal vaccine",
          "Expect to provide care for someone in the next two years",
          "Fair or poor health among older adults with arthritis",
          "Fall with injury within last year",
          "Frequent mental distress",
          "Functional difficulties associated with subjective cognitive decline or memory loss among older adults",
          "High blood pressure ever",
          "Influenza vaccine within past year",
          "Intensity of caregiving among older adults",
          "Lifetime diagnosis of depression",
          "Mammogram within past 2 years",
          "Need assistance with day-to-day activities because of subjective cognitive decline or memory loss",
          "No leisure-time physical activity within past month",
          "Obesity",
          "Oral health:  tooth retention",
          "Pap test within past 3 years",
          "Prevalence of sufficient sleep",
          "Provide care for a friend or family member in past month",
          "Provide care for someone with cognitive impairment within the past month",
          "Self-rated health (fair to poor health)",
          "Self-rated health (good to excellent health)",
          "Severe joint pain among older adults with arthritis",
          "Subjective cognitive decline or memory loss among older adults",
          "Taking medication for high blood pressure",
          "Talked with health care professional about subjective cognitive decline or memory loss",
          "Up-to-date with recommended vaccines and screenings - Men",
          "Up-to-date with recommended vaccines and screenings - Women"
         ],
         "xaxis": "x",
         "y": [
          120,
          168,
          96,
          72,
          168,
          null,
          144,
          46,
          96,
          96,
          168,
          48,
          120,
          72,
          168,
          46,
          96,
          168,
          44,
          168,
          54,
          46,
          168,
          168,
          72,
          54,
          72,
          48,
          44,
          168,
          168,
          96,
          48,
          96,
          46,
          54,
          54
         ],
         "yaxis": "y"
        },
        {
         "alignmentgroup": "True",
         "hovertemplate": "Location=Michigan<br>Topic=%{x}<br>Count=%{y}<extra></extra>",
         "legendgroup": "Michigan",
         "marker": {
          "color": "#ab63fa",
          "pattern": {
           "shape": ""
          }
         },
         "name": "Michigan",
         "offsetgroup": "Michigan",
         "orientation": "v",
         "showlegend": true,
         "textposition": "auto",
         "type": "bar",
         "x": [
          "Arthritis among older adults",
          "Binge drinking within past 30 days",
          "Cholesterol checked in past 5 years",
          "Colorectal cancer screening",
          "Current smoking",
          "Diabetes screening within past 3 years",
          "Disability status, including sensory or mobility limitations",
          "Duration of caregiving among older adults",
          "Eating 2 or more fruits daily",
          "Eating 3 or more vegetables daily",
          "Ever had pneumococcal vaccine",
          "Expect to provide care for someone in the next two years",
          "Fair or poor health among older adults with arthritis",
          "Fall with injury within last year",
          "Frequent mental distress",
          "Functional difficulties associated with subjective cognitive decline or memory loss among older adults",
          "High blood pressure ever",
          "Influenza vaccine within past year",
          "Intensity of caregiving among older adults",
          "Lifetime diagnosis of depression",
          "Mammogram within past 2 years",
          "Need assistance with day-to-day activities because of subjective cognitive decline or memory loss",
          "No leisure-time physical activity within past month",
          "Obesity",
          "Oral health:  tooth retention",
          "Pap test within past 3 years",
          "Prevalence of sufficient sleep",
          "Provide care for a friend or family member in past month",
          "Provide care for someone with cognitive impairment within the past month",
          "Self-rated health (fair to poor health)",
          "Self-rated health (good to excellent health)",
          "Severe joint pain among older adults with arthritis",
          "Subjective cognitive decline or memory loss among older adults",
          "Taking medication for high blood pressure",
          "Talked with health care professional about subjective cognitive decline or memory loss",
          "Up-to-date with recommended vaccines and screenings - Men",
          "Up-to-date with recommended vaccines and screenings - Women"
         ],
         "xaxis": "x",
         "y": [
          120,
          168,
          96,
          72,
          168,
          48,
          144,
          71,
          96,
          96,
          168,
          70,
          120,
          72,
          168,
          146,
          96,
          168,
          68,
          168,
          54,
          150,
          168,
          168,
          72,
          54,
          72,
          72,
          70,
          168,
          168,
          96,
          168,
          96,
          150,
          54,
          54
         ],
         "yaxis": "y"
        },
        {
         "alignmentgroup": "True",
         "hovertemplate": "Location=Midwest<br>Topic=%{x}<br>Count=%{y}<extra></extra>",
         "legendgroup": "Midwest",
         "marker": {
          "color": "#FFA15A",
          "pattern": {
           "shape": ""
          }
         },
         "name": "Midwest",
         "offsetgroup": "Midwest",
         "orientation": "v",
         "showlegend": true,
         "textposition": "auto",
         "type": "bar",
         "x": [
          "Arthritis among older adults",
          "Binge drinking within past 30 days",
          "Cholesterol checked in past 5 years",
          "Colorectal cancer screening",
          "Current smoking",
          "Diabetes screening within past 3 years",
          "Disability status, including sensory or mobility limitations",
          "Duration of caregiving among older adults",
          "Eating 2 or more fruits daily",
          "Eating 3 or more vegetables daily",
          "Ever had pneumococcal vaccine",
          "Expect to provide care for someone in the next two years",
          "Fair or poor health among older adults with arthritis",
          "Fall with injury within last year",
          "Frequent mental distress",
          "Functional difficulties associated with subjective cognitive decline or memory loss among older adults",
          "High blood pressure ever",
          "Influenza vaccine within past year",
          "Intensity of caregiving among older adults",
          "Lifetime diagnosis of depression",
          "Mammogram within past 2 years",
          "Need assistance with day-to-day activities because of subjective cognitive decline or memory loss",
          "No leisure-time physical activity within past month",
          "Obesity",
          "Oral health:  tooth retention",
          "Pap test within past 3 years",
          "Prevalence of sufficient sleep",
          "Provide care for a friend or family member in past month",
          "Provide care for someone with cognitive impairment within the past month",
          "Self-rated health (fair to poor health)",
          "Self-rated health (good to excellent health)",
          "Severe joint pain among older adults with arthritis",
          "Subjective cognitive decline or memory loss among older adults",
          "Taking medication for high blood pressure",
          "Talked with health care professional about subjective cognitive decline or memory loss",
          "Up-to-date with recommended vaccines and screenings - Men",
          "Up-to-date with recommended vaccines and screenings - Women"
         ],
         "xaxis": "x",
         "y": [
          120,
          168,
          96,
          72,
          168,
          168,
          144,
          184,
          96,
          96,
          168,
          192,
          120,
          72,
          168,
          189,
          96,
          168,
          184,
          168,
          54,
          189,
          168,
          168,
          72,
          54,
          72,
          192,
          184,
          168,
          168,
          96,
          192,
          96,
          189,
          54,
          54
         ],
         "yaxis": "y"
        },
        {
         "alignmentgroup": "True",
         "hovertemplate": "Location=Minnesota<br>Topic=%{x}<br>Count=%{y}<extra></extra>",
         "legendgroup": "Minnesota",
         "marker": {
          "color": "#19d3f3",
          "pattern": {
           "shape": ""
          }
         },
         "name": "Minnesota",
         "offsetgroup": "Minnesota",
         "orientation": "v",
         "showlegend": true,
         "textposition": "auto",
         "type": "bar",
         "x": [
          "Arthritis among older adults",
          "Binge drinking within past 30 days",
          "Cholesterol checked in past 5 years",
          "Colorectal cancer screening",
          "Current smoking",
          "Diabetes screening within past 3 years",
          "Disability status, including sensory or mobility limitations",
          "Duration of caregiving among older adults",
          "Eating 2 or more fruits daily",
          "Eating 3 or more vegetables daily",
          "Ever had pneumococcal vaccine",
          "Expect to provide care for someone in the next two years",
          "Fair or poor health among older adults with arthritis",
          "Fall with injury within last year",
          "Frequent mental distress",
          "Functional difficulties associated with subjective cognitive decline or memory loss among older adults",
          "High blood pressure ever",
          "Influenza vaccine within past year",
          "Intensity of caregiving among older adults",
          "Lifetime diagnosis of depression",
          "Mammogram within past 2 years",
          "Need assistance with day-to-day activities because of subjective cognitive decline or memory loss",
          "No leisure-time physical activity within past month",
          "Obesity",
          "Oral health:  tooth retention",
          "Pap test within past 3 years",
          "Prevalence of sufficient sleep",
          "Provide care for a friend or family member in past month",
          "Provide care for someone with cognitive impairment within the past month",
          "Self-rated health (fair to poor health)",
          "Self-rated health (good to excellent health)",
          "Severe joint pain among older adults with arthritis",
          "Subjective cognitive decline or memory loss among older adults",
          "Taking medication for high blood pressure",
          "Talked with health care professional about subjective cognitive decline or memory loss",
          "Up-to-date with recommended vaccines and screenings - Men",
          "Up-to-date with recommended vaccines and screenings - Women"
         ],
         "xaxis": "x",
         "y": [
          120,
          168,
          96,
          72,
          168,
          48,
          144,
          70,
          96,
          96,
          168,
          72,
          120,
          72,
          168,
          69,
          96,
          168,
          70,
          168,
          54,
          69,
          168,
          168,
          72,
          54,
          72,
          72,
          70,
          168,
          168,
          96,
          72,
          96,
          69,
          54,
          54
         ],
         "yaxis": "y"
        },
        {
         "alignmentgroup": "True",
         "hovertemplate": "Location=Mississippi<br>Topic=%{x}<br>Count=%{y}<extra></extra>",
         "legendgroup": "Mississippi",
         "marker": {
          "color": "#FF6692",
          "pattern": {
           "shape": ""
          }
         },
         "name": "Mississippi",
         "offsetgroup": "Mississippi",
         "orientation": "v",
         "showlegend": true,
         "textposition": "auto",
         "type": "bar",
         "x": [
          "Arthritis among older adults",
          "Binge drinking within past 30 days",
          "Cholesterol checked in past 5 years",
          "Colorectal cancer screening",
          "Current smoking",
          "Diabetes screening within past 3 years",
          "Disability status, including sensory or mobility limitations",
          "Duration of caregiving among older adults",
          "Eating 2 or more fruits daily",
          "Eating 3 or more vegetables daily",
          "Ever had pneumococcal vaccine",
          "Expect to provide care for someone in the next two years",
          "Fair or poor health among older adults with arthritis",
          "Fall with injury within last year",
          "Frequent mental distress",
          "Functional difficulties associated with subjective cognitive decline or memory loss among older adults",
          "High blood pressure ever",
          "Influenza vaccine within past year",
          "Intensity of caregiving among older adults",
          "Lifetime diagnosis of depression",
          "Mammogram within past 2 years",
          "Need assistance with day-to-day activities because of subjective cognitive decline or memory loss",
          "No leisure-time physical activity within past month",
          "Obesity",
          "Oral health:  tooth retention",
          "Pap test within past 3 years",
          "Prevalence of sufficient sleep",
          "Provide care for a friend or family member in past month",
          "Provide care for someone with cognitive impairment within the past month",
          "Self-rated health (fair to poor health)",
          "Self-rated health (good to excellent health)",
          "Severe joint pain among older adults with arthritis",
          "Subjective cognitive decline or memory loss among older adults",
          "Taking medication for high blood pressure",
          "Talked with health care professional about subjective cognitive decline or memory loss",
          "Up-to-date with recommended vaccines and screenings - Men",
          "Up-to-date with recommended vaccines and screenings - Women"
         ],
         "xaxis": "x",
         "y": [
          120,
          168,
          96,
          72,
          168,
          143,
          144,
          65,
          96,
          96,
          168,
          72,
          116,
          72,
          168,
          106,
          96,
          168,
          65,
          168,
          53,
          106,
          168,
          168,
          71,
          53,
          72,
          72,
          65,
          168,
          168,
          92,
          120,
          96,
          106,
          52,
          54
         ],
         "yaxis": "y"
        },
        {
         "alignmentgroup": "True",
         "hovertemplate": "Location=Missouri<br>Topic=%{x}<br>Count=%{y}<extra></extra>",
         "legendgroup": "Missouri",
         "marker": {
          "color": "#B6E880",
          "pattern": {
           "shape": ""
          }
         },
         "name": "Missouri",
         "offsetgroup": "Missouri",
         "orientation": "v",
         "showlegend": true,
         "textposition": "auto",
         "type": "bar",
         "x": [
          "Arthritis among older adults",
          "Binge drinking within past 30 days",
          "Cholesterol checked in past 5 years",
          "Colorectal cancer screening",
          "Current smoking",
          "Diabetes screening within past 3 years",
          "Disability status, including sensory or mobility limitations",
          "Duration of caregiving among older adults",
          "Eating 2 or more fruits daily",
          "Eating 3 or more vegetables daily",
          "Ever had pneumococcal vaccine",
          "Expect to provide care for someone in the next two years",
          "Fair or poor health among older adults with arthritis",
          "Fall with injury within last year",
          "Frequent mental distress",
          "Functional difficulties associated with subjective cognitive decline or memory loss among older adults",
          "High blood pressure ever",
          "Influenza vaccine within past year",
          "Intensity of caregiving among older adults",
          "Lifetime diagnosis of depression",
          "Mammogram within past 2 years",
          "Need assistance with day-to-day activities because of subjective cognitive decline or memory loss",
          "No leisure-time physical activity within past month",
          "Obesity",
          "Oral health:  tooth retention",
          "Pap test within past 3 years",
          "Prevalence of sufficient sleep",
          "Provide care for a friend or family member in past month",
          "Provide care for someone with cognitive impairment within the past month",
          "Self-rated health (fair to poor health)",
          "Self-rated health (good to excellent health)",
          "Severe joint pain among older adults with arthritis",
          "Subjective cognitive decline or memory loss among older adults",
          "Taking medication for high blood pressure",
          "Talked with health care professional about subjective cognitive decline or memory loss",
          "Up-to-date with recommended vaccines and screenings - Men",
          "Up-to-date with recommended vaccines and screenings - Women"
         ],
         "xaxis": "x",
         "y": [
          120,
          168,
          96,
          72,
          168,
          72,
          144,
          70,
          96,
          96,
          168,
          72,
          119,
          72,
          168,
          68,
          96,
          168,
          70,
          168,
          54,
          68,
          168,
          168,
          72,
          54,
          72,
          72,
          70,
          168,
          168,
          95,
          72,
          96,
          68,
          54,
          54
         ],
         "yaxis": "y"
        },
        {
         "alignmentgroup": "True",
         "hovertemplate": "Location=Montana<br>Topic=%{x}<br>Count=%{y}<extra></extra>",
         "legendgroup": "Montana",
         "marker": {
          "color": "#FF97FF",
          "pattern": {
           "shape": ""
          }
         },
         "name": "Montana",
         "offsetgroup": "Montana",
         "orientation": "v",
         "showlegend": true,
         "textposition": "auto",
         "type": "bar",
         "x": [
          "Arthritis among older adults",
          "Binge drinking within past 30 days",
          "Cholesterol checked in past 5 years",
          "Colorectal cancer screening",
          "Current smoking",
          "Diabetes screening within past 3 years",
          "Disability status, including sensory or mobility limitations",
          "Duration of caregiving among older adults",
          "Eating 2 or more fruits daily",
          "Eating 3 or more vegetables daily",
          "Ever had pneumococcal vaccine",
          "Expect to provide care for someone in the next two years",
          "Fair or poor health among older adults with arthritis",
          "Fall with injury within last year",
          "Frequent mental distress",
          "Functional difficulties associated with subjective cognitive decline or memory loss among older adults",
          "High blood pressure ever",
          "Influenza vaccine within past year",
          "Intensity of caregiving among older adults",
          "Lifetime diagnosis of depression",
          "Mammogram within past 2 years",
          "Need assistance with day-to-day activities because of subjective cognitive decline or memory loss",
          "No leisure-time physical activity within past month",
          "Obesity",
          "Oral health:  tooth retention",
          "Pap test within past 3 years",
          "Prevalence of sufficient sleep",
          "Provide care for a friend or family member in past month",
          "Provide care for someone with cognitive impairment within the past month",
          "Self-rated health (fair to poor health)",
          "Self-rated health (good to excellent health)",
          "Severe joint pain among older adults with arthritis",
          "Subjective cognitive decline or memory loss among older adults",
          "Taking medication for high blood pressure",
          "Talked with health care professional about subjective cognitive decline or memory loss",
          "Up-to-date with recommended vaccines and screenings - Men",
          "Up-to-date with recommended vaccines and screenings - Women"
         ],
         "xaxis": "x",
         "y": [
          117,
          165,
          94,
          71,
          165,
          47,
          142,
          36,
          94,
          94,
          164,
          48,
          116,
          71,
          165,
          44,
          94,
          165,
          36,
          165,
          52,
          44,
          165,
          165,
          71,
          51,
          71,
          48,
          36,
          165,
          165,
          93,
          48,
          94,
          44,
          53,
          53
         ],
         "yaxis": "y"
        },
        {
         "alignmentgroup": "True",
         "hovertemplate": "Location=Nebraska<br>Topic=%{x}<br>Count=%{y}<extra></extra>",
         "legendgroup": "Nebraska",
         "marker": {
          "color": "#FECB52",
          "pattern": {
           "shape": ""
          }
         },
         "name": "Nebraska",
         "offsetgroup": "Nebraska",
         "orientation": "v",
         "showlegend": true,
         "textposition": "auto",
         "type": "bar",
         "x": [
          "Arthritis among older adults",
          "Binge drinking within past 30 days",
          "Cholesterol checked in past 5 years",
          "Colorectal cancer screening",
          "Current smoking",
          "Diabetes screening within past 3 years",
          "Disability status, including sensory or mobility limitations",
          "Duration of caregiving among older adults",
          "Eating 2 or more fruits daily",
          "Eating 3 or more vegetables daily",
          "Ever had pneumococcal vaccine",
          "Expect to provide care for someone in the next two years",
          "Fair or poor health among older adults with arthritis",
          "Fall with injury within last year",
          "Frequent mental distress",
          "Functional difficulties associated with subjective cognitive decline or memory loss among older adults",
          "High blood pressure ever",
          "Influenza vaccine within past year",
          "Intensity of caregiving among older adults",
          "Lifetime diagnosis of depression",
          "Mammogram within past 2 years",
          "Need assistance with day-to-day activities because of subjective cognitive decline or memory loss",
          "No leisure-time physical activity within past month",
          "Obesity",
          "Oral health:  tooth retention",
          "Pap test within past 3 years",
          "Prevalence of sufficient sleep",
          "Provide care for a friend or family member in past month",
          "Provide care for someone with cognitive impairment within the past month",
          "Self-rated health (fair to poor health)",
          "Self-rated health (good to excellent health)",
          "Severe joint pain among older adults with arthritis",
          "Subjective cognitive decline or memory loss among older adults",
          "Taking medication for high blood pressure",
          "Talked with health care professional about subjective cognitive decline or memory loss",
          "Up-to-date with recommended vaccines and screenings - Men",
          "Up-to-date with recommended vaccines and screenings - Women"
         ],
         "xaxis": "x",
         "y": [
          120,
          168,
          96,
          72,
          168,
          48,
          144,
          69,
          96,
          96,
          168,
          72,
          120,
          72,
          168,
          68,
          96,
          168,
          69,
          168,
          54,
          68,
          168,
          168,
          72,
          54,
          72,
          72,
          69,
          168,
          168,
          96,
          72,
          96,
          68,
          54,
          54
         ],
         "yaxis": "y"
        },
        {
         "alignmentgroup": "True",
         "hovertemplate": "Location=Nevada<br>Topic=%{x}<br>Count=%{y}<extra></extra>",
         "legendgroup": "Nevada",
         "marker": {
          "color": "#636efa",
          "pattern": {
           "shape": ""
          }
         },
         "name": "Nevada",
         "offsetgroup": "Nevada",
         "orientation": "v",
         "showlegend": true,
         "textposition": "auto",
         "type": "bar",
         "x": [
          "Arthritis among older adults",
          "Binge drinking within past 30 days",
          "Cholesterol checked in past 5 years",
          "Colorectal cancer screening",
          "Current smoking",
          "Diabetes screening within past 3 years",
          "Disability status, including sensory or mobility limitations",
          "Duration of caregiving among older adults",
          "Eating 2 or more fruits daily",
          "Eating 3 or more vegetables daily",
          "Ever had pneumococcal vaccine",
          "Expect to provide care for someone in the next two years",
          "Fair or poor health among older adults with arthritis",
          "Fall with injury within last year",
          "Frequent mental distress",
          "Functional difficulties associated with subjective cognitive decline or memory loss among older adults",
          "High blood pressure ever",
          "Influenza vaccine within past year",
          "Intensity of caregiving among older adults",
          "Lifetime diagnosis of depression",
          "Mammogram within past 2 years",
          "Need assistance with day-to-day activities because of subjective cognitive decline or memory loss",
          "No leisure-time physical activity within past month",
          "Obesity",
          "Oral health:  tooth retention",
          "Pap test within past 3 years",
          "Prevalence of sufficient sleep",
          "Provide care for a friend or family member in past month",
          "Provide care for someone with cognitive impairment within the past month",
          "Self-rated health (fair to poor health)",
          "Self-rated health (good to excellent health)",
          "Severe joint pain among older adults with arthritis",
          "Subjective cognitive decline or memory loss among older adults",
          "Taking medication for high blood pressure",
          "Talked with health care professional about subjective cognitive decline or memory loss",
          "Up-to-date with recommended vaccines and screenings - Men",
          "Up-to-date with recommended vaccines and screenings - Women"
         ],
         "xaxis": "x",
         "y": [
          120,
          168,
          96,
          72,
          168,
          96,
          144,
          72,
          96,
          96,
          168,
          72,
          120,
          72,
          168,
          92,
          96,
          168,
          72,
          168,
          54,
          92,
          168,
          168,
          72,
          54,
          72,
          72,
          72,
          168,
          168,
          96,
          96,
          96,
          92,
          54,
          54
         ],
         "yaxis": "y"
        },
        {
         "alignmentgroup": "True",
         "hovertemplate": "Location=New Hampshire<br>Topic=%{x}<br>Count=%{y}<extra></extra>",
         "legendgroup": "New Hampshire",
         "marker": {
          "color": "#EF553B",
          "pattern": {
           "shape": ""
          }
         },
         "name": "New Hampshire",
         "offsetgroup": "New Hampshire",
         "orientation": "v",
         "showlegend": true,
         "textposition": "auto",
         "type": "bar",
         "x": [
          "Arthritis among older adults",
          "Binge drinking within past 30 days",
          "Cholesterol checked in past 5 years",
          "Colorectal cancer screening",
          "Current smoking",
          "Diabetes screening within past 3 years",
          "Disability status, including sensory or mobility limitations",
          "Duration of caregiving among older adults",
          "Eating 2 or more fruits daily",
          "Eating 3 or more vegetables daily",
          "Ever had pneumococcal vaccine",
          "Expect to provide care for someone in the next two years",
          "Fair or poor health among older adults with arthritis",
          "Fall with injury within last year",
          "Frequent mental distress",
          "Functional difficulties associated with subjective cognitive decline or memory loss among older adults",
          "High blood pressure ever",
          "Influenza vaccine within past year",
          "Intensity of caregiving among older adults",
          "Lifetime diagnosis of depression",
          "Mammogram within past 2 years",
          "Need assistance with day-to-day activities because of subjective cognitive decline or memory loss",
          "No leisure-time physical activity within past month",
          "Obesity",
          "Oral health:  tooth retention",
          "Pap test within past 3 years",
          "Prevalence of sufficient sleep",
          "Provide care for a friend or family member in past month",
          "Provide care for someone with cognitive impairment within the past month",
          "Self-rated health (fair to poor health)",
          "Self-rated health (good to excellent health)",
          "Severe joint pain among older adults with arthritis",
          "Subjective cognitive decline or memory loss among older adults",
          "Taking medication for high blood pressure",
          "Talked with health care professional about subjective cognitive decline or memory loss",
          "Up-to-date with recommended vaccines and screenings - Men",
          "Up-to-date with recommended vaccines and screenings - Women"
         ],
         "xaxis": "x",
         "y": [
          120,
          168,
          96,
          72,
          168,
          48,
          144,
          null,
          96,
          96,
          168,
          null,
          118,
          72,
          168,
          61,
          96,
          168,
          null,
          168,
          54,
          61,
          168,
          168,
          72,
          53,
          72,
          null,
          null,
          168,
          168,
          94,
          72,
          96,
          61,
          53,
          53
         ],
         "yaxis": "y"
        },
        {
         "alignmentgroup": "True",
         "hovertemplate": "Location=New Jersey<br>Topic=%{x}<br>Count=%{y}<extra></extra>",
         "legendgroup": "New Jersey",
         "marker": {
          "color": "#00cc96",
          "pattern": {
           "shape": ""
          }
         },
         "name": "New Jersey",
         "offsetgroup": "New Jersey",
         "orientation": "v",
         "showlegend": true,
         "textposition": "auto",
         "type": "bar",
         "x": [
          "Arthritis among older adults",
          "Binge drinking within past 30 days",
          "Cholesterol checked in past 5 years",
          "Colorectal cancer screening",
          "Current smoking",
          "Diabetes screening within past 3 years",
          "Disability status, including sensory or mobility limitations",
          "Duration of caregiving among older adults",
          "Eating 2 or more fruits daily",
          "Eating 3 or more vegetables daily",
          "Ever had pneumococcal vaccine",
          "Expect to provide care for someone in the next two years",
          "Fair or poor health among older adults with arthritis",
          "Fall with injury within last year",
          "Frequent mental distress",
          "Functional difficulties associated with subjective cognitive decline or memory loss among older adults",
          "High blood pressure ever",
          "Influenza vaccine within past year",
          "Intensity of caregiving among older adults",
          "Lifetime diagnosis of depression",
          "Mammogram within past 2 years",
          "Need assistance with day-to-day activities because of subjective cognitive decline or memory loss",
          "No leisure-time physical activity within past month",
          "Obesity",
          "Oral health:  tooth retention",
          "Pap test within past 3 years",
          "Prevalence of sufficient sleep",
          "Provide care for a friend or family member in past month",
          "Provide care for someone with cognitive impairment within the past month",
          "Self-rated health (fair to poor health)",
          "Self-rated health (good to excellent health)",
          "Severe joint pain among older adults with arthritis",
          "Subjective cognitive decline or memory loss among older adults",
          "Taking medication for high blood pressure",
          "Talked with health care professional about subjective cognitive decline or memory loss",
          "Up-to-date with recommended vaccines and screenings - Men",
          "Up-to-date with recommended vaccines and screenings - Women"
         ],
         "xaxis": "x",
         "y": [
          96,
          143,
          72,
          71,
          143,
          71,
          119,
          141,
          72,
          72,
          143,
          143,
          96,
          71,
          143,
          116,
          72,
          143,
          141,
          143,
          53,
          116,
          143,
          143,
          71,
          52,
          71,
          143,
          141,
          143,
          143,
          72,
          118,
          72,
          116,
          53,
          53
         ],
         "yaxis": "y"
        },
        {
         "alignmentgroup": "True",
         "hovertemplate": "Location=New Mexico<br>Topic=%{x}<br>Count=%{y}<extra></extra>",
         "legendgroup": "New Mexico",
         "marker": {
          "color": "#ab63fa",
          "pattern": {
           "shape": ""
          }
         },
         "name": "New Mexico",
         "offsetgroup": "New Mexico",
         "orientation": "v",
         "showlegend": true,
         "textposition": "auto",
         "type": "bar",
         "x": [
          "Arthritis among older adults",
          "Binge drinking within past 30 days",
          "Cholesterol checked in past 5 years",
          "Colorectal cancer screening",
          "Current smoking",
          "Diabetes screening within past 3 years",
          "Disability status, including sensory or mobility limitations",
          "Duration of caregiving among older adults",
          "Eating 2 or more fruits daily",
          "Eating 3 or more vegetables daily",
          "Ever had pneumococcal vaccine",
          "Expect to provide care for someone in the next two years",
          "Fair or poor health among older adults with arthritis",
          "Fall with injury within last year",
          "Frequent mental distress",
          "Functional difficulties associated with subjective cognitive decline or memory loss among older adults",
          "High blood pressure ever",
          "Influenza vaccine within past year",
          "Intensity of caregiving among older adults",
          "Lifetime diagnosis of depression",
          "Mammogram within past 2 years",
          "Need assistance with day-to-day activities because of subjective cognitive decline or memory loss",
          "No leisure-time physical activity within past month",
          "Obesity",
          "Oral health:  tooth retention",
          "Pap test within past 3 years",
          "Prevalence of sufficient sleep",
          "Provide care for a friend or family member in past month",
          "Provide care for someone with cognitive impairment within the past month",
          "Self-rated health (fair to poor health)",
          "Self-rated health (good to excellent health)",
          "Severe joint pain among older adults with arthritis",
          "Subjective cognitive decline or memory loss among older adults",
          "Taking medication for high blood pressure",
          "Talked with health care professional about subjective cognitive decline or memory loss",
          "Up-to-date with recommended vaccines and screenings - Men",
          "Up-to-date with recommended vaccines and screenings - Women"
         ],
         "xaxis": "x",
         "y": [
          120,
          168,
          96,
          72,
          168,
          168,
          144,
          70,
          96,
          96,
          168,
          72,
          119,
          72,
          168,
          65,
          96,
          168,
          70,
          168,
          54,
          65,
          168,
          168,
          72,
          54,
          72,
          72,
          70,
          168,
          168,
          95,
          72,
          96,
          65,
          52,
          54
         ],
         "yaxis": "y"
        },
        {
         "alignmentgroup": "True",
         "hovertemplate": "Location=New York<br>Topic=%{x}<br>Count=%{y}<extra></extra>",
         "legendgroup": "New York",
         "marker": {
          "color": "#FFA15A",
          "pattern": {
           "shape": ""
          }
         },
         "name": "New York",
         "offsetgroup": "New York",
         "orientation": "v",
         "showlegend": true,
         "textposition": "auto",
         "type": "bar",
         "x": [
          "Arthritis among older adults",
          "Binge drinking within past 30 days",
          "Cholesterol checked in past 5 years",
          "Colorectal cancer screening",
          "Current smoking",
          "Diabetes screening within past 3 years",
          "Disability status, including sensory or mobility limitations",
          "Duration of caregiving among older adults",
          "Eating 2 or more fruits daily",
          "Eating 3 or more vegetables daily",
          "Ever had pneumococcal vaccine",
          "Expect to provide care for someone in the next two years",
          "Fair or poor health among older adults with arthritis",
          "Fall with injury within last year",
          "Frequent mental distress",
          "Functional difficulties associated with subjective cognitive decline or memory loss among older adults",
          "High blood pressure ever",
          "Influenza vaccine within past year",
          "Intensity of caregiving among older adults",
          "Lifetime diagnosis of depression",
          "Mammogram within past 2 years",
          "Need assistance with day-to-day activities because of subjective cognitive decline or memory loss",
          "No leisure-time physical activity within past month",
          "Obesity",
          "Oral health:  tooth retention",
          "Pap test within past 3 years",
          "Prevalence of sufficient sleep",
          "Provide care for a friend or family member in past month",
          "Provide care for someone with cognitive impairment within the past month",
          "Self-rated health (fair to poor health)",
          "Self-rated health (good to excellent health)",
          "Severe joint pain among older adults with arthritis",
          "Subjective cognitive decline or memory loss among older adults",
          "Taking medication for high blood pressure",
          "Talked with health care professional about subjective cognitive decline or memory loss",
          "Up-to-date with recommended vaccines and screenings - Men",
          "Up-to-date with recommended vaccines and screenings - Women"
         ],
         "xaxis": "x",
         "y": [
          120,
          168,
          96,
          72,
          168,
          72,
          144,
          190,
          96,
          96,
          168,
          192,
          120,
          72,
          168,
          191,
          96,
          168,
          190,
          168,
          54,
          191,
          168,
          168,
          72,
          54,
          72,
          192,
          190,
          168,
          168,
          96,
          192,
          96,
          191,
          54,
          54
         ],
         "yaxis": "y"
        },
        {
         "alignmentgroup": "True",
         "hovertemplate": "Location=North Carolina<br>Topic=%{x}<br>Count=%{y}<extra></extra>",
         "legendgroup": "North Carolina",
         "marker": {
          "color": "#19d3f3",
          "pattern": {
           "shape": ""
          }
         },
         "name": "North Carolina",
         "offsetgroup": "North Carolina",
         "orientation": "v",
         "showlegend": true,
         "textposition": "auto",
         "type": "bar",
         "x": [
          "Arthritis among older adults",
          "Binge drinking within past 30 days",
          "Cholesterol checked in past 5 years",
          "Colorectal cancer screening",
          "Current smoking",
          "Diabetes screening within past 3 years",
          "Disability status, including sensory or mobility limitations",
          "Duration of caregiving among older adults",
          "Eating 2 or more fruits daily",
          "Eating 3 or more vegetables daily",
          "Ever had pneumococcal vaccine",
          "Expect to provide care for someone in the next two years",
          "Fair or poor health among older adults with arthritis",
          "Fall with injury within last year",
          "Frequent mental distress",
          "Functional difficulties associated with subjective cognitive decline or memory loss among older adults",
          "High blood pressure ever",
          "Influenza vaccine within past year",
          "Intensity of caregiving among older adults",
          "Lifetime diagnosis of depression",
          "Mammogram within past 2 years",
          "Need assistance with day-to-day activities because of subjective cognitive decline or memory loss",
          "No leisure-time physical activity within past month",
          "Obesity",
          "Oral health:  tooth retention",
          "Pap test within past 3 years",
          "Prevalence of sufficient sleep",
          "Provide care for a friend or family member in past month",
          "Provide care for someone with cognitive impairment within the past month",
          "Self-rated health (fair to poor health)",
          "Self-rated health (good to excellent health)",
          "Severe joint pain among older adults with arthritis",
          "Subjective cognitive decline or memory loss among older adults",
          "Taking medication for high blood pressure",
          "Talked with health care professional about subjective cognitive decline or memory loss",
          "Up-to-date with recommended vaccines and screenings - Men",
          "Up-to-date with recommended vaccines and screenings - Women"
         ],
         "xaxis": "x",
         "y": [
          120,
          168,
          96,
          72,
          168,
          119,
          144,
          46,
          96,
          96,
          167,
          46,
          118,
          72,
          168,
          66,
          96,
          168,
          46,
          168,
          54,
          66,
          168,
          168,
          72,
          53,
          72,
          46,
          46,
          168,
          168,
          94,
          72,
          95,
          66,
          54,
          54
         ],
         "yaxis": "y"
        },
        {
         "alignmentgroup": "True",
         "hovertemplate": "Location=North Dakota<br>Topic=%{x}<br>Count=%{y}<extra></extra>",
         "legendgroup": "North Dakota",
         "marker": {
          "color": "#FF6692",
          "pattern": {
           "shape": ""
          }
         },
         "name": "North Dakota",
         "offsetgroup": "North Dakota",
         "orientation": "v",
         "showlegend": true,
         "textposition": "auto",
         "type": "bar",
         "x": [
          "Arthritis among older adults",
          "Binge drinking within past 30 days",
          "Cholesterol checked in past 5 years",
          "Colorectal cancer screening",
          "Current smoking",
          "Diabetes screening within past 3 years",
          "Disability status, including sensory or mobility limitations",
          "Duration of caregiving among older adults",
          "Eating 2 or more fruits daily",
          "Eating 3 or more vegetables daily",
          "Ever had pneumococcal vaccine",
          "Expect to provide care for someone in the next two years",
          "Fair or poor health among older adults with arthritis",
          "Fall with injury within last year",
          "Frequent mental distress",
          "Functional difficulties associated with subjective cognitive decline or memory loss among older adults",
          "High blood pressure ever",
          "Influenza vaccine within past year",
          "Intensity of caregiving among older adults",
          "Lifetime diagnosis of depression",
          "Mammogram within past 2 years",
          "Need assistance with day-to-day activities because of subjective cognitive decline or memory loss",
          "No leisure-time physical activity within past month",
          "Obesity",
          "Oral health:  tooth retention",
          "Pap test within past 3 years",
          "Prevalence of sufficient sleep",
          "Provide care for a friend or family member in past month",
          "Provide care for someone with cognitive impairment within the past month",
          "Self-rated health (fair to poor health)",
          "Self-rated health (good to excellent health)",
          "Severe joint pain among older adults with arthritis",
          "Subjective cognitive decline or memory loss among older adults",
          "Taking medication for high blood pressure",
          "Talked with health care professional about subjective cognitive decline or memory loss",
          "Up-to-date with recommended vaccines and screenings - Men",
          "Up-to-date with recommended vaccines and screenings - Women"
         ],
         "xaxis": "x",
         "y": [
          120,
          168,
          96,
          72,
          168,
          120,
          144,
          66,
          95,
          96,
          166,
          72,
          112,
          72,
          168,
          57,
          96,
          168,
          66,
          168,
          48,
          57,
          168,
          168,
          72,
          47,
          72,
          72,
          66,
          168,
          168,
          89,
          72,
          93,
          57,
          53,
          50
         ],
         "yaxis": "y"
        },
        {
         "alignmentgroup": "True",
         "hovertemplate": "Location=Northeast<br>Topic=%{x}<br>Count=%{y}<extra></extra>",
         "legendgroup": "Northeast",
         "marker": {
          "color": "#B6E880",
          "pattern": {
           "shape": ""
          }
         },
         "name": "Northeast",
         "offsetgroup": "Northeast",
         "orientation": "v",
         "showlegend": true,
         "textposition": "auto",
         "type": "bar",
         "x": [
          "Arthritis among older adults",
          "Binge drinking within past 30 days",
          "Cholesterol checked in past 5 years",
          "Colorectal cancer screening",
          "Current smoking",
          "Diabetes screening within past 3 years",
          "Disability status, including sensory or mobility limitations",
          "Duration of caregiving among older adults",
          "Eating 2 or more fruits daily",
          "Eating 3 or more vegetables daily",
          "Ever had pneumococcal vaccine",
          "Expect to provide care for someone in the next two years",
          "Fair or poor health among older adults with arthritis",
          "Fall with injury within last year",
          "Frequent mental distress",
          "Functional difficulties associated with subjective cognitive decline or memory loss among older adults",
          "High blood pressure ever",
          "Influenza vaccine within past year",
          "Intensity of caregiving among older adults",
          "Lifetime diagnosis of depression",
          "Mammogram within past 2 years",
          "Need assistance with day-to-day activities because of subjective cognitive decline or memory loss",
          "No leisure-time physical activity within past month",
          "Obesity",
          "Oral health:  tooth retention",
          "Pap test within past 3 years",
          "Prevalence of sufficient sleep",
          "Provide care for a friend or family member in past month",
          "Provide care for someone with cognitive impairment within the past month",
          "Self-rated health (fair to poor health)",
          "Self-rated health (good to excellent health)",
          "Severe joint pain among older adults with arthritis",
          "Subjective cognitive decline or memory loss among older adults",
          "Taking medication for high blood pressure",
          "Talked with health care professional about subjective cognitive decline or memory loss",
          "Up-to-date with recommended vaccines and screenings - Men",
          "Up-to-date with recommended vaccines and screenings - Women"
         ],
         "xaxis": "x",
         "y": [
          120,
          168,
          96,
          72,
          168,
          144,
          144,
          190,
          96,
          96,
          168,
          192,
          120,
          72,
          168,
          192,
          96,
          168,
          190,
          168,
          54,
          192,
          168,
          168,
          72,
          54,
          72,
          192,
          190,
          168,
          168,
          96,
          192,
          96,
          192,
          54,
          54
         ],
         "yaxis": "y"
        },
        {
         "alignmentgroup": "True",
         "hovertemplate": "Location=Ohio<br>Topic=%{x}<br>Count=%{y}<extra></extra>",
         "legendgroup": "Ohio",
         "marker": {
          "color": "#FF97FF",
          "pattern": {
           "shape": ""
          }
         },
         "name": "Ohio",
         "offsetgroup": "Ohio",
         "orientation": "v",
         "showlegend": true,
         "textposition": "auto",
         "type": "bar",
         "x": [
          "Arthritis among older adults",
          "Binge drinking within past 30 days",
          "Cholesterol checked in past 5 years",
          "Colorectal cancer screening",
          "Current smoking",
          "Diabetes screening within past 3 years",
          "Disability status, including sensory or mobility limitations",
          "Duration of caregiving among older adults",
          "Eating 2 or more fruits daily",
          "Eating 3 or more vegetables daily",
          "Ever had pneumococcal vaccine",
          "Expect to provide care for someone in the next two years",
          "Fair or poor health among older adults with arthritis",
          "Fall with injury within last year",
          "Frequent mental distress",
          "Functional difficulties associated with subjective cognitive decline or memory loss among older adults",
          "High blood pressure ever",
          "Influenza vaccine within past year",
          "Intensity of caregiving among older adults",
          "Lifetime diagnosis of depression",
          "Mammogram within past 2 years",
          "Need assistance with day-to-day activities because of subjective cognitive decline or memory loss",
          "No leisure-time physical activity within past month",
          "Obesity",
          "Oral health:  tooth retention",
          "Pap test within past 3 years",
          "Prevalence of sufficient sleep",
          "Provide care for a friend or family member in past month",
          "Provide care for someone with cognitive impairment within the past month",
          "Self-rated health (fair to poor health)",
          "Self-rated health (good to excellent health)",
          "Severe joint pain among older adults with arthritis",
          "Subjective cognitive decline or memory loss among older adults",
          "Taking medication for high blood pressure",
          "Talked with health care professional about subjective cognitive decline or memory loss",
          "Up-to-date with recommended vaccines and screenings - Men",
          "Up-to-date with recommended vaccines and screenings - Women"
         ],
         "xaxis": "x",
         "y": [
          120,
          168,
          96,
          72,
          168,
          24,
          144,
          135,
          96,
          96,
          168,
          144,
          120,
          72,
          168,
          117,
          96,
          168,
          135,
          168,
          54,
          117,
          168,
          168,
          72,
          53,
          72,
          144,
          135,
          168,
          168,
          96,
          120,
          96,
          117,
          54,
          54
         ],
         "yaxis": "y"
        },
        {
         "alignmentgroup": "True",
         "hovertemplate": "Location=Oklahoma<br>Topic=%{x}<br>Count=%{y}<extra></extra>",
         "legendgroup": "Oklahoma",
         "marker": {
          "color": "#FECB52",
          "pattern": {
           "shape": ""
          }
         },
         "name": "Oklahoma",
         "offsetgroup": "Oklahoma",
         "orientation": "v",
         "showlegend": true,
         "textposition": "auto",
         "type": "bar",
         "x": [
          "Arthritis among older adults",
          "Binge drinking within past 30 days",
          "Cholesterol checked in past 5 years",
          "Colorectal cancer screening",
          "Current smoking",
          "Diabetes screening within past 3 years",
          "Disability status, including sensory or mobility limitations",
          "Duration of caregiving among older adults",
          "Eating 2 or more fruits daily",
          "Eating 3 or more vegetables daily",
          "Ever had pneumococcal vaccine",
          "Expect to provide care for someone in the next two years",
          "Fair or poor health among older adults with arthritis",
          "Fall with injury within last year",
          "Frequent mental distress",
          "Functional difficulties associated with subjective cognitive decline or memory loss among older adults",
          "High blood pressure ever",
          "Influenza vaccine within past year",
          "Intensity of caregiving among older adults",
          "Lifetime diagnosis of depression",
          "Mammogram within past 2 years",
          "Need assistance with day-to-day activities because of subjective cognitive decline or memory loss",
          "No leisure-time physical activity within past month",
          "Obesity",
          "Oral health:  tooth retention",
          "Pap test within past 3 years",
          "Prevalence of sufficient sleep",
          "Provide care for a friend or family member in past month",
          "Provide care for someone with cognitive impairment within the past month",
          "Self-rated health (fair to poor health)",
          "Self-rated health (good to excellent health)",
          "Severe joint pain among older adults with arthritis",
          "Subjective cognitive decline or memory loss among older adults",
          "Taking medication for high blood pressure",
          "Talked with health care professional about subjective cognitive decline or memory loss",
          "Up-to-date with recommended vaccines and screenings - Men",
          "Up-to-date with recommended vaccines and screenings - Women"
         ],
         "xaxis": "x",
         "y": [
          120,
          168,
          96,
          72,
          168,
          48,
          144,
          67,
          96,
          96,
          167,
          72,
          120,
          72,
          168,
          87,
          96,
          168,
          67,
          168,
          54,
          87,
          168,
          168,
          72,
          54,
          72,
          72,
          67,
          168,
          168,
          96,
          96,
          96,
          87,
          53,
          54
         ],
         "yaxis": "y"
        },
        {
         "alignmentgroup": "True",
         "hovertemplate": "Location=Oregon<br>Topic=%{x}<br>Count=%{y}<extra></extra>",
         "legendgroup": "Oregon",
         "marker": {
          "color": "#636efa",
          "pattern": {
           "shape": ""
          }
         },
         "name": "Oregon",
         "offsetgroup": "Oregon",
         "orientation": "v",
         "showlegend": true,
         "textposition": "auto",
         "type": "bar",
         "x": [
          "Arthritis among older adults",
          "Binge drinking within past 30 days",
          "Cholesterol checked in past 5 years",
          "Colorectal cancer screening",
          "Current smoking",
          "Diabetes screening within past 3 years",
          "Disability status, including sensory or mobility limitations",
          "Duration of caregiving among older adults",
          "Eating 2 or more fruits daily",
          "Eating 3 or more vegetables daily",
          "Ever had pneumococcal vaccine",
          "Expect to provide care for someone in the next two years",
          "Fair or poor health among older adults with arthritis",
          "Fall with injury within last year",
          "Frequent mental distress",
          "Functional difficulties associated with subjective cognitive decline or memory loss among older adults",
          "High blood pressure ever",
          "Influenza vaccine within past year",
          "Intensity of caregiving among older adults",
          "Lifetime diagnosis of depression",
          "Mammogram within past 2 years",
          "Need assistance with day-to-day activities because of subjective cognitive decline or memory loss",
          "No leisure-time physical activity within past month",
          "Obesity",
          "Oral health:  tooth retention",
          "Pap test within past 3 years",
          "Prevalence of sufficient sleep",
          "Provide care for a friend or family member in past month",
          "Provide care for someone with cognitive impairment within the past month",
          "Self-rated health (fair to poor health)",
          "Self-rated health (good to excellent health)",
          "Severe joint pain among older adults with arthritis",
          "Subjective cognitive decline or memory loss among older adults",
          "Taking medication for high blood pressure",
          "Talked with health care professional about subjective cognitive decline or memory loss",
          "Up-to-date with recommended vaccines and screenings - Men",
          "Up-to-date with recommended vaccines and screenings - Women"
         ],
         "xaxis": "x",
         "y": [
          120,
          168,
          96,
          72,
          168,
          144,
          144,
          186,
          96,
          96,
          168,
          192,
          120,
          72,
          168,
          180,
          96,
          168,
          186,
          168,
          54,
          180,
          168,
          168,
          72,
          54,
          72,
          192,
          186,
          168,
          168,
          96,
          192,
          96,
          181,
          54,
          54
         ],
         "yaxis": "y"
        },
        {
         "alignmentgroup": "True",
         "hovertemplate": "Location=Pennsylvania<br>Topic=%{x}<br>Count=%{y}<extra></extra>",
         "legendgroup": "Pennsylvania",
         "marker": {
          "color": "#EF553B",
          "pattern": {
           "shape": ""
          }
         },
         "name": "Pennsylvania",
         "offsetgroup": "Pennsylvania",
         "orientation": "v",
         "showlegend": true,
         "textposition": "auto",
         "type": "bar",
         "x": [
          "Arthritis among older adults",
          "Binge drinking within past 30 days",
          "Cholesterol checked in past 5 years",
          "Colorectal cancer screening",
          "Current smoking",
          "Diabetes screening within past 3 years",
          "Disability status, including sensory or mobility limitations",
          "Duration of caregiving among older adults",
          "Eating 2 or more fruits daily",
          "Eating 3 or more vegetables daily",
          "Ever had pneumococcal vaccine",
          "Expect to provide care for someone in the next two years",
          "Fair or poor health among older adults with arthritis",
          "Fall with injury within last year",
          "Frequent mental distress",
          "Functional difficulties associated with subjective cognitive decline or memory loss among older adults",
          "High blood pressure ever",
          "Influenza vaccine within past year",
          "Intensity of caregiving among older adults",
          "Lifetime diagnosis of depression",
          "Mammogram within past 2 years",
          "Need assistance with day-to-day activities because of subjective cognitive decline or memory loss",
          "No leisure-time physical activity within past month",
          "Obesity",
          "Oral health:  tooth retention",
          "Pap test within past 3 years",
          "Prevalence of sufficient sleep",
          "Provide care for a friend or family member in past month",
          "Provide care for someone with cognitive impairment within the past month",
          "Self-rated health (fair to poor health)",
          "Self-rated health (good to excellent health)",
          "Severe joint pain among older adults with arthritis",
          "Subjective cognitive decline or memory loss among older adults",
          "Taking medication for high blood pressure",
          "Talked with health care professional about subjective cognitive decline or memory loss",
          "Up-to-date with recommended vaccines and screenings - Men",
          "Up-to-date with recommended vaccines and screenings - Women"
         ],
         "xaxis": "x",
         "y": [
          120,
          168,
          96,
          72,
          168,
          48,
          144,
          67,
          96,
          96,
          168,
          71,
          120,
          72,
          168,
          91,
          96,
          168,
          67,
          168,
          53,
          91,
          168,
          168,
          72,
          52,
          72,
          72,
          67,
          168,
          168,
          96,
          96,
          96,
          91,
          54,
          53
         ],
         "yaxis": "y"
        },
        {
         "alignmentgroup": "True",
         "hovertemplate": "Location=Puerto Rico<br>Topic=%{x}<br>Count=%{y}<extra></extra>",
         "legendgroup": "Puerto Rico",
         "marker": {
          "color": "#00cc96",
          "pattern": {
           "shape": ""
          }
         },
         "name": "Puerto Rico",
         "offsetgroup": "Puerto Rico",
         "orientation": "v",
         "showlegend": true,
         "textposition": "auto",
         "type": "bar",
         "x": [
          "Arthritis among older adults",
          "Binge drinking within past 30 days",
          "Cholesterol checked in past 5 years",
          "Colorectal cancer screening",
          "Current smoking",
          "Diabetes screening within past 3 years",
          "Disability status, including sensory or mobility limitations",
          "Duration of caregiving among older adults",
          "Eating 2 or more fruits daily",
          "Eating 3 or more vegetables daily",
          "Ever had pneumococcal vaccine",
          "Expect to provide care for someone in the next two years",
          "Fair or poor health among older adults with arthritis",
          "Fall with injury within last year",
          "Frequent mental distress",
          "Functional difficulties associated with subjective cognitive decline or memory loss among older adults",
          "High blood pressure ever",
          "Influenza vaccine within past year",
          "Intensity of caregiving among older adults",
          "Lifetime diagnosis of depression",
          "Mammogram within past 2 years",
          "Need assistance with day-to-day activities because of subjective cognitive decline or memory loss",
          "No leisure-time physical activity within past month",
          "Obesity",
          "Oral health:  tooth retention",
          "Pap test within past 3 years",
          "Prevalence of sufficient sleep",
          "Provide care for a friend or family member in past month",
          "Provide care for someone with cognitive impairment within the past month",
          "Self-rated health (fair to poor health)",
          "Self-rated health (good to excellent health)",
          "Severe joint pain among older adults with arthritis",
          "Subjective cognitive decline or memory loss among older adults",
          "Taking medication for high blood pressure",
          "Talked with health care professional about subjective cognitive decline or memory loss",
          "Up-to-date with recommended vaccines and screenings - Men",
          "Up-to-date with recommended vaccines and screenings - Women"
         ],
         "xaxis": "x",
         "y": [
          96,
          135,
          76,
          59,
          135,
          57,
          116,
          47,
          76,
          73,
          128,
          52,
          84,
          59,
          135,
          50,
          76,
          135,
          47,
          135,
          38,
          50,
          135,
          135,
          59,
          35,
          57,
          54,
          47,
          135,
          135,
          69,
          75,
          66,
          50,
          35,
          40
         ],
         "yaxis": "y"
        },
        {
         "alignmentgroup": "True",
         "hovertemplate": "Location=Rhode Island<br>Topic=%{x}<br>Count=%{y}<extra></extra>",
         "legendgroup": "Rhode Island",
         "marker": {
          "color": "#ab63fa",
          "pattern": {
           "shape": ""
          }
         },
         "name": "Rhode Island",
         "offsetgroup": "Rhode Island",
         "orientation": "v",
         "showlegend": true,
         "textposition": "auto",
         "type": "bar",
         "x": [
          "Arthritis among older adults",
          "Binge drinking within past 30 days",
          "Cholesterol checked in past 5 years",
          "Colorectal cancer screening",
          "Current smoking",
          "Diabetes screening within past 3 years",
          "Disability status, including sensory or mobility limitations",
          "Duration of caregiving among older adults",
          "Eating 2 or more fruits daily",
          "Eating 3 or more vegetables daily",
          "Ever had pneumococcal vaccine",
          "Expect to provide care for someone in the next two years",
          "Fair or poor health among older adults with arthritis",
          "Fall with injury within last year",
          "Frequent mental distress",
          "Functional difficulties associated with subjective cognitive decline or memory loss among older adults",
          "High blood pressure ever",
          "Influenza vaccine within past year",
          "Intensity of caregiving among older adults",
          "Lifetime diagnosis of depression",
          "Mammogram within past 2 years",
          "Need assistance with day-to-day activities because of subjective cognitive decline or memory loss",
          "No leisure-time physical activity within past month",
          "Obesity",
          "Oral health:  tooth retention",
          "Pap test within past 3 years",
          "Prevalence of sufficient sleep",
          "Provide care for a friend or family member in past month",
          "Provide care for someone with cognitive impairment within the past month",
          "Self-rated health (fair to poor health)",
          "Self-rated health (good to excellent health)",
          "Severe joint pain among older adults with arthritis",
          "Subjective cognitive decline or memory loss among older adults",
          "Taking medication for high blood pressure",
          "Talked with health care professional about subjective cognitive decline or memory loss",
          "Up-to-date with recommended vaccines and screenings - Men",
          "Up-to-date with recommended vaccines and screenings - Women"
         ],
         "xaxis": "x",
         "y": [
          120,
          168,
          96,
          72,
          168,
          24,
          144,
          72,
          96,
          96,
          168,
          72,
          120,
          72,
          168,
          70,
          96,
          168,
          72,
          168,
          54,
          70,
          168,
          168,
          72,
          54,
          72,
          72,
          72,
          168,
          168,
          96,
          72,
          96,
          70,
          54,
          54
         ],
         "yaxis": "y"
        },
        {
         "alignmentgroup": "True",
         "hovertemplate": "Location=South<br>Topic=%{x}<br>Count=%{y}<extra></extra>",
         "legendgroup": "South",
         "marker": {
          "color": "#FFA15A",
          "pattern": {
           "shape": ""
          }
         },
         "name": "South",
         "offsetgroup": "South",
         "orientation": "v",
         "showlegend": true,
         "textposition": "auto",
         "type": "bar",
         "x": [
          "Arthritis among older adults",
          "Binge drinking within past 30 days",
          "Cholesterol checked in past 5 years",
          "Colorectal cancer screening",
          "Current smoking",
          "Diabetes screening within past 3 years",
          "Disability status, including sensory or mobility limitations",
          "Duration of caregiving among older adults",
          "Eating 2 or more fruits daily",
          "Eating 3 or more vegetables daily",
          "Ever had pneumococcal vaccine",
          "Expect to provide care for someone in the next two years",
          "Fair or poor health among older adults with arthritis",
          "Fall with injury within last year",
          "Frequent mental distress",
          "Functional difficulties associated with subjective cognitive decline or memory loss among older adults",
          "High blood pressure ever",
          "Influenza vaccine within past year",
          "Intensity of caregiving among older adults",
          "Lifetime diagnosis of depression",
          "Mammogram within past 2 years",
          "Need assistance with day-to-day activities because of subjective cognitive decline or memory loss",
          "No leisure-time physical activity within past month",
          "Obesity",
          "Oral health:  tooth retention",
          "Pap test within past 3 years",
          "Prevalence of sufficient sleep",
          "Provide care for a friend or family member in past month",
          "Provide care for someone with cognitive impairment within the past month",
          "Self-rated health (fair to poor health)",
          "Self-rated health (good to excellent health)",
          "Severe joint pain among older adults with arthritis",
          "Subjective cognitive decline or memory loss among older adults",
          "Taking medication for high blood pressure",
          "Talked with health care professional about subjective cognitive decline or memory loss",
          "Up-to-date with recommended vaccines and screenings - Men",
          "Up-to-date with recommended vaccines and screenings - Women"
         ],
         "xaxis": "x",
         "y": [
          120,
          168,
          96,
          72,
          168,
          168,
          144,
          191,
          96,
          96,
          168,
          192,
          120,
          72,
          168,
          167,
          96,
          168,
          191,
          168,
          54,
          167,
          168,
          168,
          72,
          54,
          72,
          192,
          191,
          168,
          168,
          96,
          168,
          96,
          167,
          54,
          54
         ],
         "yaxis": "y"
        },
        {
         "alignmentgroup": "True",
         "hovertemplate": "Location=South Carolina<br>Topic=%{x}<br>Count=%{y}<extra></extra>",
         "legendgroup": "South Carolina",
         "marker": {
          "color": "#19d3f3",
          "pattern": {
           "shape": ""
          }
         },
         "name": "South Carolina",
         "offsetgroup": "South Carolina",
         "orientation": "v",
         "showlegend": true,
         "textposition": "auto",
         "type": "bar",
         "x": [
          "Arthritis among older adults",
          "Binge drinking within past 30 days",
          "Cholesterol checked in past 5 years",
          "Colorectal cancer screening",
          "Current smoking",
          "Diabetes screening within past 3 years",
          "Disability status, including sensory or mobility limitations",
          "Duration of caregiving among older adults",
          "Eating 2 or more fruits daily",
          "Eating 3 or more vegetables daily",
          "Ever had pneumococcal vaccine",
          "Expect to provide care for someone in the next two years",
          "Fair or poor health among older adults with arthritis",
          "Fall with injury within last year",
          "Frequent mental distress",
          "Functional difficulties associated with subjective cognitive decline or memory loss among older adults",
          "High blood pressure ever",
          "Influenza vaccine within past year",
          "Intensity of caregiving among older adults",
          "Lifetime diagnosis of depression",
          "Mammogram within past 2 years",
          "Need assistance with day-to-day activities because of subjective cognitive decline or memory loss",
          "No leisure-time physical activity within past month",
          "Obesity",
          "Oral health:  tooth retention",
          "Pap test within past 3 years",
          "Prevalence of sufficient sleep",
          "Provide care for a friend or family member in past month",
          "Provide care for someone with cognitive impairment within the past month",
          "Self-rated health (fair to poor health)",
          "Self-rated health (good to excellent health)",
          "Severe joint pain among older adults with arthritis",
          "Subjective cognitive decline or memory loss among older adults",
          "Taking medication for high blood pressure",
          "Talked with health care professional about subjective cognitive decline or memory loss",
          "Up-to-date with recommended vaccines and screenings - Men",
          "Up-to-date with recommended vaccines and screenings - Women"
         ],
         "xaxis": "x",
         "y": [
          120,
          168,
          96,
          72,
          168,
          120,
          144,
          71,
          96,
          96,
          168,
          72,
          120,
          72,
          168,
          68,
          96,
          168,
          71,
          168,
          54,
          68,
          168,
          168,
          72,
          53,
          72,
          72,
          71,
          168,
          168,
          96,
          72,
          96,
          68,
          53,
          54
         ],
         "yaxis": "y"
        },
        {
         "alignmentgroup": "True",
         "hovertemplate": "Location=South Dakota<br>Topic=%{x}<br>Count=%{y}<extra></extra>",
         "legendgroup": "South Dakota",
         "marker": {
          "color": "#FF6692",
          "pattern": {
           "shape": ""
          }
         },
         "name": "South Dakota",
         "offsetgroup": "South Dakota",
         "orientation": "v",
         "showlegend": true,
         "textposition": "auto",
         "type": "bar",
         "x": [
          "Arthritis among older adults",
          "Binge drinking within past 30 days",
          "Cholesterol checked in past 5 years",
          "Colorectal cancer screening",
          "Current smoking",
          "Diabetes screening within past 3 years",
          "Disability status, including sensory or mobility limitations",
          "Duration of caregiving among older adults",
          "Eating 2 or more fruits daily",
          "Eating 3 or more vegetables daily",
          "Ever had pneumococcal vaccine",
          "Expect to provide care for someone in the next two years",
          "Fair or poor health among older adults with arthritis",
          "Fall with injury within last year",
          "Frequent mental distress",
          "Functional difficulties associated with subjective cognitive decline or memory loss among older adults",
          "High blood pressure ever",
          "Influenza vaccine within past year",
          "Intensity of caregiving among older adults",
          "Lifetime diagnosis of depression",
          "Mammogram within past 2 years",
          "Need assistance with day-to-day activities because of subjective cognitive decline or memory loss",
          "No leisure-time physical activity within past month",
          "Obesity",
          "Oral health:  tooth retention",
          "Pap test within past 3 years",
          "Prevalence of sufficient sleep",
          "Provide care for a friend or family member in past month",
          "Provide care for someone with cognitive impairment within the past month",
          "Self-rated health (fair to poor health)",
          "Self-rated health (good to excellent health)",
          "Severe joint pain among older adults with arthritis",
          "Subjective cognitive decline or memory loss among older adults",
          "Taking medication for high blood pressure",
          "Talked with health care professional about subjective cognitive decline or memory loss",
          "Up-to-date with recommended vaccines and screenings - Men",
          "Up-to-date with recommended vaccines and screenings - Women"
         ],
         "xaxis": "x",
         "y": [
          120,
          167,
          96,
          72,
          168,
          144,
          144,
          64,
          95,
          96,
          166,
          72,
          113,
          72,
          168,
          57,
          96,
          168,
          64,
          168,
          54,
          57,
          168,
          168,
          72,
          53,
          72,
          72,
          64,
          167,
          167,
          89,
          72,
          94,
          57,
          53,
          54
         ],
         "yaxis": "y"
        },
        {
         "alignmentgroup": "True",
         "hovertemplate": "Location=Tennessee<br>Topic=%{x}<br>Count=%{y}<extra></extra>",
         "legendgroup": "Tennessee",
         "marker": {
          "color": "#B6E880",
          "pattern": {
           "shape": ""
          }
         },
         "name": "Tennessee",
         "offsetgroup": "Tennessee",
         "orientation": "v",
         "showlegend": true,
         "textposition": "auto",
         "type": "bar",
         "x": [
          "Arthritis among older adults",
          "Binge drinking within past 30 days",
          "Cholesterol checked in past 5 years",
          "Colorectal cancer screening",
          "Current smoking",
          "Diabetes screening within past 3 years",
          "Disability status, including sensory or mobility limitations",
          "Duration of caregiving among older adults",
          "Eating 2 or more fruits daily",
          "Eating 3 or more vegetables daily",
          "Ever had pneumococcal vaccine",
          "Expect to provide care for someone in the next two years",
          "Fair or poor health among older adults with arthritis",
          "Fall with injury within last year",
          "Frequent mental distress",
          "Functional difficulties associated with subjective cognitive decline or memory loss among older adults",
          "High blood pressure ever",
          "Influenza vaccine within past year",
          "Intensity of caregiving among older adults",
          "Lifetime diagnosis of depression",
          "Mammogram within past 2 years",
          "Need assistance with day-to-day activities because of subjective cognitive decline or memory loss",
          "No leisure-time physical activity within past month",
          "Obesity",
          "Oral health:  tooth retention",
          "Pap test within past 3 years",
          "Prevalence of sufficient sleep",
          "Provide care for a friend or family member in past month",
          "Provide care for someone with cognitive impairment within the past month",
          "Self-rated health (fair to poor health)",
          "Self-rated health (good to excellent health)",
          "Severe joint pain among older adults with arthritis",
          "Subjective cognitive decline or memory loss among older adults",
          "Taking medication for high blood pressure",
          "Talked with health care professional about subjective cognitive decline or memory loss",
          "Up-to-date with recommended vaccines and screenings - Men",
          "Up-to-date with recommended vaccines and screenings - Women"
         ],
         "xaxis": "x",
         "y": [
          120,
          168,
          96,
          72,
          168,
          72,
          144,
          96,
          95,
          95,
          166,
          96,
          118,
          72,
          168,
          102,
          96,
          168,
          95,
          168,
          54,
          102,
          168,
          168,
          72,
          54,
          72,
          96,
          96,
          168,
          168,
          94,
          120,
          95,
          102,
          54,
          54
         ],
         "yaxis": "y"
        },
        {
         "alignmentgroup": "True",
         "hovertemplate": "Location=Texas<br>Topic=%{x}<br>Count=%{y}<extra></extra>",
         "legendgroup": "Texas",
         "marker": {
          "color": "#FF97FF",
          "pattern": {
           "shape": ""
          }
         },
         "name": "Texas",
         "offsetgroup": "Texas",
         "orientation": "v",
         "showlegend": true,
         "textposition": "auto",
         "type": "bar",
         "x": [
          "Arthritis among older adults",
          "Binge drinking within past 30 days",
          "Cholesterol checked in past 5 years",
          "Colorectal cancer screening",
          "Current smoking",
          "Diabetes screening within past 3 years",
          "Disability status, including sensory or mobility limitations",
          "Duration of caregiving among older adults",
          "Eating 2 or more fruits daily",
          "Eating 3 or more vegetables daily",
          "Ever had pneumococcal vaccine",
          "Expect to provide care for someone in the next two years",
          "Fair or poor health among older adults with arthritis",
          "Fall with injury within last year",
          "Frequent mental distress",
          "Functional difficulties associated with subjective cognitive decline or memory loss among older adults",
          "High blood pressure ever",
          "Influenza vaccine within past year",
          "Intensity of caregiving among older adults",
          "Lifetime diagnosis of depression",
          "Mammogram within past 2 years",
          "Need assistance with day-to-day activities because of subjective cognitive decline or memory loss",
          "No leisure-time physical activity within past month",
          "Obesity",
          "Oral health:  tooth retention",
          "Pap test within past 3 years",
          "Prevalence of sufficient sleep",
          "Provide care for a friend or family member in past month",
          "Provide care for someone with cognitive impairment within the past month",
          "Self-rated health (fair to poor health)",
          "Self-rated health (good to excellent health)",
          "Severe joint pain among older adults with arthritis",
          "Subjective cognitive decline or memory loss among older adults",
          "Taking medication for high blood pressure",
          "Talked with health care professional about subjective cognitive decline or memory loss",
          "Up-to-date with recommended vaccines and screenings - Men",
          "Up-to-date with recommended vaccines and screenings - Women"
         ],
         "xaxis": "x",
         "y": [
          120,
          168,
          96,
          72,
          168,
          96,
          144,
          95,
          96,
          96,
          168,
          96,
          120,
          72,
          168,
          94,
          96,
          168,
          95,
          168,
          54,
          94,
          168,
          168,
          72,
          54,
          72,
          96,
          95,
          168,
          168,
          96,
          96,
          96,
          94,
          54,
          54
         ],
         "yaxis": "y"
        },
        {
         "alignmentgroup": "True",
         "hovertemplate": "Location=United States, DC & Territories<br>Topic=%{x}<br>Count=%{y}<extra></extra>",
         "legendgroup": "United States, DC & Territories",
         "marker": {
          "color": "#FECB52",
          "pattern": {
           "shape": ""
          }
         },
         "name": "United States, DC & Territories",
         "offsetgroup": "United States, DC & Territories",
         "orientation": "v",
         "showlegend": true,
         "textposition": "auto",
         "type": "bar",
         "x": [
          "Arthritis among older adults",
          "Binge drinking within past 30 days",
          "Cholesterol checked in past 5 years",
          "Colorectal cancer screening",
          "Current smoking",
          "Diabetes screening within past 3 years",
          "Disability status, including sensory or mobility limitations",
          "Duration of caregiving among older adults",
          "Eating 2 or more fruits daily",
          "Eating 3 or more vegetables daily",
          "Ever had pneumococcal vaccine",
          "Expect to provide care for someone in the next two years",
          "Fair or poor health among older adults with arthritis",
          "Fall with injury within last year",
          "Frequent mental distress",
          "Functional difficulties associated with subjective cognitive decline or memory loss among older adults",
          "High blood pressure ever",
          "Influenza vaccine within past year",
          "Intensity of caregiving among older adults",
          "Lifetime diagnosis of depression",
          "Mammogram within past 2 years",
          "Need assistance with day-to-day activities because of subjective cognitive decline or memory loss",
          "No leisure-time physical activity within past month",
          "Obesity",
          "Oral health:  tooth retention",
          "Pap test within past 3 years",
          "Prevalence of sufficient sleep",
          "Provide care for a friend or family member in past month",
          "Provide care for someone with cognitive impairment within the past month",
          "Self-rated health (fair to poor health)",
          "Self-rated health (good to excellent health)",
          "Severe joint pain among older adults with arthritis",
          "Subjective cognitive decline or memory loss among older adults",
          "Taking medication for high blood pressure",
          "Talked with health care professional about subjective cognitive decline or memory loss",
          "Up-to-date with recommended vaccines and screenings - Men",
          "Up-to-date with recommended vaccines and screenings - Women"
         ],
         "xaxis": "x",
         "y": [
          120,
          168,
          96,
          72,
          168,
          168,
          144,
          192,
          96,
          96,
          168,
          192,
          120,
          72,
          168,
          192,
          96,
          168,
          192,
          168,
          54,
          192,
          168,
          168,
          72,
          54,
          72,
          192,
          192,
          168,
          168,
          96,
          192,
          96,
          192,
          54,
          54
         ],
         "yaxis": "y"
        },
        {
         "alignmentgroup": "True",
         "hovertemplate": "Location=Utah<br>Topic=%{x}<br>Count=%{y}<extra></extra>",
         "legendgroup": "Utah",
         "marker": {
          "color": "#636efa",
          "pattern": {
           "shape": ""
          }
         },
         "name": "Utah",
         "offsetgroup": "Utah",
         "orientation": "v",
         "showlegend": true,
         "textposition": "auto",
         "type": "bar",
         "x": [
          "Arthritis among older adults",
          "Binge drinking within past 30 days",
          "Cholesterol checked in past 5 years",
          "Colorectal cancer screening",
          "Current smoking",
          "Diabetes screening within past 3 years",
          "Disability status, including sensory or mobility limitations",
          "Duration of caregiving among older adults",
          "Eating 2 or more fruits daily",
          "Eating 3 or more vegetables daily",
          "Ever had pneumococcal vaccine",
          "Expect to provide care for someone in the next two years",
          "Fair or poor health among older adults with arthritis",
          "Fall with injury within last year",
          "Frequent mental distress",
          "Functional difficulties associated with subjective cognitive decline or memory loss among older adults",
          "High blood pressure ever",
          "Influenza vaccine within past year",
          "Intensity of caregiving among older adults",
          "Lifetime diagnosis of depression",
          "Mammogram within past 2 years",
          "Need assistance with day-to-day activities because of subjective cognitive decline or memory loss",
          "No leisure-time physical activity within past month",
          "Obesity",
          "Oral health:  tooth retention",
          "Pap test within past 3 years",
          "Prevalence of sufficient sleep",
          "Provide care for a friend or family member in past month",
          "Provide care for someone with cognitive impairment within the past month",
          "Self-rated health (fair to poor health)",
          "Self-rated health (good to excellent health)",
          "Severe joint pain among older adults with arthritis",
          "Subjective cognitive decline or memory loss among older adults",
          "Taking medication for high blood pressure",
          "Talked with health care professional about subjective cognitive decline or memory loss",
          "Up-to-date with recommended vaccines and screenings - Men",
          "Up-to-date with recommended vaccines and screenings - Women"
         ],
         "xaxis": "x",
         "y": [
          120,
          168,
          96,
          72,
          168,
          24,
          144,
          136,
          96,
          96,
          168,
          142,
          120,
          72,
          168,
          125,
          96,
          168,
          136,
          168,
          54,
          125,
          168,
          168,
          72,
          53,
          72,
          144,
          136,
          168,
          168,
          96,
          143,
          96,
          125,
          54,
          54
         ],
         "yaxis": "y"
        },
        {
         "alignmentgroup": "True",
         "hovertemplate": "Location=Vermont<br>Topic=%{x}<br>Count=%{y}<extra></extra>",
         "legendgroup": "Vermont",
         "marker": {
          "color": "#EF553B",
          "pattern": {
           "shape": ""
          }
         },
         "name": "Vermont",
         "offsetgroup": "Vermont",
         "orientation": "v",
         "showlegend": true,
         "textposition": "auto",
         "type": "bar",
         "x": [
          "Arthritis among older adults",
          "Binge drinking within past 30 days",
          "Cholesterol checked in past 5 years",
          "Colorectal cancer screening",
          "Current smoking",
          "Diabetes screening within past 3 years",
          "Disability status, including sensory or mobility limitations",
          "Duration of caregiving among older adults",
          "Eating 2 or more fruits daily",
          "Eating 3 or more vegetables daily",
          "Ever had pneumococcal vaccine",
          "Expect to provide care for someone in the next two years",
          "Fair or poor health among older adults with arthritis",
          "Fall with injury within last year",
          "Frequent mental distress",
          "Functional difficulties associated with subjective cognitive decline or memory loss among older adults",
          "High blood pressure ever",
          "Influenza vaccine within past year",
          "Intensity of caregiving among older adults",
          "Lifetime diagnosis of depression",
          "Mammogram within past 2 years",
          "Need assistance with day-to-day activities because of subjective cognitive decline or memory loss",
          "No leisure-time physical activity within past month",
          "Obesity",
          "Oral health:  tooth retention",
          "Pap test within past 3 years",
          "Prevalence of sufficient sleep",
          "Provide care for a friend or family member in past month",
          "Provide care for someone with cognitive impairment within the past month",
          "Self-rated health (fair to poor health)",
          "Self-rated health (good to excellent health)",
          "Severe joint pain among older adults with arthritis",
          "Subjective cognitive decline or memory loss among older adults",
          "Taking medication for high blood pressure",
          "Talked with health care professional about subjective cognitive decline or memory loss",
          "Up-to-date with recommended vaccines and screenings - Men",
          "Up-to-date with recommended vaccines and screenings - Women"
         ],
         "xaxis": "x",
         "y": [
          120,
          168,
          96,
          72,
          168,
          72,
          144,
          40,
          96,
          95,
          165,
          48,
          116,
          72,
          168,
          61,
          96,
          168,
          40,
          168,
          54,
          61,
          168,
          168,
          72,
          53,
          72,
          48,
          40,
          168,
          168,
          89,
          72,
          95,
          61,
          54,
          54
         ],
         "yaxis": "y"
        },
        {
         "alignmentgroup": "True",
         "hovertemplate": "Location=Virgin Islands<br>Topic=%{x}<br>Count=%{y}<extra></extra>",
         "legendgroup": "Virgin Islands",
         "marker": {
          "color": "#00cc96",
          "pattern": {
           "shape": ""
          }
         },
         "name": "Virgin Islands",
         "offsetgroup": "Virgin Islands",
         "orientation": "v",
         "showlegend": true,
         "textposition": "auto",
         "type": "bar",
         "x": [
          "Arthritis among older adults",
          "Binge drinking within past 30 days",
          "Cholesterol checked in past 5 years",
          "Colorectal cancer screening",
          "Current smoking",
          "Diabetes screening within past 3 years",
          "Disability status, including sensory or mobility limitations",
          "Duration of caregiving among older adults",
          "Eating 2 or more fruits daily",
          "Eating 3 or more vegetables daily",
          "Ever had pneumococcal vaccine",
          "Expect to provide care for someone in the next two years",
          "Fair or poor health among older adults with arthritis",
          "Fall with injury within last year",
          "Frequent mental distress",
          "Functional difficulties associated with subjective cognitive decline or memory loss among older adults",
          "High blood pressure ever",
          "Influenza vaccine within past year",
          "Intensity of caregiving among older adults",
          "Lifetime diagnosis of depression",
          "Mammogram within past 2 years",
          "Need assistance with day-to-day activities because of subjective cognitive decline or memory loss",
          "No leisure-time physical activity within past month",
          "Obesity",
          "Oral health:  tooth retention",
          "Pap test within past 3 years",
          "Prevalence of sufficient sleep",
          "Provide care for a friend or family member in past month",
          "Provide care for someone with cognitive impairment within the past month",
          "Self-rated health (fair to poor health)",
          "Self-rated health (good to excellent health)",
          "Severe joint pain among older adults with arthritis",
          "Subjective cognitive decline or memory loss among older adults",
          "Taking medication for high blood pressure",
          "Talked with health care professional about subjective cognitive decline or memory loss",
          "Up-to-date with recommended vaccines and screenings - Men",
          "Up-to-date with recommended vaccines and screenings - Women"
         ],
         "xaxis": "x",
         "y": [
          24,
          48,
          24,
          24,
          48,
          48,
          48,
          null,
          24,
          24,
          47,
          null,
          23,
          24,
          48,
          null,
          24,
          48,
          null,
          48,
          18,
          null,
          48,
          48,
          24,
          18,
          24,
          null,
          null,
          48,
          48,
          23,
          null,
          22,
          null,
          17,
          18
         ],
         "yaxis": "y"
        },
        {
         "alignmentgroup": "True",
         "hovertemplate": "Location=Virginia<br>Topic=%{x}<br>Count=%{y}<extra></extra>",
         "legendgroup": "Virginia",
         "marker": {
          "color": "#ab63fa",
          "pattern": {
           "shape": ""
          }
         },
         "name": "Virginia",
         "offsetgroup": "Virginia",
         "orientation": "v",
         "showlegend": true,
         "textposition": "auto",
         "type": "bar",
         "x": [
          "Arthritis among older adults",
          "Binge drinking within past 30 days",
          "Cholesterol checked in past 5 years",
          "Colorectal cancer screening",
          "Current smoking",
          "Diabetes screening within past 3 years",
          "Disability status, including sensory or mobility limitations",
          "Duration of caregiving among older adults",
          "Eating 2 or more fruits daily",
          "Eating 3 or more vegetables daily",
          "Ever had pneumococcal vaccine",
          "Expect to provide care for someone in the next two years",
          "Fair or poor health among older adults with arthritis",
          "Fall with injury within last year",
          "Frequent mental distress",
          "Functional difficulties associated with subjective cognitive decline or memory loss among older adults",
          "High blood pressure ever",
          "Influenza vaccine within past year",
          "Intensity of caregiving among older adults",
          "Lifetime diagnosis of depression",
          "Mammogram within past 2 years",
          "Need assistance with day-to-day activities because of subjective cognitive decline or memory loss",
          "No leisure-time physical activity within past month",
          "Obesity",
          "Oral health:  tooth retention",
          "Pap test within past 3 years",
          "Prevalence of sufficient sleep",
          "Provide care for a friend or family member in past month",
          "Provide care for someone with cognitive impairment within the past month",
          "Self-rated health (fair to poor health)",
          "Self-rated health (good to excellent health)",
          "Severe joint pain among older adults with arthritis",
          "Subjective cognitive decline or memory loss among older adults",
          "Taking medication for high blood pressure",
          "Talked with health care professional about subjective cognitive decline or memory loss",
          "Up-to-date with recommended vaccines and screenings - Men",
          "Up-to-date with recommended vaccines and screenings - Women"
         ],
         "xaxis": "x",
         "y": [
          120,
          168,
          96,
          72,
          168,
          168,
          144,
          70,
          96,
          96,
          168,
          72,
          120,
          72,
          168,
          68,
          96,
          168,
          66,
          168,
          54,
          68,
          168,
          168,
          72,
          54,
          72,
          72,
          70,
          168,
          168,
          96,
          72,
          96,
          68,
          54,
          54
         ],
         "yaxis": "y"
        },
        {
         "alignmentgroup": "True",
         "hovertemplate": "Location=Washington<br>Topic=%{x}<br>Count=%{y}<extra></extra>",
         "legendgroup": "Washington",
         "marker": {
          "color": "#FFA15A",
          "pattern": {
           "shape": ""
          }
         },
         "name": "Washington",
         "offsetgroup": "Washington",
         "orientation": "v",
         "showlegend": true,
         "textposition": "auto",
         "type": "bar",
         "x": [
          "Arthritis among older adults",
          "Binge drinking within past 30 days",
          "Cholesterol checked in past 5 years",
          "Colorectal cancer screening",
          "Current smoking",
          "Diabetes screening within past 3 years",
          "Disability status, including sensory or mobility limitations",
          "Duration of caregiving among older adults",
          "Eating 2 or more fruits daily",
          "Eating 3 or more vegetables daily",
          "Ever had pneumococcal vaccine",
          "Expect to provide care for someone in the next two years",
          "Fair or poor health among older adults with arthritis",
          "Fall with injury within last year",
          "Frequent mental distress",
          "Functional difficulties associated with subjective cognitive decline or memory loss among older adults",
          "High blood pressure ever",
          "Influenza vaccine within past year",
          "Intensity of caregiving among older adults",
          "Lifetime diagnosis of depression",
          "Mammogram within past 2 years",
          "Need assistance with day-to-day activities because of subjective cognitive decline or memory loss",
          "No leisure-time physical activity within past month",
          "Obesity",
          "Oral health:  tooth retention",
          "Pap test within past 3 years",
          "Prevalence of sufficient sleep",
          "Provide care for a friend or family member in past month",
          "Provide care for someone with cognitive impairment within the past month",
          "Self-rated health (fair to poor health)",
          "Self-rated health (good to excellent health)",
          "Severe joint pain among older adults with arthritis",
          "Subjective cognitive decline or memory loss among older adults",
          "Taking medication for high blood pressure",
          "Talked with health care professional about subjective cognitive decline or memory loss",
          "Up-to-date with recommended vaccines and screenings - Men",
          "Up-to-date with recommended vaccines and screenings - Women"
         ],
         "xaxis": "x",
         "y": [
          120,
          168,
          96,
          72,
          168,
          96,
          144,
          null,
          96,
          96,
          168,
          null,
          120,
          72,
          168,
          72,
          96,
          168,
          null,
          168,
          54,
          72,
          168,
          168,
          72,
          54,
          72,
          null,
          null,
          168,
          168,
          96,
          72,
          96,
          72,
          54,
          54
         ],
         "yaxis": "y"
        },
        {
         "alignmentgroup": "True",
         "hovertemplate": "Location=West<br>Topic=%{x}<br>Count=%{y}<extra></extra>",
         "legendgroup": "West",
         "marker": {
          "color": "#19d3f3",
          "pattern": {
           "shape": ""
          }
         },
         "name": "West",
         "offsetgroup": "West",
         "orientation": "v",
         "showlegend": true,
         "textposition": "auto",
         "type": "bar",
         "x": [
          "Arthritis among older adults",
          "Binge drinking within past 30 days",
          "Cholesterol checked in past 5 years",
          "Colorectal cancer screening",
          "Current smoking",
          "Diabetes screening within past 3 years",
          "Disability status, including sensory or mobility limitations",
          "Duration of caregiving among older adults",
          "Eating 2 or more fruits daily",
          "Eating 3 or more vegetables daily",
          "Ever had pneumococcal vaccine",
          "Expect to provide care for someone in the next two years",
          "Fair or poor health among older adults with arthritis",
          "Fall with injury within last year",
          "Frequent mental distress",
          "Functional difficulties associated with subjective cognitive decline or memory loss among older adults",
          "High blood pressure ever",
          "Influenza vaccine within past year",
          "Intensity of caregiving among older adults",
          "Lifetime diagnosis of depression",
          "Mammogram within past 2 years",
          "Need assistance with day-to-day activities because of subjective cognitive decline or memory loss",
          "No leisure-time physical activity within past month",
          "Obesity",
          "Oral health:  tooth retention",
          "Pap test within past 3 years",
          "Prevalence of sufficient sleep",
          "Provide care for a friend or family member in past month",
          "Provide care for someone with cognitive impairment within the past month",
          "Self-rated health (fair to poor health)",
          "Self-rated health (good to excellent health)",
          "Severe joint pain among older adults with arthritis",
          "Subjective cognitive decline or memory loss among older adults",
          "Taking medication for high blood pressure",
          "Talked with health care professional about subjective cognitive decline or memory loss",
          "Up-to-date with recommended vaccines and screenings - Men",
          "Up-to-date with recommended vaccines and screenings - Women"
         ],
         "xaxis": "x",
         "y": [
          120,
          168,
          96,
          72,
          168,
          168,
          144,
          191,
          96,
          96,
          168,
          192,
          120,
          72,
          168,
          191,
          96,
          168,
          191,
          168,
          54,
          191,
          168,
          168,
          72,
          54,
          72,
          192,
          191,
          168,
          168,
          96,
          192,
          96,
          191,
          54,
          54
         ],
         "yaxis": "y"
        },
        {
         "alignmentgroup": "True",
         "hovertemplate": "Location=West Virginia<br>Topic=%{x}<br>Count=%{y}<extra></extra>",
         "legendgroup": "West Virginia",
         "marker": {
          "color": "#FF6692",
          "pattern": {
           "shape": ""
          }
         },
         "name": "West Virginia",
         "offsetgroup": "West Virginia",
         "orientation": "v",
         "showlegend": true,
         "textposition": "auto",
         "type": "bar",
         "x": [
          "Arthritis among older adults",
          "Binge drinking within past 30 days",
          "Cholesterol checked in past 5 years",
          "Colorectal cancer screening",
          "Current smoking",
          "Diabetes screening within past 3 years",
          "Disability status, including sensory or mobility limitations",
          "Duration of caregiving among older adults",
          "Eating 2 or more fruits daily",
          "Eating 3 or more vegetables daily",
          "Ever had pneumococcal vaccine",
          "Expect to provide care for someone in the next two years",
          "Fair or poor health among older adults with arthritis",
          "Fall with injury within last year",
          "Frequent mental distress",
          "Functional difficulties associated with subjective cognitive decline or memory loss among older adults",
          "High blood pressure ever",
          "Influenza vaccine within past year",
          "Intensity of caregiving among older adults",
          "Lifetime diagnosis of depression",
          "Mammogram within past 2 years",
          "Need assistance with day-to-day activities because of subjective cognitive decline or memory loss",
          "No leisure-time physical activity within past month",
          "Obesity",
          "Oral health:  tooth retention",
          "Pap test within past 3 years",
          "Prevalence of sufficient sleep",
          "Provide care for a friend or family member in past month",
          "Provide care for someone with cognitive impairment within the past month",
          "Self-rated health (fair to poor health)",
          "Self-rated health (good to excellent health)",
          "Severe joint pain among older adults with arthritis",
          "Subjective cognitive decline or memory loss among older adults",
          "Taking medication for high blood pressure",
          "Talked with health care professional about subjective cognitive decline or memory loss",
          "Up-to-date with recommended vaccines and screenings - Men",
          "Up-to-date with recommended vaccines and screenings - Women"
         ],
         "xaxis": "x",
         "y": [
          120,
          168,
          96,
          72,
          168,
          168,
          144,
          87,
          96,
          96,
          166,
          96,
          115,
          72,
          168,
          56,
          96,
          168,
          87,
          168,
          52,
          56,
          168,
          168,
          72,
          51,
          72,
          96,
          87,
          168,
          168,
          92,
          72,
          94,
          56,
          54,
          53
         ],
         "yaxis": "y"
        },
        {
         "alignmentgroup": "True",
         "hovertemplate": "Location=Wisconsin<br>Topic=%{x}<br>Count=%{y}<extra></extra>",
         "legendgroup": "Wisconsin",
         "marker": {
          "color": "#B6E880",
          "pattern": {
           "shape": ""
          }
         },
         "name": "Wisconsin",
         "offsetgroup": "Wisconsin",
         "orientation": "v",
         "showlegend": true,
         "textposition": "auto",
         "type": "bar",
         "x": [
          "Arthritis among older adults",
          "Binge drinking within past 30 days",
          "Cholesterol checked in past 5 years",
          "Colorectal cancer screening",
          "Current smoking",
          "Diabetes screening within past 3 years",
          "Disability status, including sensory or mobility limitations",
          "Duration of caregiving among older adults",
          "Eating 2 or more fruits daily",
          "Eating 3 or more vegetables daily",
          "Ever had pneumococcal vaccine",
          "Expect to provide care for someone in the next two years",
          "Fair or poor health among older adults with arthritis",
          "Fall with injury within last year",
          "Frequent mental distress",
          "Functional difficulties associated with subjective cognitive decline or memory loss among older adults",
          "High blood pressure ever",
          "Influenza vaccine within past year",
          "Intensity of caregiving among older adults",
          "Lifetime diagnosis of depression",
          "Mammogram within past 2 years",
          "Need assistance with day-to-day activities because of subjective cognitive decline or memory loss",
          "No leisure-time physical activity within past month",
          "Obesity",
          "Oral health:  tooth retention",
          "Pap test within past 3 years",
          "Prevalence of sufficient sleep",
          "Provide care for a friend or family member in past month",
          "Provide care for someone with cognitive impairment within the past month",
          "Self-rated health (fair to poor health)",
          "Self-rated health (good to excellent health)",
          "Severe joint pain among older adults with arthritis",
          "Subjective cognitive decline or memory loss among older adults",
          "Taking medication for high blood pressure",
          "Talked with health care professional about subjective cognitive decline or memory loss",
          "Up-to-date with recommended vaccines and screenings - Men",
          "Up-to-date with recommended vaccines and screenings - Women"
         ],
         "xaxis": "x",
         "y": [
          120,
          167,
          96,
          71,
          167,
          143,
          143,
          70,
          96,
          96,
          166,
          72,
          118,
          71,
          167,
          89,
          96,
          167,
          70,
          167,
          53,
          89,
          167,
          167,
          71,
          52,
          71,
          72,
          70,
          167,
          167,
          94,
          96,
          96,
          89,
          53,
          53
         ],
         "yaxis": "y"
        },
        {
         "alignmentgroup": "True",
         "hovertemplate": "Location=Wyoming<br>Topic=%{x}<br>Count=%{y}<extra></extra>",
         "legendgroup": "Wyoming",
         "marker": {
          "color": "#FF97FF",
          "pattern": {
           "shape": ""
          }
         },
         "name": "Wyoming",
         "offsetgroup": "Wyoming",
         "orientation": "v",
         "showlegend": true,
         "textposition": "auto",
         "type": "bar",
         "x": [
          "Arthritis among older adults",
          "Binge drinking within past 30 days",
          "Cholesterol checked in past 5 years",
          "Colorectal cancer screening",
          "Current smoking",
          "Diabetes screening within past 3 years",
          "Disability status, including sensory or mobility limitations",
          "Duration of caregiving among older adults",
          "Eating 2 or more fruits daily",
          "Eating 3 or more vegetables daily",
          "Ever had pneumococcal vaccine",
          "Expect to provide care for someone in the next two years",
          "Fair or poor health among older adults with arthritis",
          "Fall with injury within last year",
          "Frequent mental distress",
          "Functional difficulties associated with subjective cognitive decline or memory loss among older adults",
          "High blood pressure ever",
          "Influenza vaccine within past year",
          "Intensity of caregiving among older adults",
          "Lifetime diagnosis of depression",
          "Mammogram within past 2 years",
          "Need assistance with day-to-day activities because of subjective cognitive decline or memory loss",
          "No leisure-time physical activity within past month",
          "Obesity",
          "Oral health:  tooth retention",
          "Pap test within past 3 years",
          "Prevalence of sufficient sleep",
          "Provide care for a friend or family member in past month",
          "Provide care for someone with cognitive impairment within the past month",
          "Self-rated health (fair to poor health)",
          "Self-rated health (good to excellent health)",
          "Severe joint pain among older adults with arthritis",
          "Subjective cognitive decline or memory loss among older adults",
          "Taking medication for high blood pressure",
          "Talked with health care professional about subjective cognitive decline or memory loss",
          "Up-to-date with recommended vaccines and screenings - Men",
          "Up-to-date with recommended vaccines and screenings - Women"
         ],
         "xaxis": "x",
         "y": [
          120,
          168,
          96,
          72,
          168,
          48,
          144,
          64,
          96,
          96,
          168,
          72,
          118,
          72,
          168,
          60,
          96,
          168,
          64,
          168,
          53,
          60,
          168,
          168,
          72,
          51,
          72,
          72,
          64,
          168,
          168,
          95,
          72,
          96,
          60,
          51,
          54
         ],
         "yaxis": "y"
        }
       ],
       "layout": {
        "barmode": "group",
        "height": 800,
        "legend": {
         "title": {
          "text": "Gender"
         },
         "tracegroupgap": 0
        },
        "template": {
         "data": {
          "bar": [
           {
            "error_x": {
             "color": "#2a3f5f"
            },
            "error_y": {
             "color": "#2a3f5f"
            },
            "marker": {
             "line": {
              "color": "#E5ECF6",
              "width": 0.5
             },
             "pattern": {
              "fillmode": "overlay",
              "size": 10,
              "solidity": 0.2
             }
            },
            "type": "bar"
           }
          ],
          "barpolar": [
           {
            "marker": {
             "line": {
              "color": "#E5ECF6",
              "width": 0.5
             },
             "pattern": {
              "fillmode": "overlay",
              "size": 10,
              "solidity": 0.2
             }
            },
            "type": "barpolar"
           }
          ],
          "carpet": [
           {
            "aaxis": {
             "endlinecolor": "#2a3f5f",
             "gridcolor": "white",
             "linecolor": "white",
             "minorgridcolor": "white",
             "startlinecolor": "#2a3f5f"
            },
            "baxis": {
             "endlinecolor": "#2a3f5f",
             "gridcolor": "white",
             "linecolor": "white",
             "minorgridcolor": "white",
             "startlinecolor": "#2a3f5f"
            },
            "type": "carpet"
           }
          ],
          "choropleth": [
           {
            "colorbar": {
             "outlinewidth": 0,
             "ticks": ""
            },
            "type": "choropleth"
           }
          ],
          "contour": [
           {
            "colorbar": {
             "outlinewidth": 0,
             "ticks": ""
            },
            "colorscale": [
             [
              0,
              "#0d0887"
             ],
             [
              0.1111111111111111,
              "#46039f"
             ],
             [
              0.2222222222222222,
              "#7201a8"
             ],
             [
              0.3333333333333333,
              "#9c179e"
             ],
             [
              0.4444444444444444,
              "#bd3786"
             ],
             [
              0.5555555555555556,
              "#d8576b"
             ],
             [
              0.6666666666666666,
              "#ed7953"
             ],
             [
              0.7777777777777778,
              "#fb9f3a"
             ],
             [
              0.8888888888888888,
              "#fdca26"
             ],
             [
              1,
              "#f0f921"
             ]
            ],
            "type": "contour"
           }
          ],
          "contourcarpet": [
           {
            "colorbar": {
             "outlinewidth": 0,
             "ticks": ""
            },
            "type": "contourcarpet"
           }
          ],
          "heatmap": [
           {
            "colorbar": {
             "outlinewidth": 0,
             "ticks": ""
            },
            "colorscale": [
             [
              0,
              "#0d0887"
             ],
             [
              0.1111111111111111,
              "#46039f"
             ],
             [
              0.2222222222222222,
              "#7201a8"
             ],
             [
              0.3333333333333333,
              "#9c179e"
             ],
             [
              0.4444444444444444,
              "#bd3786"
             ],
             [
              0.5555555555555556,
              "#d8576b"
             ],
             [
              0.6666666666666666,
              "#ed7953"
             ],
             [
              0.7777777777777778,
              "#fb9f3a"
             ],
             [
              0.8888888888888888,
              "#fdca26"
             ],
             [
              1,
              "#f0f921"
             ]
            ],
            "type": "heatmap"
           }
          ],
          "heatmapgl": [
           {
            "colorbar": {
             "outlinewidth": 0,
             "ticks": ""
            },
            "colorscale": [
             [
              0,
              "#0d0887"
             ],
             [
              0.1111111111111111,
              "#46039f"
             ],
             [
              0.2222222222222222,
              "#7201a8"
             ],
             [
              0.3333333333333333,
              "#9c179e"
             ],
             [
              0.4444444444444444,
              "#bd3786"
             ],
             [
              0.5555555555555556,
              "#d8576b"
             ],
             [
              0.6666666666666666,
              "#ed7953"
             ],
             [
              0.7777777777777778,
              "#fb9f3a"
             ],
             [
              0.8888888888888888,
              "#fdca26"
             ],
             [
              1,
              "#f0f921"
             ]
            ],
            "type": "heatmapgl"
           }
          ],
          "histogram": [
           {
            "marker": {
             "pattern": {
              "fillmode": "overlay",
              "size": 10,
              "solidity": 0.2
             }
            },
            "type": "histogram"
           }
          ],
          "histogram2d": [
           {
            "colorbar": {
             "outlinewidth": 0,
             "ticks": ""
            },
            "colorscale": [
             [
              0,
              "#0d0887"
             ],
             [
              0.1111111111111111,
              "#46039f"
             ],
             [
              0.2222222222222222,
              "#7201a8"
             ],
             [
              0.3333333333333333,
              "#9c179e"
             ],
             [
              0.4444444444444444,
              "#bd3786"
             ],
             [
              0.5555555555555556,
              "#d8576b"
             ],
             [
              0.6666666666666666,
              "#ed7953"
             ],
             [
              0.7777777777777778,
              "#fb9f3a"
             ],
             [
              0.8888888888888888,
              "#fdca26"
             ],
             [
              1,
              "#f0f921"
             ]
            ],
            "type": "histogram2d"
           }
          ],
          "histogram2dcontour": [
           {
            "colorbar": {
             "outlinewidth": 0,
             "ticks": ""
            },
            "colorscale": [
             [
              0,
              "#0d0887"
             ],
             [
              0.1111111111111111,
              "#46039f"
             ],
             [
              0.2222222222222222,
              "#7201a8"
             ],
             [
              0.3333333333333333,
              "#9c179e"
             ],
             [
              0.4444444444444444,
              "#bd3786"
             ],
             [
              0.5555555555555556,
              "#d8576b"
             ],
             [
              0.6666666666666666,
              "#ed7953"
             ],
             [
              0.7777777777777778,
              "#fb9f3a"
             ],
             [
              0.8888888888888888,
              "#fdca26"
             ],
             [
              1,
              "#f0f921"
             ]
            ],
            "type": "histogram2dcontour"
           }
          ],
          "mesh3d": [
           {
            "colorbar": {
             "outlinewidth": 0,
             "ticks": ""
            },
            "type": "mesh3d"
           }
          ],
          "parcoords": [
           {
            "line": {
             "colorbar": {
              "outlinewidth": 0,
              "ticks": ""
             }
            },
            "type": "parcoords"
           }
          ],
          "pie": [
           {
            "automargin": true,
            "type": "pie"
           }
          ],
          "scatter": [
           {
            "fillpattern": {
             "fillmode": "overlay",
             "size": 10,
             "solidity": 0.2
            },
            "type": "scatter"
           }
          ],
          "scatter3d": [
           {
            "line": {
             "colorbar": {
              "outlinewidth": 0,
              "ticks": ""
             }
            },
            "marker": {
             "colorbar": {
              "outlinewidth": 0,
              "ticks": ""
             }
            },
            "type": "scatter3d"
           }
          ],
          "scattercarpet": [
           {
            "marker": {
             "colorbar": {
              "outlinewidth": 0,
              "ticks": ""
             }
            },
            "type": "scattercarpet"
           }
          ],
          "scattergeo": [
           {
            "marker": {
             "colorbar": {
              "outlinewidth": 0,
              "ticks": ""
             }
            },
            "type": "scattergeo"
           }
          ],
          "scattergl": [
           {
            "marker": {
             "colorbar": {
              "outlinewidth": 0,
              "ticks": ""
             }
            },
            "type": "scattergl"
           }
          ],
          "scattermapbox": [
           {
            "marker": {
             "colorbar": {
              "outlinewidth": 0,
              "ticks": ""
             }
            },
            "type": "scattermapbox"
           }
          ],
          "scatterpolar": [
           {
            "marker": {
             "colorbar": {
              "outlinewidth": 0,
              "ticks": ""
             }
            },
            "type": "scatterpolar"
           }
          ],
          "scatterpolargl": [
           {
            "marker": {
             "colorbar": {
              "outlinewidth": 0,
              "ticks": ""
             }
            },
            "type": "scatterpolargl"
           }
          ],
          "scatterternary": [
           {
            "marker": {
             "colorbar": {
              "outlinewidth": 0,
              "ticks": ""
             }
            },
            "type": "scatterternary"
           }
          ],
          "surface": [
           {
            "colorbar": {
             "outlinewidth": 0,
             "ticks": ""
            },
            "colorscale": [
             [
              0,
              "#0d0887"
             ],
             [
              0.1111111111111111,
              "#46039f"
             ],
             [
              0.2222222222222222,
              "#7201a8"
             ],
             [
              0.3333333333333333,
              "#9c179e"
             ],
             [
              0.4444444444444444,
              "#bd3786"
             ],
             [
              0.5555555555555556,
              "#d8576b"
             ],
             [
              0.6666666666666666,
              "#ed7953"
             ],
             [
              0.7777777777777778,
              "#fb9f3a"
             ],
             [
              0.8888888888888888,
              "#fdca26"
             ],
             [
              1,
              "#f0f921"
             ]
            ],
            "type": "surface"
           }
          ],
          "table": [
           {
            "cells": {
             "fill": {
              "color": "#EBF0F8"
             },
             "line": {
              "color": "white"
             }
            },
            "header": {
             "fill": {
              "color": "#C8D4E3"
             },
             "line": {
              "color": "white"
             }
            },
            "type": "table"
           }
          ]
         },
         "layout": {
          "annotationdefaults": {
           "arrowcolor": "#2a3f5f",
           "arrowhead": 0,
           "arrowwidth": 1
          },
          "autotypenumbers": "strict",
          "coloraxis": {
           "colorbar": {
            "outlinewidth": 0,
            "ticks": ""
           }
          },
          "colorscale": {
           "diverging": [
            [
             0,
             "#8e0152"
            ],
            [
             0.1,
             "#c51b7d"
            ],
            [
             0.2,
             "#de77ae"
            ],
            [
             0.3,
             "#f1b6da"
            ],
            [
             0.4,
             "#fde0ef"
            ],
            [
             0.5,
             "#f7f7f7"
            ],
            [
             0.6,
             "#e6f5d0"
            ],
            [
             0.7,
             "#b8e186"
            ],
            [
             0.8,
             "#7fbc41"
            ],
            [
             0.9,
             "#4d9221"
            ],
            [
             1,
             "#276419"
            ]
           ],
           "sequential": [
            [
             0,
             "#0d0887"
            ],
            [
             0.1111111111111111,
             "#46039f"
            ],
            [
             0.2222222222222222,
             "#7201a8"
            ],
            [
             0.3333333333333333,
             "#9c179e"
            ],
            [
             0.4444444444444444,
             "#bd3786"
            ],
            [
             0.5555555555555556,
             "#d8576b"
            ],
            [
             0.6666666666666666,
             "#ed7953"
            ],
            [
             0.7777777777777778,
             "#fb9f3a"
            ],
            [
             0.8888888888888888,
             "#fdca26"
            ],
            [
             1,
             "#f0f921"
            ]
           ],
           "sequentialminus": [
            [
             0,
             "#0d0887"
            ],
            [
             0.1111111111111111,
             "#46039f"
            ],
            [
             0.2222222222222222,
             "#7201a8"
            ],
            [
             0.3333333333333333,
             "#9c179e"
            ],
            [
             0.4444444444444444,
             "#bd3786"
            ],
            [
             0.5555555555555556,
             "#d8576b"
            ],
            [
             0.6666666666666666,
             "#ed7953"
            ],
            [
             0.7777777777777778,
             "#fb9f3a"
            ],
            [
             0.8888888888888888,
             "#fdca26"
            ],
            [
             1,
             "#f0f921"
            ]
           ]
          },
          "colorway": [
           "#636efa",
           "#EF553B",
           "#00cc96",
           "#ab63fa",
           "#FFA15A",
           "#19d3f3",
           "#FF6692",
           "#B6E880",
           "#FF97FF",
           "#FECB52"
          ],
          "font": {
           "color": "#2a3f5f"
          },
          "geo": {
           "bgcolor": "white",
           "lakecolor": "white",
           "landcolor": "#E5ECF6",
           "showlakes": true,
           "showland": true,
           "subunitcolor": "white"
          },
          "hoverlabel": {
           "align": "left"
          },
          "hovermode": "closest",
          "mapbox": {
           "style": "light"
          },
          "paper_bgcolor": "white",
          "plot_bgcolor": "#E5ECF6",
          "polar": {
           "angularaxis": {
            "gridcolor": "white",
            "linecolor": "white",
            "ticks": ""
           },
           "bgcolor": "#E5ECF6",
           "radialaxis": {
            "gridcolor": "white",
            "linecolor": "white",
            "ticks": ""
           }
          },
          "scene": {
           "xaxis": {
            "backgroundcolor": "#E5ECF6",
            "gridcolor": "white",
            "gridwidth": 2,
            "linecolor": "white",
            "showbackground": true,
            "ticks": "",
            "zerolinecolor": "white"
           },
           "yaxis": {
            "backgroundcolor": "#E5ECF6",
            "gridcolor": "white",
            "gridwidth": 2,
            "linecolor": "white",
            "showbackground": true,
            "ticks": "",
            "zerolinecolor": "white"
           },
           "zaxis": {
            "backgroundcolor": "#E5ECF6",
            "gridcolor": "white",
            "gridwidth": 2,
            "linecolor": "white",
            "showbackground": true,
            "ticks": "",
            "zerolinecolor": "white"
           }
          },
          "shapedefaults": {
           "line": {
            "color": "#2a3f5f"
           }
          },
          "ternary": {
           "aaxis": {
            "gridcolor": "white",
            "linecolor": "white",
            "ticks": ""
           },
           "baxis": {
            "gridcolor": "white",
            "linecolor": "white",
            "ticks": ""
           },
           "bgcolor": "#E5ECF6",
           "caxis": {
            "gridcolor": "white",
            "linecolor": "white",
            "ticks": ""
           }
          },
          "title": {
           "x": 0.05
          },
          "xaxis": {
           "automargin": true,
           "gridcolor": "white",
           "linecolor": "white",
           "ticks": "",
           "title": {
            "standoff": 15
           },
           "zerolinecolor": "white",
           "zerolinewidth": 2
          },
          "yaxis": {
           "automargin": true,
           "gridcolor": "white",
           "linecolor": "white",
           "ticks": "",
           "title": {
            "standoff": 15
           },
           "zerolinecolor": "white",
           "zerolinewidth": 2
          }
         }
        },
        "title": {
         "text": "Topics Divided by Location"
        },
        "width": 1300,
        "xaxis": {
         "anchor": "y",
         "domain": [
          0,
          1
         ],
         "tickangle": -45,
         "title": {
          "text": "Topic"
         }
        },
        "yaxis": {
         "anchor": "x",
         "domain": [
          0,
          1
         ],
         "title": {
          "text": "Count"
         }
        }
       }
      }
     },
     "metadata": {},
     "output_type": "display_data"
    }
   ],
   "source": [
    "# Interactice bar chart for analizing topics by LocationDesc:\n",
    "\n",
    "topics_by_location = data_cleaned_percent.groupby(['Topic', 'LocationDesc']).size().unstack()\n",
    "topics_by_location_long = topics_by_location.reset_index().melt(id_vars='Topic', var_name='Location', value_name='Count')\n",
    "\n",
    "# Create the bar chart\n",
    "fig = px.bar(topics_by_location_long, x='Topic', y='Count', color='Location', \n",
    "             title='Topics Divided by Location',\n",
    "             labels={'Count':'Count', 'Topic':'Topic'},\n",
    "             barmode='group')\n",
    "\n",
    "# Update layout\n",
    "fig.update_layout(xaxis_title='Topic',\n",
    "                  yaxis_title='Count',\n",
    "                  legend_title='Gender',\n",
    "                  xaxis_tickangle=-45,\n",
    "                  width=1300,\n",
    "                  height=800\n",
    "                  )\n",
    "\n",
    "# Show the interactive plot\n",
    "fig.show()"
   ]
  },
  {
   "cell_type": "code",
   "execution_count": 147,
   "id": "9da71360",
   "metadata": {},
   "outputs": [
    {
     "data": {
      "text/html": [
       "<div>\n",
       "<style scoped>\n",
       "    .dataframe tbody tr th:only-of-type {\n",
       "        vertical-align: middle;\n",
       "    }\n",
       "\n",
       "    .dataframe tbody tr th {\n",
       "        vertical-align: top;\n",
       "    }\n",
       "\n",
       "    .dataframe thead th {\n",
       "        text-align: right;\n",
       "    }\n",
       "</style>\n",
       "<table border=\"1\" class=\"dataframe\">\n",
       "  <thead>\n",
       "    <tr style=\"text-align: right;\">\n",
       "      <th></th>\n",
       "      <th>Topic</th>\n",
       "      <th>Location</th>\n",
       "      <th>Count</th>\n",
       "    </tr>\n",
       "  </thead>\n",
       "  <tbody>\n",
       "    <tr>\n",
       "      <th>1924</th>\n",
       "      <td>Arthritis among older adults</td>\n",
       "      <td>Virgin Islands</td>\n",
       "      <td>24.0</td>\n",
       "    </tr>\n",
       "    <tr>\n",
       "      <th>1925</th>\n",
       "      <td>Binge drinking within past 30 days</td>\n",
       "      <td>Virgin Islands</td>\n",
       "      <td>48.0</td>\n",
       "    </tr>\n",
       "    <tr>\n",
       "      <th>1926</th>\n",
       "      <td>Cholesterol checked in past 5 years</td>\n",
       "      <td>Virgin Islands</td>\n",
       "      <td>24.0</td>\n",
       "    </tr>\n",
       "    <tr>\n",
       "      <th>1927</th>\n",
       "      <td>Colorectal cancer screening</td>\n",
       "      <td>Virgin Islands</td>\n",
       "      <td>24.0</td>\n",
       "    </tr>\n",
       "    <tr>\n",
       "      <th>1928</th>\n",
       "      <td>Current smoking</td>\n",
       "      <td>Virgin Islands</td>\n",
       "      <td>48.0</td>\n",
       "    </tr>\n",
       "    <tr>\n",
       "      <th>1929</th>\n",
       "      <td>Diabetes screening within past 3 years</td>\n",
       "      <td>Virgin Islands</td>\n",
       "      <td>48.0</td>\n",
       "    </tr>\n",
       "    <tr>\n",
       "      <th>1930</th>\n",
       "      <td>Disability status, including sensory or mobility limitations</td>\n",
       "      <td>Virgin Islands</td>\n",
       "      <td>48.0</td>\n",
       "    </tr>\n",
       "    <tr>\n",
       "      <th>1931</th>\n",
       "      <td>Duration of caregiving among older adults</td>\n",
       "      <td>Virgin Islands</td>\n",
       "      <td>NaN</td>\n",
       "    </tr>\n",
       "    <tr>\n",
       "      <th>1932</th>\n",
       "      <td>Eating 2 or more fruits daily</td>\n",
       "      <td>Virgin Islands</td>\n",
       "      <td>24.0</td>\n",
       "    </tr>\n",
       "    <tr>\n",
       "      <th>1933</th>\n",
       "      <td>Eating 3 or more vegetables daily</td>\n",
       "      <td>Virgin Islands</td>\n",
       "      <td>24.0</td>\n",
       "    </tr>\n",
       "    <tr>\n",
       "      <th>1934</th>\n",
       "      <td>Ever had pneumococcal vaccine</td>\n",
       "      <td>Virgin Islands</td>\n",
       "      <td>47.0</td>\n",
       "    </tr>\n",
       "    <tr>\n",
       "      <th>1935</th>\n",
       "      <td>Expect to provide care for someone in the next two years</td>\n",
       "      <td>Virgin Islands</td>\n",
       "      <td>NaN</td>\n",
       "    </tr>\n",
       "    <tr>\n",
       "      <th>1936</th>\n",
       "      <td>Fair or poor health among older adults with arthritis</td>\n",
       "      <td>Virgin Islands</td>\n",
       "      <td>23.0</td>\n",
       "    </tr>\n",
       "    <tr>\n",
       "      <th>1937</th>\n",
       "      <td>Fall with injury within last year</td>\n",
       "      <td>Virgin Islands</td>\n",
       "      <td>24.0</td>\n",
       "    </tr>\n",
       "    <tr>\n",
       "      <th>1938</th>\n",
       "      <td>Frequent mental distress</td>\n",
       "      <td>Virgin Islands</td>\n",
       "      <td>48.0</td>\n",
       "    </tr>\n",
       "    <tr>\n",
       "      <th>1939</th>\n",
       "      <td>Functional difficulties associated with subjective cognitive decline or memory loss among older adults</td>\n",
       "      <td>Virgin Islands</td>\n",
       "      <td>NaN</td>\n",
       "    </tr>\n",
       "    <tr>\n",
       "      <th>1940</th>\n",
       "      <td>High blood pressure ever</td>\n",
       "      <td>Virgin Islands</td>\n",
       "      <td>24.0</td>\n",
       "    </tr>\n",
       "    <tr>\n",
       "      <th>1941</th>\n",
       "      <td>Influenza vaccine within past year</td>\n",
       "      <td>Virgin Islands</td>\n",
       "      <td>48.0</td>\n",
       "    </tr>\n",
       "    <tr>\n",
       "      <th>1942</th>\n",
       "      <td>Intensity of caregiving among older adults</td>\n",
       "      <td>Virgin Islands</td>\n",
       "      <td>NaN</td>\n",
       "    </tr>\n",
       "    <tr>\n",
       "      <th>1943</th>\n",
       "      <td>Lifetime diagnosis of depression</td>\n",
       "      <td>Virgin Islands</td>\n",
       "      <td>48.0</td>\n",
       "    </tr>\n",
       "    <tr>\n",
       "      <th>1944</th>\n",
       "      <td>Mammogram within past 2 years</td>\n",
       "      <td>Virgin Islands</td>\n",
       "      <td>18.0</td>\n",
       "    </tr>\n",
       "    <tr>\n",
       "      <th>1945</th>\n",
       "      <td>Need assistance with day-to-day activities because of subjective cognitive decline or memory loss</td>\n",
       "      <td>Virgin Islands</td>\n",
       "      <td>NaN</td>\n",
       "    </tr>\n",
       "    <tr>\n",
       "      <th>1946</th>\n",
       "      <td>No leisure-time physical activity within past month</td>\n",
       "      <td>Virgin Islands</td>\n",
       "      <td>48.0</td>\n",
       "    </tr>\n",
       "    <tr>\n",
       "      <th>1947</th>\n",
       "      <td>Obesity</td>\n",
       "      <td>Virgin Islands</td>\n",
       "      <td>48.0</td>\n",
       "    </tr>\n",
       "    <tr>\n",
       "      <th>1948</th>\n",
       "      <td>Oral health:  tooth retention</td>\n",
       "      <td>Virgin Islands</td>\n",
       "      <td>24.0</td>\n",
       "    </tr>\n",
       "    <tr>\n",
       "      <th>1949</th>\n",
       "      <td>Pap test within past 3 years</td>\n",
       "      <td>Virgin Islands</td>\n",
       "      <td>18.0</td>\n",
       "    </tr>\n",
       "    <tr>\n",
       "      <th>1950</th>\n",
       "      <td>Prevalence of sufficient sleep</td>\n",
       "      <td>Virgin Islands</td>\n",
       "      <td>24.0</td>\n",
       "    </tr>\n",
       "    <tr>\n",
       "      <th>1951</th>\n",
       "      <td>Provide care for a friend or family member in past month</td>\n",
       "      <td>Virgin Islands</td>\n",
       "      <td>NaN</td>\n",
       "    </tr>\n",
       "    <tr>\n",
       "      <th>1952</th>\n",
       "      <td>Provide care for someone with cognitive impairment within the past month</td>\n",
       "      <td>Virgin Islands</td>\n",
       "      <td>NaN</td>\n",
       "    </tr>\n",
       "    <tr>\n",
       "      <th>1953</th>\n",
       "      <td>Self-rated health (fair to poor health)</td>\n",
       "      <td>Virgin Islands</td>\n",
       "      <td>48.0</td>\n",
       "    </tr>\n",
       "    <tr>\n",
       "      <th>1954</th>\n",
       "      <td>Self-rated health (good to excellent health)</td>\n",
       "      <td>Virgin Islands</td>\n",
       "      <td>48.0</td>\n",
       "    </tr>\n",
       "    <tr>\n",
       "      <th>1955</th>\n",
       "      <td>Severe joint pain among older adults with arthritis</td>\n",
       "      <td>Virgin Islands</td>\n",
       "      <td>23.0</td>\n",
       "    </tr>\n",
       "    <tr>\n",
       "      <th>1956</th>\n",
       "      <td>Subjective cognitive decline or memory loss among older adults</td>\n",
       "      <td>Virgin Islands</td>\n",
       "      <td>NaN</td>\n",
       "    </tr>\n",
       "    <tr>\n",
       "      <th>1957</th>\n",
       "      <td>Taking medication for high blood pressure</td>\n",
       "      <td>Virgin Islands</td>\n",
       "      <td>22.0</td>\n",
       "    </tr>\n",
       "    <tr>\n",
       "      <th>1958</th>\n",
       "      <td>Talked with health care professional about subjective cognitive decline or memory loss</td>\n",
       "      <td>Virgin Islands</td>\n",
       "      <td>NaN</td>\n",
       "    </tr>\n",
       "    <tr>\n",
       "      <th>1959</th>\n",
       "      <td>Up-to-date with recommended vaccines and screenings - Men</td>\n",
       "      <td>Virgin Islands</td>\n",
       "      <td>17.0</td>\n",
       "    </tr>\n",
       "    <tr>\n",
       "      <th>1960</th>\n",
       "      <td>Up-to-date with recommended vaccines and screenings - Women</td>\n",
       "      <td>Virgin Islands</td>\n",
       "      <td>18.0</td>\n",
       "    </tr>\n",
       "  </tbody>\n",
       "</table>\n",
       "</div>"
      ],
      "text/plain": [
       "                                                                                                       Topic  \\\n",
       "1924                                                                            Arthritis among older adults   \n",
       "1925                                                                      Binge drinking within past 30 days   \n",
       "1926                                                                     Cholesterol checked in past 5 years   \n",
       "1927                                                                             Colorectal cancer screening   \n",
       "1928                                                                                         Current smoking   \n",
       "1929                                                                  Diabetes screening within past 3 years   \n",
       "1930                                            Disability status, including sensory or mobility limitations   \n",
       "1931                                                               Duration of caregiving among older adults   \n",
       "1932                                                                           Eating 2 or more fruits daily   \n",
       "1933                                                                       Eating 3 or more vegetables daily   \n",
       "1934                                                                           Ever had pneumococcal vaccine   \n",
       "1935                                                Expect to provide care for someone in the next two years   \n",
       "1936                                                   Fair or poor health among older adults with arthritis   \n",
       "1937                                                                       Fall with injury within last year   \n",
       "1938                                                                                Frequent mental distress   \n",
       "1939  Functional difficulties associated with subjective cognitive decline or memory loss among older adults   \n",
       "1940                                                                                High blood pressure ever   \n",
       "1941                                                                      Influenza vaccine within past year   \n",
       "1942                                                              Intensity of caregiving among older adults   \n",
       "1943                                                                        Lifetime diagnosis of depression   \n",
       "1944                                                                           Mammogram within past 2 years   \n",
       "1945       Need assistance with day-to-day activities because of subjective cognitive decline or memory loss   \n",
       "1946                                                     No leisure-time physical activity within past month   \n",
       "1947                                                                                                 Obesity   \n",
       "1948                                                                           Oral health:  tooth retention   \n",
       "1949                                                                            Pap test within past 3 years   \n",
       "1950                                                                          Prevalence of sufficient sleep   \n",
       "1951                                                Provide care for a friend or family member in past month   \n",
       "1952                                Provide care for someone with cognitive impairment within the past month   \n",
       "1953                                                                 Self-rated health (fair to poor health)   \n",
       "1954                                                            Self-rated health (good to excellent health)   \n",
       "1955                                                     Severe joint pain among older adults with arthritis   \n",
       "1956                                          Subjective cognitive decline or memory loss among older adults   \n",
       "1957                                                               Taking medication for high blood pressure   \n",
       "1958                  Talked with health care professional about subjective cognitive decline or memory loss   \n",
       "1959                                               Up-to-date with recommended vaccines and screenings - Men   \n",
       "1960                                             Up-to-date with recommended vaccines and screenings - Women   \n",
       "\n",
       "            Location  Count  \n",
       "1924  Virgin Islands   24.0  \n",
       "1925  Virgin Islands   48.0  \n",
       "1926  Virgin Islands   24.0  \n",
       "1927  Virgin Islands   24.0  \n",
       "1928  Virgin Islands   48.0  \n",
       "1929  Virgin Islands   48.0  \n",
       "1930  Virgin Islands   48.0  \n",
       "1931  Virgin Islands    NaN  \n",
       "1932  Virgin Islands   24.0  \n",
       "1933  Virgin Islands   24.0  \n",
       "1934  Virgin Islands   47.0  \n",
       "1935  Virgin Islands    NaN  \n",
       "1936  Virgin Islands   23.0  \n",
       "1937  Virgin Islands   24.0  \n",
       "1938  Virgin Islands   48.0  \n",
       "1939  Virgin Islands    NaN  \n",
       "1940  Virgin Islands   24.0  \n",
       "1941  Virgin Islands   48.0  \n",
       "1942  Virgin Islands    NaN  \n",
       "1943  Virgin Islands   48.0  \n",
       "1944  Virgin Islands   18.0  \n",
       "1945  Virgin Islands    NaN  \n",
       "1946  Virgin Islands   48.0  \n",
       "1947  Virgin Islands   48.0  \n",
       "1948  Virgin Islands   24.0  \n",
       "1949  Virgin Islands   18.0  \n",
       "1950  Virgin Islands   24.0  \n",
       "1951  Virgin Islands    NaN  \n",
       "1952  Virgin Islands    NaN  \n",
       "1953  Virgin Islands   48.0  \n",
       "1954  Virgin Islands   48.0  \n",
       "1955  Virgin Islands   23.0  \n",
       "1956  Virgin Islands    NaN  \n",
       "1957  Virgin Islands   22.0  \n",
       "1958  Virgin Islands    NaN  \n",
       "1959  Virgin Islands   17.0  \n",
       "1960  Virgin Islands   18.0  "
      ]
     },
     "execution_count": 147,
     "metadata": {},
     "output_type": "execute_result"
    }
   ],
   "source": [
    "# Analizing which locations have the lowest and highest count by topic\n",
    "topic_count_min = topics_by_location_long['Count'].min()\n",
    "topic_count_max = topics_by_location_long['Count'].max()\n",
    "\n",
    "topics_by_location_long[topics_by_location_long['Count'] == topic_count_min]\n",
    "topics_by_location_long[topics_by_location_long['Location'] == 'Virgin Islands']\n",
    "\n",
    "# topics_by_location_long[topics_by_location_long['Count'] == topic_count_max]"
   ]
  },
  {
   "cell_type": "markdown",
   "id": "277ea477-7d0c-407b-970e-212d64b5ec94",
   "metadata": {},
   "source": [
    "## E3 - Formulate hypotheses\n",
    "\n",
    "*Note: Read this section entirely and understand it - every group member.*\n",
    "\n",
    "A hypothesis is an idea or explanation for something that is based on known facts but has not yet been proved. A hypothesis is a compact, concise statement, such as: \"Individuals with higher income have (on average) more offspring.\", that will be answered based on facts (the data). https://gradcoach.com/what-is-a-research-hypothesis-or-scientific-hypothesis/\n",
    "\n",
    "Formulate 5 non-trivial hypotheses, 1 per group member, and regard the following criteria: \n",
    "- State the hypothesis explicitly in concise language. \n",
    "- The hypothesis must be **motivated** by either **EDA results** or **literature** (citation in the report needed).\n",
    "- The hypothesis must refer to **endpoints** that are **testable**. Specifically, the endpoint must be derived from the data.\n",
    "- Think of real-life use cases/consequences of your results (textual description). \n",
    "- For each hypothesis explain all executed steps. \n",
    "- In case of extreme or implausible results check the validity of your data.\n",
    "- For each hypothesis export the artifacts (figures, tables, etc.) required for the report.\n",
    "- If you decide to use a statistical test, use it properly. In particular, check the validity and comparability of the samples.\n",
    "\n",
    "Do not:\n",
    "- State nebulous, vague hypotheses. These don't contain endpoints and are unclear to test (i.e., answer).\n",
    "- Use post-hoc hypotheses. Portraying an empirically inspired **post hoc hypothesis as a priori** violates the **falsification principle** crucial for hypothesis-driven (that is, confirmatory) empirical research. Falsification is severe scientific fraud.\n",
    "- State trivial hypotheses (e.g., hypthesis 2: \"Not Hypothesis 1\").\n",
    "- Answer based on \"common knowledge\".\n",
    "- Try to **produce positively tested hypotheses**. If a well motivated hypothesis is negative, this is an important finding (see Simpson's Paradox). The value of a tested hypothesis lies in the information or learning it provides.\n",
    "\n",
    "Example: The homework with Simpson's Paradox. The pooled overall comparison between the genders would be the EDA motivating the hypothesis: \"At UC Berkeley the by-department admissions rate for females is lower than for males.\" It should be tested using samples of department admission rates for the 2 **groups** male and female. No steps of the test should be done in EDA (or a priory to stating the hypothesis). The groups should be compared graphically, e.g., via a stripplot overlayed with a boxplot. The figure should be labelled properly and exported for the report. A (paired) t-test *may* be used to test this hypothesis statistically. For different data (e.g., time series) different approaches may be required.\n"
   ]
  },
  {
   "cell_type": "markdown",
   "id": "09613f9f-d3ff-4b8d-b975-88437a72815c",
   "metadata": {},
   "source": [
    "### E3-H1: \"xxx\"\n",
    "Author: Group member 1\n"
   ]
  },
  {
   "cell_type": "code",
   "execution_count": null,
   "id": "702cdce9-5d4f-41f3-8b9e-a4363ec5d8d5",
   "metadata": {},
   "outputs": [],
   "source": []
  },
  {
   "cell_type": "markdown",
   "id": "8a404fa7-19f3-49bc-adc7-9a6ae07da0c9",
   "metadata": {},
   "source": [
    "### E3-H2: \"xxx\"\n",
    "Author: Group member 2\n",
    "\n"
   ]
  },
  {
   "cell_type": "code",
   "execution_count": null,
   "id": "4a3711e0-13d6-4115-9d64-c9f154d27f7f",
   "metadata": {},
   "outputs": [],
   "source": []
  },
  {
   "cell_type": "markdown",
   "id": "70e60944-b857-4a32-872a-6db028c51c87",
   "metadata": {
    "tags": []
   },
   "source": [
    "### E3-H3: \"xxx\"\n",
    "Author: Group member 3\n"
   ]
  },
  {
   "cell_type": "code",
   "execution_count": null,
   "id": "6bf1314d-47bb-4440-90f9-bef900320597",
   "metadata": {},
   "outputs": [],
   "source": []
  },
  {
   "cell_type": "markdown",
   "id": "ede91b90-ee3d-40c0-b2c4-4712413fe0e6",
   "metadata": {
    "tags": []
   },
   "source": [
    "### E3-H4: \"People among the study, which taking blood medications tend to have arthritis\"\n",
    "Author: Stefan Bartl\n"
   ]
  },
  {
   "cell_type": "markdown",
   "id": "b233459b",
   "metadata": {},
   "source": [
    "In the first step, the neccesary data need to be filtered. In case of this hypothesis, we need top extract two dataframes. On the one hand we have the arthritis data, and on the other the blood pressure medication. Both variables which needs to be observed (`Data_Value`) are in percentage. To get a first impression of the data, a 5-point analysis is made."
   ]
  },
  {
   "cell_type": "code",
   "execution_count": 148,
   "id": "710a7064-05e8-4d52-9c1b-a6dcd143a4ae",
   "metadata": {},
   "outputs": [
    {
     "data": {
      "text/html": [
       "<div>\n",
       "<style scoped>\n",
       "    .dataframe tbody tr th:only-of-type {\n",
       "        vertical-align: middle;\n",
       "    }\n",
       "\n",
       "    .dataframe tbody tr th {\n",
       "        vertical-align: top;\n",
       "    }\n",
       "\n",
       "    .dataframe thead th {\n",
       "        text-align: right;\n",
       "    }\n",
       "</style>\n",
       "<table border=\"1\" class=\"dataframe\">\n",
       "  <thead>\n",
       "    <tr style=\"text-align: right;\">\n",
       "      <th></th>\n",
       "      <th>Arthritis</th>\n",
       "      <th>Blood Med</th>\n",
       "    </tr>\n",
       "  </thead>\n",
       "  <tbody>\n",
       "    <tr>\n",
       "      <th>count</th>\n",
       "      <td>5015.000000</td>\n",
       "      <td>3727.000000</td>\n",
       "    </tr>\n",
       "    <tr>\n",
       "      <th>mean</th>\n",
       "      <td>41.897368</td>\n",
       "      <td>87.457124</td>\n",
       "    </tr>\n",
       "    <tr>\n",
       "      <th>std</th>\n",
       "      <td>9.677711</td>\n",
       "      <td>5.713117</td>\n",
       "    </tr>\n",
       "    <tr>\n",
       "      <th>min</th>\n",
       "      <td>9.500000</td>\n",
       "      <td>63.600000</td>\n",
       "    </tr>\n",
       "    <tr>\n",
       "      <th>25%</th>\n",
       "      <td>35.100000</td>\n",
       "      <td>84.000000</td>\n",
       "    </tr>\n",
       "    <tr>\n",
       "      <th>50%</th>\n",
       "      <td>42.100000</td>\n",
       "      <td>88.400000</td>\n",
       "    </tr>\n",
       "    <tr>\n",
       "      <th>75%</th>\n",
       "      <td>49.000000</td>\n",
       "      <td>91.900000</td>\n",
       "    </tr>\n",
       "    <tr>\n",
       "      <th>max</th>\n",
       "      <td>76.300000</td>\n",
       "      <td>99.600000</td>\n",
       "    </tr>\n",
       "  </tbody>\n",
       "</table>\n",
       "</div>"
      ],
      "text/plain": [
       "         Arthritis    Blood Med\n",
       "count  5015.000000  3727.000000\n",
       "mean     41.897368    87.457124\n",
       "std       9.677711     5.713117\n",
       "min       9.500000    63.600000\n",
       "25%      35.100000    84.000000\n",
       "50%      42.100000    88.400000\n",
       "75%      49.000000    91.900000\n",
       "max      76.300000    99.600000"
      ]
     },
     "execution_count": 148,
     "metadata": {},
     "output_type": "execute_result"
    }
   ],
   "source": [
    "arthritis_data = data_cleaned[data_cleaned['Topic'].str.contains('Arthritis among older adults', case=False)]\n",
    "blood_medication_data = data_cleaned[data_cleaned['Topic'].str.contains('Taking medication for high blood pressure', case=False)]\n",
    "\n",
    "#arthritis_data = data_cleaned[data_cleaned[\"Topic\"] == \"Arthritis among older adults\"]\n",
    "#blood_medication_data = data_cleaned[data_cleaned[\"Topic\"] == \"Taking medication for high blood pressure\"]\n",
    "pd.DataFrame({\"Arthritis\": arthritis_data[\"Data_Value\"].describe(), \"Blood Med\":blood_medication_data[\"Data_Value\"].describe()})"
   ]
  },
  {
   "cell_type": "markdown",
   "id": "dc8e14f6",
   "metadata": {},
   "source": [
    "To get a first glimpes of the data, a histogram is displayed. The distribution of arthritis seems to be like normailzed (gausian bell curve). Blood medication data has a very slight rightward steepness."
   ]
  },
  {
   "cell_type": "code",
   "execution_count": 149,
   "id": "175fbf1d",
   "metadata": {},
   "outputs": [
    {
     "name": "stderr",
     "output_type": "stream",
     "text": [
      "c:\\Users\\sbart\\anaconda3\\Lib\\site-packages\\seaborn\\_oldcore.py:1498: FutureWarning:\n",
      "\n",
      "is_categorical_dtype is deprecated and will be removed in a future version. Use isinstance(dtype, CategoricalDtype) instead\n",
      "\n",
      "c:\\Users\\sbart\\anaconda3\\Lib\\site-packages\\seaborn\\_oldcore.py:1119: FutureWarning:\n",
      "\n",
      "use_inf_as_na option is deprecated and will be removed in a future version. Convert inf values to NaN before operating instead.\n",
      "\n",
      "c:\\Users\\sbart\\anaconda3\\Lib\\site-packages\\seaborn\\_oldcore.py:1498: FutureWarning:\n",
      "\n",
      "is_categorical_dtype is deprecated and will be removed in a future version. Use isinstance(dtype, CategoricalDtype) instead\n",
      "\n",
      "c:\\Users\\sbart\\anaconda3\\Lib\\site-packages\\seaborn\\_oldcore.py:1119: FutureWarning:\n",
      "\n",
      "use_inf_as_na option is deprecated and will be removed in a future version. Convert inf values to NaN before operating instead.\n",
      "\n"
     ]
    },
    {
     "data": {
      "image/png": "[encoded data removed]",
      "text/plain": [
       "<Figure size 1000x600 with 1 Axes>"
      ]
     },
     "metadata": {},
     "output_type": "display_data"
    }
   ],
   "source": [
    "plt.figure(figsize=(10, 6))\n",
    "\n",
    "sns.histplot(arthritis_data[\"Data_Value\"],kde=True ,label=\"Arthritis Data\", color=\"blue\", alpha=0.7)\n",
    "sns.histplot(blood_medication_data[\"Data_Value\"], kde=True, label=\"Blood Medication Data\", color=\"orange\", alpha=0.7)\n",
    "plt.legend()\n",
    "\n",
    "plt.xlabel(\"Data Value in %\")\n",
    "plt.ylabel(\"Frequency\")\n",
    "plt.title(\"Histograms of Arthritis and Blood Medication Data\")\n",
    "\n",
    "plt.show()"
   ]
  },
  {
   "cell_type": "markdown",
   "id": "1a211e94",
   "metadata": {},
   "source": [
    "To see if there are any outliers, the visualization of a bloxplot is the best choice. As you can see in the following plot, we have no outliers in the dataset."
   ]
  },
  {
   "cell_type": "code",
   "execution_count": 150,
   "id": "9a3853f2",
   "metadata": {},
   "outputs": [
    {
     "name": "stderr",
     "output_type": "stream",
     "text": [
      "c:\\Users\\sbart\\anaconda3\\Lib\\site-packages\\seaborn\\_oldcore.py:1498: FutureWarning:\n",
      "\n",
      "is_categorical_dtype is deprecated and will be removed in a future version. Use isinstance(dtype, CategoricalDtype) instead\n",
      "\n",
      "c:\\Users\\sbart\\anaconda3\\Lib\\site-packages\\seaborn\\_oldcore.py:1498: FutureWarning:\n",
      "\n",
      "is_categorical_dtype is deprecated and will be removed in a future version. Use isinstance(dtype, CategoricalDtype) instead\n",
      "\n"
     ]
    },
    {
     "data": {
      "image/png": "[encoded data removed]",
      "text/plain": [
       "<Figure size 1200x400 with 2 Axes>"
      ]
     },
     "metadata": {},
     "output_type": "display_data"
    }
   ],
   "source": [
    "plt.figure(figsize=(12, 4))\n",
    "\n",
    "plt.subplot(2, 1, 1)\n",
    "sns.boxplot(\n",
    "    data=arthritis_data, x=\"Data_Value\",\n",
    "    whis=[0, 100], width=.6, color=\"blue\"\n",
    ")\n",
    "plt.title('Arthritis Data')\n",
    "plt.xlabel('Arthritis %')\n",
    "\n",
    "plt.subplot(2, 1, 2)\n",
    "sns.boxplot(\n",
    "    data=blood_medication_data, x=\"Data_Value\",\n",
    "    whis=[0, 100], width=.6, color=\"blue\"\n",
    ")\n",
    "plt.title('Blood Medication Data')\n",
    "plt.xlabel('Blood Medication %')\n",
    "\n",
    "plt.tight_layout()\n",
    "plt.show()"
   ]
  },
  {
   "cell_type": "markdown",
   "id": "9d4f5c53",
   "metadata": {},
   "source": [
    "To work with clean data, all values in arthritis & blood_medication dataframe which have `NAN` values will be dropped. To display the result of the data with its corresponending regression line, a regplot is implemented."
   ]
  },
  {
   "cell_type": "code",
   "execution_count": 186,
   "id": "dd20f7ff",
   "metadata": {},
   "outputs": [
    {
     "data": {
      "image/png": "[encoded data removed]",
      "text/plain": [
       "<Figure size 640x480 with 1 Axes>"
      ]
     },
     "metadata": {},
     "output_type": "display_data"
    }
   ],
   "source": [
    "# Drop NAN values in Data_Value\n",
    "arthritis_data = arthritis_data.dropna(subset=['Data_Value'])\n",
    "blood_medication_data = blood_medication_data.dropna(subset=['Data_Value'])\n",
    "\n",
    "# groupby Location and get the mean of Data_Value\n",
    "avg_arthritis = arthritis_data.groupby('LocationAbbr')['Data_Value'].mean()\n",
    "avg_blood_medication = blood_medication_data.groupby('LocationAbbr')['Data_Value'].mean()\n",
    "\n",
    "# Create a dataframe with the average values\n",
    "df_avg = pd.DataFrame({'Average Arthritis': avg_arthritis, 'Average Blood Medication': avg_blood_medication})\n",
    "\n",
    "# Plot scatter plot with regression line and confidence interval\n",
    "sns.regplot(data=df_avg, x='Average Arthritis', y='Average Blood Medication' ,ci=95, fit_reg=True, line_kws={'color':'red'}, truncate=True)\n",
    "plt.xlabel('Avg Arthritis %')\n",
    "plt.ylabel('Avg Blood Medication %')\n",
    "plt.title('Relation between Arthritis and Blood Medication')\n",
    "plt.legend(['Data Points', \"Reg Line, 95% CI\"])\n",
    "plt.show()\n"
   ]
  },
  {
   "cell_type": "code",
   "execution_count": 188,
   "id": "4fea4e5e",
   "metadata": {},
   "outputs": [
    {
     "data": {
      "text/plain": [
       "(0.5331657905685198, 1.3763625482131733e-05)"
      ]
     },
     "execution_count": 188,
     "metadata": {},
     "output_type": "execute_result"
    }
   ],
   "source": [
    "correlation_coefficient, p_value = stats.pearsonr(avg_arthritis, avg_blood_medication)\n",
    "correlation_coefficient, p_value"
   ]
  },
  {
   "cell_type": "markdown",
   "id": "4dcd5510",
   "metadata": {},
   "source": [
    "The p-value is under the significance level of 0.025 (95% CI). So there is a coorelation between the variables."
   ]
  },
  {
   "cell_type": "markdown",
   "id": "5da06647-b803-4ad3-8e40-b372cf7044df",
   "metadata": {
    "tags": []
   },
   "source": [
    "### E3-H5: \"Higher rates of frequent mental distress are associated with lower rates of binge drinking.\"\n",
    "Author: Martin Siska"
   ]
  },
  {
   "cell_type": "code",
   "execution_count": 152,
   "id": "9f174ed8-3291-4b1e-80a3-ea441b7efc19",
   "metadata": {},
   "outputs": [
    {
     "data": {
      "image/png": "[encoded data removed]",
      "text/plain": [
       "<Figure size 1000x600 with 1 Axes>"
      ]
     },
     "metadata": {},
     "output_type": "display_data"
    }
   ],
   "source": [
    "mental_distress_data = data_cleaned[data_cleaned['Topic'].str.contains('Frequent Mental Distress', case=False)]\n",
    "binge_drinking_data = data_cleaned[data_cleaned['Topic'].str.contains('Binge Drinking within Past 30 Days', case=False)]\n",
    "\n",
    "# Initializing lists to store the average values for each topic across all states\n",
    "average_mental_distress = []\n",
    "average_binge_drinking = []\n",
    "\n",
    "# Looping through each state to calculate the average for each topic\n",
    "# This loop is necessary because we are performing a merge operation for each state separately.\n",
    "for state in data_cleaned['LocationAbbr'].unique():\n",
    "    state_mental_distress = mental_distress_data[mental_distress_data['LocationAbbr'] == state]\n",
    "    state_binge_drinking = binge_drinking_data[binge_drinking_data['LocationAbbr'] == state]\n",
    "\n",
    "    # We check each state individually because data availability may vary by state,\n",
    "    # and it impacts whether we can include the state in the correlation analysis.\n",
    "    if not state_mental_distress.empty and not state_binge_drinking.empty:\n",
    "        average_mental_distress.append(state_mental_distress['Data_Value'].mean())\n",
    "        average_binge_drinking.append(state_binge_drinking['Data_Value'].mean())\n",
    "\n",
    "slope, intercept, r_value, p_value, std_err = stats.linregress(average_mental_distress, average_binge_drinking)\n",
    "\n",
    "# Create arrays for the regression line\n",
    "x = np.array(average_mental_distress)\n",
    "y = np.array(average_binge_drinking)\n",
    "x_reg = np.linspace(x.min(), x.max(),100)\n",
    "y_reg = slope * x_reg + intercept\n",
    "\n",
    "# Calculate the prediction interval\n",
    "pred_error = y - (slope * x + intercept)\n",
    "degrees_of_freedom = len(x) - 2\n",
    "residual_std_error = np.sqrt(np.sum(pred_error**2) / degrees_of_freedom)\n",
    "t_stat = stats.t.ppf(1-0.025, df=degrees_of_freedom)  # 2-tailed t-statistic for 95% CI\n",
    "conf_interval = t_stat * residual_std_error * np.sqrt(1/len(x) + (x_reg - np.mean(x))**2 / np.sum((x - np.mean(x))**2))\n",
    "\n",
    "# Creating scatter plot with regression line and confidence interval of 95%\n",
    "plt.figure(figsize=(10, 6))\n",
    "\n",
    "plt.scatter(x, y, label='Data Points')\n",
    "plt.plot(x_reg, y_reg, color='red', label='Regression Line')\n",
    "\n",
    "# Filling the confidence interval\n",
    "plt.fill_between(x_reg, y_reg - conf_interval, y_reg + conf_interval, color='blue', alpha=0.2, label='95% Confidence Interval')\n",
    "\n",
    "# Adding labels and title\n",
    "plt.title('Correlation Between Frequent Mental Distress and Binge Drinking Rates')\n",
    "plt.xlabel('Average Frequent Mental Distress Rate (%)')\n",
    "plt.ylabel('Average Binge Drinking Rate (%)')\n",
    "plt.legend()\n",
    "plt.grid(True)\n",
    "plt.show()"
   ]
  },
  {
   "cell_type": "code",
   "execution_count": 153,
   "id": "c9707454",
   "metadata": {},
   "outputs": [
    {
     "data": {
      "text/plain": [
       "(-0.5604272688588308, 3.913373536014943e-06)"
      ]
     },
     "execution_count": 153,
     "metadata": {},
     "output_type": "execute_result"
    }
   ],
   "source": [
    "correlation_coefficient, p_value = stats.pearsonr(average_mental_distress, average_binge_drinking)\n",
    "\n",
    "correlation_coefficient, p_value\n",
    "\n",
    "# The Pearson correlation coefficient between average rates of 'Frequent Mental Distress' and 'Binge Drinking' is approximately -0.56,\n",
    "# and the p-value is approximately 0.0000039. This p-value is much lower than the significance level of 0.025 that is alpha for 95% confidence interval,\n",
    "# indicating that the negative correlation between the two variables is statistically significant. "
   ]
  }
 ],
 "metadata": {
  "kernelspec": {
   "display_name": "MYENV",
   "language": "python",
   "name": "myenv"
  },
  "language_info": {
   "codemirror_mode": {
    "name": "ipython",
    "version": 3
   },
   "file_extension": ".py",
   "mimetype": "text/x-python",
   "name": "python",
   "nbconvert_exporter": "python",
   "pygments_lexer": "ipython3",
   "version": "3.11.5"
  }
 },
 "nbformat": 4,
 "nbformat_minor": 5
}
